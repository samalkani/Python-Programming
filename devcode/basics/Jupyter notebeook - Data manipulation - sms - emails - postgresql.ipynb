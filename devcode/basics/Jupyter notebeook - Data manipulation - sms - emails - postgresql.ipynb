{
 "cells": [
  {
   "cell_type": "code",
   "execution_count": 6,
   "id": "7498b3ec",
   "metadata": {},
   "outputs": [
    {
     "name": "stdout",
     "output_type": "stream",
     "text": [
      " Le volume dans le lecteur C s'appelle OS\n",
      " Le num‚ro de s‚rie du volume est D61C-07F3\n",
      "\n",
      " R‚pertoire de C:\\Users\\rbaud\\Desktop\\webscraping\n",
      "\n",
      "12/01/2022  13:36    <DIR>          .\n",
      "12/01/2022  13:36    <DIR>          ..\n",
      "12/01/2022  13:20    <DIR>          .ipynb_checkpoints\n",
      "12/01/2022  13:22            11ÿ466 leads.xlsx\n",
      "12/01/2022  13:17                 0 modifying.py\n",
      "12/01/2022  13:36             1ÿ658 Untitled.ipynb\n",
      "               3 fichier(s)           13ÿ124 octets\n",
      "               3 R‚p(s)  17ÿ826ÿ062ÿ336 octets libres\n"
     ]
    }
   ],
   "source": [
    "ls"
   ]
  },
  {
   "cell_type": "code",
   "execution_count": 4,
   "id": "61eb0b11",
   "metadata": {},
   "outputs": [],
   "source": [
    "import pandas as pd "
   ]
  },
  {
   "cell_type": "code",
   "execution_count": 16,
   "id": "f424023e",
   "metadata": {},
   "outputs": [],
   "source": [
    "excel = pd.read_excel('leads.xlsx')"
   ]
  },
  {
   "cell_type": "code",
   "execution_count": 17,
   "id": "802641d0",
   "metadata": {},
   "outputs": [
    {
     "data": {
      "text/html": [
       "<div>\n",
       "<style scoped>\n",
       "    .dataframe tbody tr th:only-of-type {\n",
       "        vertical-align: middle;\n",
       "    }\n",
       "\n",
       "    .dataframe tbody tr th {\n",
       "        vertical-align: top;\n",
       "    }\n",
       "\n",
       "    .dataframe thead th {\n",
       "        text-align: right;\n",
       "    }\n",
       "</style>\n",
       "<table border=\"1\" class=\"dataframe\">\n",
       "  <thead>\n",
       "    <tr style=\"text-align: right;\">\n",
       "      <th></th>\n",
       "      <th>Firstname</th>\n",
       "      <th>Name</th>\n",
       "      <th>Position</th>\n",
       "      <th>email</th>\n",
       "    </tr>\n",
       "  </thead>\n",
       "  <tbody>\n",
       "    <tr>\n",
       "      <th>0</th>\n",
       "      <td>Wilfried</td>\n",
       "      <td>Fourcade</td>\n",
       "      <td>Directeur Financier Régional</td>\n",
       "      <td>wfourcade@cogedim.com</td>\n",
       "    </tr>\n",
       "    <tr>\n",
       "      <th>1</th>\n",
       "      <td>Yves</td>\n",
       "      <td>Marion</td>\n",
       "      <td>Directeur Des Ressources Humaines Chez Coveris...</td>\n",
       "      <td>yves.marion@coveris.com</td>\n",
       "    </tr>\n",
       "    <tr>\n",
       "      <th>2</th>\n",
       "      <td>Stéphane</td>\n",
       "      <td>Pageot</td>\n",
       "      <td>Responsable Contrôle Financier</td>\n",
       "      <td>s.pageot@bouygues-construction.com</td>\n",
       "    </tr>\n",
       "    <tr>\n",
       "      <th>3</th>\n",
       "      <td>Lisa</td>\n",
       "      <td>Guillon</td>\n",
       "      <td>Contrôleur de Gestion</td>\n",
       "      <td>lisa.guillon@croix-rouge.fr</td>\n",
       "    </tr>\n",
       "    <tr>\n",
       "      <th>4</th>\n",
       "      <td>Marc</td>\n",
       "      <td>Jacobs</td>\n",
       "      <td>Directeur Des Ressources Humaines Chez Armor</td>\n",
       "      <td>marc.jacobs@armor-group.com</td>\n",
       "    </tr>\n",
       "    <tr>\n",
       "      <th>5</th>\n",
       "      <td>Christophe</td>\n",
       "      <td>Bailliez</td>\n",
       "      <td>Directeur Financier</td>\n",
       "      <td>test@bailize.com</td>\n",
       "    </tr>\n",
       "    <tr>\n",
       "      <th>6</th>\n",
       "      <td>Bruno</td>\n",
       "      <td>Touzard</td>\n",
       "      <td>Responsable du Contrôle Financier</td>\n",
       "      <td>b.touzard@bouygues-construction.com</td>\n",
       "    </tr>\n",
       "    <tr>\n",
       "      <th>7</th>\n",
       "      <td>Clément</td>\n",
       "      <td>Hugo</td>\n",
       "      <td>Responsable Administratif et Financier</td>\n",
       "      <td>chugo@citya.com</td>\n",
       "    </tr>\n",
       "    <tr>\n",
       "      <th>8</th>\n",
       "      <td>Karine</td>\n",
       "      <td>Marchand</td>\n",
       "      <td>Human Resources Director</td>\n",
       "      <td>kmarchand@altarea.com</td>\n",
       "    </tr>\n",
       "  </tbody>\n",
       "</table>\n",
       "</div>"
      ],
      "text/plain": [
       "    Firstname      Name                                           Position  \\\n",
       "0    Wilfried  Fourcade                       Directeur Financier Régional   \n",
       "1        Yves    Marion  Directeur Des Ressources Humaines Chez Coveris...   \n",
       "2    Stéphane    Pageot                     Responsable Contrôle Financier   \n",
       "3        Lisa   Guillon                              Contrôleur de Gestion   \n",
       "4        Marc    Jacobs       Directeur Des Ressources Humaines Chez Armor   \n",
       "5  Christophe  Bailliez                                Directeur Financier   \n",
       "6       Bruno   Touzard                  Responsable du Contrôle Financier   \n",
       "7     Clément      Hugo             Responsable Administratif et Financier   \n",
       "8      Karine  Marchand                           Human Resources Director   \n",
       "\n",
       "                                 email  \n",
       "0                wfourcade@cogedim.com  \n",
       "1              yves.marion@coveris.com  \n",
       "2   s.pageot@bouygues-construction.com  \n",
       "3          lisa.guillon@croix-rouge.fr  \n",
       "4          marc.jacobs@armor-group.com  \n",
       "5                     test@bailize.com  \n",
       "6  b.touzard@bouygues-construction.com  \n",
       "7                      chugo@citya.com  \n",
       "8                kmarchand@altarea.com  "
      ]
     },
     "execution_count": 17,
     "metadata": {},
     "output_type": "execute_result"
    }
   ],
   "source": [
    "excel"
   ]
  },
  {
   "cell_type": "code",
   "execution_count": 18,
   "id": "710f9b07",
   "metadata": {},
   "outputs": [],
   "source": [
    "firstname = \"dfskmldf\"\n",
    "name = \"sfjslfj\"\n",
    "position = \"sdmflmsff\"\n",
    "email = \"fjsflfj\""
   ]
  },
  {
   "cell_type": "code",
   "execution_count": 24,
   "id": "7876cd1a",
   "metadata": {},
   "outputs": [],
   "source": [
    "excel = excel.append(pd.Series([firstname, name, position, email], index=excel.columns), ignore_index=True)"
   ]
  },
  {
   "cell_type": "code",
   "execution_count": 25,
   "id": "44560c0b",
   "metadata": {},
   "outputs": [
    {
     "data": {
      "text/html": [
       "<div>\n",
       "<style scoped>\n",
       "    .dataframe tbody tr th:only-of-type {\n",
       "        vertical-align: middle;\n",
       "    }\n",
       "\n",
       "    .dataframe tbody tr th {\n",
       "        vertical-align: top;\n",
       "    }\n",
       "\n",
       "    .dataframe thead th {\n",
       "        text-align: right;\n",
       "    }\n",
       "</style>\n",
       "<table border=\"1\" class=\"dataframe\">\n",
       "  <thead>\n",
       "    <tr style=\"text-align: right;\">\n",
       "      <th></th>\n",
       "      <th>Firstname</th>\n",
       "      <th>Name</th>\n",
       "      <th>Position</th>\n",
       "      <th>email</th>\n",
       "    </tr>\n",
       "  </thead>\n",
       "  <tbody>\n",
       "    <tr>\n",
       "      <th>0</th>\n",
       "      <td>Wilfried</td>\n",
       "      <td>Fourcade</td>\n",
       "      <td>Directeur Financier Régional</td>\n",
       "      <td>wfourcade@cogedim.com</td>\n",
       "    </tr>\n",
       "    <tr>\n",
       "      <th>1</th>\n",
       "      <td>Yves</td>\n",
       "      <td>Marion</td>\n",
       "      <td>Directeur Des Ressources Humaines Chez Coveris...</td>\n",
       "      <td>yves.marion@coveris.com</td>\n",
       "    </tr>\n",
       "    <tr>\n",
       "      <th>2</th>\n",
       "      <td>Stéphane</td>\n",
       "      <td>Pageot</td>\n",
       "      <td>Responsable Contrôle Financier</td>\n",
       "      <td>s.pageot@bouygues-construction.com</td>\n",
       "    </tr>\n",
       "    <tr>\n",
       "      <th>3</th>\n",
       "      <td>Lisa</td>\n",
       "      <td>Guillon</td>\n",
       "      <td>Contrôleur de Gestion</td>\n",
       "      <td>lisa.guillon@croix-rouge.fr</td>\n",
       "    </tr>\n",
       "    <tr>\n",
       "      <th>4</th>\n",
       "      <td>Marc</td>\n",
       "      <td>Jacobs</td>\n",
       "      <td>Directeur Des Ressources Humaines Chez Armor</td>\n",
       "      <td>marc.jacobs@armor-group.com</td>\n",
       "    </tr>\n",
       "    <tr>\n",
       "      <th>5</th>\n",
       "      <td>Christophe</td>\n",
       "      <td>Bailliez</td>\n",
       "      <td>Directeur Financier</td>\n",
       "      <td>test@bailize.com</td>\n",
       "    </tr>\n",
       "    <tr>\n",
       "      <th>6</th>\n",
       "      <td>Bruno</td>\n",
       "      <td>Touzard</td>\n",
       "      <td>Responsable du Contrôle Financier</td>\n",
       "      <td>b.touzard@bouygues-construction.com</td>\n",
       "    </tr>\n",
       "    <tr>\n",
       "      <th>7</th>\n",
       "      <td>Clément</td>\n",
       "      <td>Hugo</td>\n",
       "      <td>Responsable Administratif et Financier</td>\n",
       "      <td>chugo@citya.com</td>\n",
       "    </tr>\n",
       "    <tr>\n",
       "      <th>8</th>\n",
       "      <td>Karine</td>\n",
       "      <td>Marchand</td>\n",
       "      <td>Human Resources Director</td>\n",
       "      <td>kmarchand@altarea.com</td>\n",
       "    </tr>\n",
       "    <tr>\n",
       "      <th>9</th>\n",
       "      <td>dfskmldf</td>\n",
       "      <td>sfjslfj</td>\n",
       "      <td>sdmflmsff</td>\n",
       "      <td>fjsflfj</td>\n",
       "    </tr>\n",
       "  </tbody>\n",
       "</table>\n",
       "</div>"
      ],
      "text/plain": [
       "    Firstname      Name                                           Position  \\\n",
       "0    Wilfried  Fourcade                       Directeur Financier Régional   \n",
       "1        Yves    Marion  Directeur Des Ressources Humaines Chez Coveris...   \n",
       "2    Stéphane    Pageot                     Responsable Contrôle Financier   \n",
       "3        Lisa   Guillon                              Contrôleur de Gestion   \n",
       "4        Marc    Jacobs       Directeur Des Ressources Humaines Chez Armor   \n",
       "5  Christophe  Bailliez                                Directeur Financier   \n",
       "6       Bruno   Touzard                  Responsable du Contrôle Financier   \n",
       "7     Clément      Hugo             Responsable Administratif et Financier   \n",
       "8      Karine  Marchand                           Human Resources Director   \n",
       "9    dfskmldf   sfjslfj                                          sdmflmsff   \n",
       "\n",
       "                                 email  \n",
       "0                wfourcade@cogedim.com  \n",
       "1              yves.marion@coveris.com  \n",
       "2   s.pageot@bouygues-construction.com  \n",
       "3          lisa.guillon@croix-rouge.fr  \n",
       "4          marc.jacobs@armor-group.com  \n",
       "5                     test@bailize.com  \n",
       "6  b.touzard@bouygues-construction.com  \n",
       "7                      chugo@citya.com  \n",
       "8                kmarchand@altarea.com  \n",
       "9                              fjsflfj  "
      ]
     },
     "execution_count": 25,
     "metadata": {},
     "output_type": "execute_result"
    }
   ],
   "source": [
    "excel"
   ]
  },
  {
   "cell_type": "code",
   "execution_count": 28,
   "id": "a0676398",
   "metadata": {},
   "outputs": [],
   "source": [
    "excel['Position'][excel.email == 'kmarchand@altarea.com'] = \"CEO\""
   ]
  },
  {
   "cell_type": "code",
   "execution_count": 29,
   "id": "878ffc1f",
   "metadata": {},
   "outputs": [
    {
     "data": {
      "text/html": [
       "<div>\n",
       "<style scoped>\n",
       "    .dataframe tbody tr th:only-of-type {\n",
       "        vertical-align: middle;\n",
       "    }\n",
       "\n",
       "    .dataframe tbody tr th {\n",
       "        vertical-align: top;\n",
       "    }\n",
       "\n",
       "    .dataframe thead th {\n",
       "        text-align: right;\n",
       "    }\n",
       "</style>\n",
       "<table border=\"1\" class=\"dataframe\">\n",
       "  <thead>\n",
       "    <tr style=\"text-align: right;\">\n",
       "      <th></th>\n",
       "      <th>Firstname</th>\n",
       "      <th>Name</th>\n",
       "      <th>Position</th>\n",
       "      <th>email</th>\n",
       "    </tr>\n",
       "  </thead>\n",
       "  <tbody>\n",
       "    <tr>\n",
       "      <th>0</th>\n",
       "      <td>Wilfried</td>\n",
       "      <td>Fourcade</td>\n",
       "      <td>Directeur Financier Régional</td>\n",
       "      <td>wfourcade@cogedim.com</td>\n",
       "    </tr>\n",
       "    <tr>\n",
       "      <th>1</th>\n",
       "      <td>Yves</td>\n",
       "      <td>Marion</td>\n",
       "      <td>Directeur Des Ressources Humaines Chez Coveris...</td>\n",
       "      <td>yves.marion@coveris.com</td>\n",
       "    </tr>\n",
       "    <tr>\n",
       "      <th>2</th>\n",
       "      <td>Stéphane</td>\n",
       "      <td>Pageot</td>\n",
       "      <td>Responsable Contrôle Financier</td>\n",
       "      <td>s.pageot@bouygues-construction.com</td>\n",
       "    </tr>\n",
       "    <tr>\n",
       "      <th>3</th>\n",
       "      <td>Lisa</td>\n",
       "      <td>Guillon</td>\n",
       "      <td>Contrôleur de Gestion</td>\n",
       "      <td>lisa.guillon@croix-rouge.fr</td>\n",
       "    </tr>\n",
       "    <tr>\n",
       "      <th>4</th>\n",
       "      <td>Marc</td>\n",
       "      <td>Jacobs</td>\n",
       "      <td>Directeur Des Ressources Humaines Chez Armor</td>\n",
       "      <td>marc.jacobs@armor-group.com</td>\n",
       "    </tr>\n",
       "    <tr>\n",
       "      <th>5</th>\n",
       "      <td>Christophe</td>\n",
       "      <td>Bailliez</td>\n",
       "      <td>Directeur Financier</td>\n",
       "      <td>test@bailize.com</td>\n",
       "    </tr>\n",
       "    <tr>\n",
       "      <th>6</th>\n",
       "      <td>Bruno</td>\n",
       "      <td>Touzard</td>\n",
       "      <td>Responsable du Contrôle Financier</td>\n",
       "      <td>b.touzard@bouygues-construction.com</td>\n",
       "    </tr>\n",
       "    <tr>\n",
       "      <th>7</th>\n",
       "      <td>Clément</td>\n",
       "      <td>Hugo</td>\n",
       "      <td>Responsable Administratif et Financier</td>\n",
       "      <td>chugo@citya.com</td>\n",
       "    </tr>\n",
       "    <tr>\n",
       "      <th>8</th>\n",
       "      <td>Karine</td>\n",
       "      <td>Marchand</td>\n",
       "      <td>CEO</td>\n",
       "      <td>kmarchand@altarea.com</td>\n",
       "    </tr>\n",
       "    <tr>\n",
       "      <th>9</th>\n",
       "      <td>dfskmldf</td>\n",
       "      <td>sfjslfj</td>\n",
       "      <td>sdmflmsff</td>\n",
       "      <td>fjsflfj</td>\n",
       "    </tr>\n",
       "  </tbody>\n",
       "</table>\n",
       "</div>"
      ],
      "text/plain": [
       "    Firstname      Name                                           Position  \\\n",
       "0    Wilfried  Fourcade                       Directeur Financier Régional   \n",
       "1        Yves    Marion  Directeur Des Ressources Humaines Chez Coveris...   \n",
       "2    Stéphane    Pageot                     Responsable Contrôle Financier   \n",
       "3        Lisa   Guillon                              Contrôleur de Gestion   \n",
       "4        Marc    Jacobs       Directeur Des Ressources Humaines Chez Armor   \n",
       "5  Christophe  Bailliez                                Directeur Financier   \n",
       "6       Bruno   Touzard                  Responsable du Contrôle Financier   \n",
       "7     Clément      Hugo             Responsable Administratif et Financier   \n",
       "8      Karine  Marchand                                                CEO   \n",
       "9    dfskmldf   sfjslfj                                          sdmflmsff   \n",
       "\n",
       "                                 email  \n",
       "0                wfourcade@cogedim.com  \n",
       "1              yves.marion@coveris.com  \n",
       "2   s.pageot@bouygues-construction.com  \n",
       "3          lisa.guillon@croix-rouge.fr  \n",
       "4          marc.jacobs@armor-group.com  \n",
       "5                     test@bailize.com  \n",
       "6  b.touzard@bouygues-construction.com  \n",
       "7                      chugo@citya.com  \n",
       "8                kmarchand@altarea.com  \n",
       "9                              fjsflfj  "
      ]
     },
     "execution_count": 29,
     "metadata": {},
     "output_type": "execute_result"
    }
   ],
   "source": [
    "excel"
   ]
  },
  {
   "cell_type": "code",
   "execution_count": 30,
   "id": "dcf0927f",
   "metadata": {},
   "outputs": [],
   "source": [
    "excel.to_csv('filename.csv')"
   ]
  },
  {
   "cell_type": "code",
   "execution_count": 45,
   "id": "b6cef804",
   "metadata": {},
   "outputs": [],
   "source": [
    "excel.to_excel('{}-leads.xlsx'.format(str(datetime.datetime.utcnow())[:10]))"
   ]
  },
  {
   "cell_type": "code",
   "execution_count": 32,
   "id": "035f6315",
   "metadata": {},
   "outputs": [],
   "source": [
    "import datetime"
   ]
  },
  {
   "cell_type": "code",
   "execution_count": 43,
   "id": "56165070",
   "metadata": {},
   "outputs": [
    {
     "data": {
      "text/plain": [
       "'2022-01-12 12:54:23.479391'"
      ]
     },
     "execution_count": 43,
     "metadata": {},
     "output_type": "execute_result"
    }
   ],
   "source": [
    "str(datetime.datetime.utcnow())"
   ]
  },
  {
   "cell_type": "code",
   "execution_count": null,
   "id": "ea57c500",
   "metadata": {},
   "outputs": [],
   "source": []
  },
  {
   "cell_type": "code",
   "execution_count": null,
   "id": "47bc3a86",
   "metadata": {},
   "outputs": [],
   "source": [
    "df = pd.DataFrame()"
   ]
  },
  {
   "cell_type": "code",
   "execution_count": 46,
   "id": "6dc0f52e",
   "metadata": {},
   "outputs": [],
   "source": [
    "df = pd.DataFrame(data, columns=['Firstname','Name','Position','Email'])"
   ]
  },
  {
   "cell_type": "code",
   "execution_count": 47,
   "id": "aebc3da0",
   "metadata": {},
   "outputs": [
    {
     "data": {
      "text/html": [
       "<div>\n",
       "<style scoped>\n",
       "    .dataframe tbody tr th:only-of-type {\n",
       "        vertical-align: middle;\n",
       "    }\n",
       "\n",
       "    .dataframe tbody tr th {\n",
       "        vertical-align: top;\n",
       "    }\n",
       "\n",
       "    .dataframe thead th {\n",
       "        text-align: right;\n",
       "    }\n",
       "</style>\n",
       "<table border=\"1\" class=\"dataframe\">\n",
       "  <thead>\n",
       "    <tr style=\"text-align: right;\">\n",
       "      <th></th>\n",
       "      <th>Firstname</th>\n",
       "      <th>Name</th>\n",
       "      <th>Position</th>\n",
       "      <th>Email</th>\n",
       "    </tr>\n",
       "  </thead>\n",
       "  <tbody>\n",
       "  </tbody>\n",
       "</table>\n",
       "</div>"
      ],
      "text/plain": [
       "Empty DataFrame\n",
       "Columns: [Firstname, Name, Position, Email]\n",
       "Index: []"
      ]
     },
     "execution_count": 47,
     "metadata": {},
     "output_type": "execute_result"
    }
   ],
   "source": [
    "df"
   ]
  },
  {
   "cell_type": "code",
   "execution_count": 48,
   "id": "7019210c",
   "metadata": {},
   "outputs": [],
   "source": [
    "df = df.append(pd.Series([firstname, name, position, email], index=df.columns), ignore_index=True)"
   ]
  },
  {
   "cell_type": "code",
   "execution_count": 49,
   "id": "cf86a86c",
   "metadata": {},
   "outputs": [
    {
     "data": {
      "text/html": [
       "<div>\n",
       "<style scoped>\n",
       "    .dataframe tbody tr th:only-of-type {\n",
       "        vertical-align: middle;\n",
       "    }\n",
       "\n",
       "    .dataframe tbody tr th {\n",
       "        vertical-align: top;\n",
       "    }\n",
       "\n",
       "    .dataframe thead th {\n",
       "        text-align: right;\n",
       "    }\n",
       "</style>\n",
       "<table border=\"1\" class=\"dataframe\">\n",
       "  <thead>\n",
       "    <tr style=\"text-align: right;\">\n",
       "      <th></th>\n",
       "      <th>Firstname</th>\n",
       "      <th>Name</th>\n",
       "      <th>Position</th>\n",
       "      <th>Email</th>\n",
       "    </tr>\n",
       "  </thead>\n",
       "  <tbody>\n",
       "    <tr>\n",
       "      <th>0</th>\n",
       "      <td>dfskmldf</td>\n",
       "      <td>sfjslfj</td>\n",
       "      <td>sdmflmsff</td>\n",
       "      <td>fjsflfj</td>\n",
       "    </tr>\n",
       "  </tbody>\n",
       "</table>\n",
       "</div>"
      ],
      "text/plain": [
       "  Firstname     Name   Position    Email\n",
       "0  dfskmldf  sfjslfj  sdmflmsff  fjsflfj"
      ]
     },
     "execution_count": 49,
     "metadata": {},
     "output_type": "execute_result"
    }
   ],
   "source": [
    "df"
   ]
  },
  {
   "cell_type": "code",
   "execution_count": 51,
   "id": "2abb123f",
   "metadata": {},
   "outputs": [],
   "source": [
    "data = [\n",
    "    ['first', 'name', 'CEO', 'email@.com'],\n",
    "    ['first', 'name', 'CEO', 'email@.com']\n",
    "    \n",
    "    \n",
    "]"
   ]
  },
  {
   "cell_type": "code",
   "execution_count": null,
   "id": "ef42a6a6",
   "metadata": {},
   "outputs": [],
   "source": []
  },
  {
   "cell_type": "code",
   "execution_count": 52,
   "id": "f0a1757b",
   "metadata": {},
   "outputs": [],
   "source": [
    "df2 = pd.DataFrame(data, columns=['Firstname','Name','Position','Email'])"
   ]
  },
  {
   "cell_type": "code",
   "execution_count": 53,
   "id": "6affa487",
   "metadata": {},
   "outputs": [
    {
     "data": {
      "text/html": [
       "<div>\n",
       "<style scoped>\n",
       "    .dataframe tbody tr th:only-of-type {\n",
       "        vertical-align: middle;\n",
       "    }\n",
       "\n",
       "    .dataframe tbody tr th {\n",
       "        vertical-align: top;\n",
       "    }\n",
       "\n",
       "    .dataframe thead th {\n",
       "        text-align: right;\n",
       "    }\n",
       "</style>\n",
       "<table border=\"1\" class=\"dataframe\">\n",
       "  <thead>\n",
       "    <tr style=\"text-align: right;\">\n",
       "      <th></th>\n",
       "      <th>Firstname</th>\n",
       "      <th>Name</th>\n",
       "      <th>Position</th>\n",
       "      <th>Email</th>\n",
       "    </tr>\n",
       "  </thead>\n",
       "  <tbody>\n",
       "    <tr>\n",
       "      <th>0</th>\n",
       "      <td>first</td>\n",
       "      <td>name</td>\n",
       "      <td>CEO</td>\n",
       "      <td>email@.com</td>\n",
       "    </tr>\n",
       "    <tr>\n",
       "      <th>1</th>\n",
       "      <td>first</td>\n",
       "      <td>name</td>\n",
       "      <td>CEO</td>\n",
       "      <td>email@.com</td>\n",
       "    </tr>\n",
       "  </tbody>\n",
       "</table>\n",
       "</div>"
      ],
      "text/plain": [
       "  Firstname  Name Position       Email\n",
       "0     first  name      CEO  email@.com\n",
       "1     first  name      CEO  email@.com"
      ]
     },
     "execution_count": 53,
     "metadata": {},
     "output_type": "execute_result"
    }
   ],
   "source": [
    "df2"
   ]
  },
  {
   "cell_type": "code",
   "execution_count": 55,
   "id": "1aef8c33",
   "metadata": {},
   "outputs": [
    {
     "name": "stdout",
     "output_type": "stream",
     "text": [
      "Requirement already satisfied: pandas in c:\\users\\rbaud\\anaconda3\\lib\\site-packages (1.2.4)\n",
      "Requirement already satisfied: python-dateutil>=2.7.3 in c:\\users\\rbaud\\anaconda3\\lib\\site-packages (from pandas) (2.8.1)\n",
      "Requirement already satisfied: pytz>=2017.3 in c:\\users\\rbaud\\anaconda3\\lib\\site-packages (from pandas) (2021.1)\n",
      "Requirement already satisfied: numpy>=1.16.5 in c:\\users\\rbaud\\anaconda3\\lib\\site-packages (from pandas) (1.20.1)\n",
      "Requirement already satisfied: six>=1.5 in c:\\users\\rbaud\\anaconda3\\lib\\site-packages (from python-dateutil>=2.7.3->pandas) (1.15.0)\n",
      "Note: you may need to restart the kernel to use updated packages.\n"
     ]
    }
   ],
   "source": [
    "pip install pandas"
   ]
  },
  {
   "cell_type": "code",
   "execution_count": 54,
   "id": "1dd126c0",
   "metadata": {},
   "outputs": [],
   "source": [
    "import requests"
   ]
  },
  {
   "cell_type": "code",
   "execution_count": 56,
   "id": "cf94e66c",
   "metadata": {},
   "outputs": [],
   "source": [
    "data = requests.get('https://api.github.com/events')"
   ]
  },
  {
   "cell_type": "code",
   "execution_count": 58,
   "id": "be1d2c11",
   "metadata": {},
   "outputs": [
    {
     "data": {
      "text/plain": [
       "'[{\"id\":\"19696951221\",\"type\":\"CreateEvent\",\"actor\":{\"id\":83525132,\"login\":\"moostofa\",\"display_login\":\"moostofa\",\"gravatar_id\":\"\",\"url\":\"https://api.github.com/users/moostofa\",\"avatar_url\":\"https://avatars.githubusercontent.com/u/83525132?\"},\"repo\":{\"id\":447222381,\"name\":\"moostofa/foodislife\",\"url\":\"https://api.github.com/repos/moostofa/foodislife\"},\"payload\":{\"ref\":\"main\",\"ref_type\":\"branch\",\"master_branch\":\"main\",\"description\":null,\"pusher_type\":\"user\"},\"public\":true,\"created_at\":\"2022-01-12T13:09:56Z\"},{\"id\":\"19696951212\",\"type\":\"PushEvent\",\"actor\":{\"id\":61050719,\"login\":\"MikeOliwa\",\"display_login\":\"MikeOliwa\",\"gravatar_id\":\"\",\"url\":\"https://api.github.com/users/MikeOliwa\",\"avatar_url\":\"https://avatars.githubusercontent.com/u/61050719?\"},\"repo\":{\"id\":427104045,\"name\":\"MikeOliwa/Rhisermiser\",\"url\":\"https://api.github.com/repos/MikeOliwa/Rhisermiser\"},\"payload\":{\"push_id\":8817178513,\"size\":1,\"distinct_size\":1,\"ref\":\"refs/heads/main\",\"head\":\"e6452b80743ed3817813e65972d6323b4562f46a\",\"before\":\"eba7c2d955cc6e189addc594a53e97f129c824cd\",\"commits\":[{\"sha\":\"e6452b80743ed3817813e65972d6323b4562f46a\",\"author\":{\"email\":\"61050719+MikeOliwa@users.noreply.github.com\",\"name\":\"MikeOliwa\"},\"message\":\"Update README.md\",\"distinct\":true,\"url\":\"https://api.github.com/repos/MikeOliwa/Rhisermiser/commits/e6452b80743ed3817813e65972d6323b4562f46a\"}]},\"public\":true,\"created_at\":\"2022-01-12T13:09:56Z\"},{\"id\":\"19696951240\",\"type\":\"CreateEvent\",\"actor\":{\"id\":93274656,\"login\":\"wwwwzzs\",\"display_login\":\"wwwwzzs\",\"gravatar_id\":\"\",\"url\":\"https://api.github.com/users/wwwwzzs\",\"avatar_url\":\"https://avatars.githubusercontent.com/u/93274656?\"},\"repo\":{\"id\":421877303,\"name\":\"wwwwzzs/wwepic\",\"url\":\"https://api.github.com/repos/wwwwzzs/wwepic\"},\"payload\":{\"ref\":\"latest\",\"ref_type\":\"tag\",\"master_branch\":\"main\",\"description\":null,\"pusher_type\":\"user\"},\"public\":true,\"created_at\":\"2022-01-12T13:09:56Z\"},{\"id\":\"19696951201\",\"type\":\"PushEvent\",\"actor\":{\"id\":41898282,\"login\":\"github-actions[bot]\",\"display_login\":\"github-actions\",\"gravatar_id\":\"\",\"url\":\"https://api.github.com/users/github-actions[bot]\",\"avatar_url\":\"https://avatars.githubusercontent.com/u/41898282?\"},\"repo\":{\"id\":435008297,\"name\":\"ThiagoDevSantos/ThiagoDevSantos\",\"url\":\"https://api.github.com/repos/ThiagoDevSantos/ThiagoDevSantos\"},\"payload\":{\"push_id\":8817178491,\"size\":1,\"distinct_size\":1,\"ref\":\"refs/heads/output\",\"head\":\"a3aa3eec6b5e3830f9f65646ff6014d59a9c42db\",\"before\":\"ff9c2bd6547ccd69db60c0e313ff6b17e8fcb025\",\"commits\":[{\"sha\":\"a3aa3eec6b5e3830f9f65646ff6014d59a9c42db\",\"author\":{\"email\":\"41898282+github-actions[bot]@users.noreply.github.com\",\"name\":\"github-actions[bot]\"},\"message\":\"Deploy to GitHub pages\",\"distinct\":true,\"url\":\"https://api.github.com/repos/ThiagoDevSantos/ThiagoDevSantos/commits/a3aa3eec6b5e3830f9f65646ff6014d59a9c42db\"}]},\"public\":true,\"created_at\":\"2022-01-12T13:09:56Z\"},{\"id\":\"19696951202\",\"type\":\"PushEvent\",\"actor\":{\"id\":9805224,\"login\":\"Vinpasso\",\"display_login\":\"Vinpasso\",\"gravatar_id\":\"\",\"url\":\"https://api.github.com/users/Vinpasso\",\"avatar_url\":\"https://avatars.githubusercontent.com/u/9805224?\"},\"repo\":{\"id\":445284149,\"name\":\"Vinpasso/autofarm\",\"url\":\"https://api.github.com/repos/Vinpasso/autofarm\"},\"payload\":{\"push_id\":8817178495,\"size\":1,\"distinct_size\":1,\"ref\":\"refs/heads/main\",\"head\":\"cfc0653d902d823d8e143a4cd720547ca7613988\",\"before\":\"5d5e32b9ec4d572aaf0c92a10ab8e9fedacd24d8\",\"commits\":[{\"sha\":\"cfc0653d902d823d8e143a4cd720547ca7613988\",\"author\":{\"email\":\"Vinpasso@users.noreply.github.com\",\"name\":\"Vinpasso\"},\"message\":\"Add cmake tests to github actions\",\"distinct\":true,\"url\":\"https://api.github.com/repos/Vinpasso/autofarm/commits/cfc0653d902d823d8e143a4cd720547ca7613988\"}]},\"public\":true,\"created_at\":\"2022-01-12T13:09:56Z\"},{\"id\":\"19696951169\",\"type\":\"PushEvent\",\"actor\":{\"id\":36701083,\"login\":\"deborapr\",\"display_login\":\"deborapr\",\"gravatar_id\":\"\",\"url\":\"https://api.github.com/users/deborapr\",\"avatar_url\":\"https://avatars.githubusercontent.com/u/36701083?\"},\"repo\":{\"id\":397747346,\"name\":\"deborapr/mito-nuclear-speciation\",\"url\":\"https://api.github.com/repos/deborapr/mito-nuclear-speciation\"},\"payload\":{\"push_id\":8817178484,\"size\":1,\"distinct_size\":1,\"ref\":\"refs/heads/main\",\"head\":\"109a0c7ab73e9e839aad96db2c3a2e8b3b7ad508\",\"before\":\"c424fdcaec47dc5cf7238e362d18790c8eff29e2\",\"commits\":[{\"sha\":\"109a0c7ab73e9e839aad96db2c3a2e8b3b7ad508\",\"author\":{\"email\":\"36701083+deborapr@users.noreply.github.com\",\"name\":\"Debora Princepe\"},\"message\":\"Update README.md\",\"distinct\":true,\"url\":\"https://api.github.com/repos/deborapr/mito-nuclear-speciation/commits/109a0c7ab73e9e839aad96db2c3a2e8b3b7ad508\"}]},\"public\":true,\"created_at\":\"2022-01-12T13:09:56Z\"},{\"id\":\"19696951172\",\"type\":\"PushEvent\",\"actor\":{\"id\":41898282,\"login\":\"github-actions[bot]\",\"display_login\":\"github-actions\",\"gravatar_id\":\"\",\"url\":\"https://api.github.com/users/github-actions[bot]\",\"avatar_url\":\"https://avatars.githubusercontent.com/u/41898282?\"},\"repo\":{\"id\":410812195,\"name\":\"andreagroferreira/andreagroferreira\",\"url\":\"https://api.github.com/repos/andreagroferreira/andreagroferreira\"},\"payload\":{\"push_id\":8817178470,\"size\":1,\"distinct_size\":1,\"ref\":\"refs/heads/output\",\"head\":\"e71a660ad5bc91c7557b68875f550ae3ff0941db\",\"before\":\"6cc88e897a0255c1d55abcc855cfe0077ec535ad\",\"commits\":[{\"sha\":\"e71a660ad5bc91c7557b68875f550ae3ff0941db\",\"author\":{\"email\":\"41898282+github-actions[bot]@users.noreply.github.com\",\"name\":\"github-actions[bot]\"},\"message\":\"Deploy to GitHub pages\",\"distinct\":true,\"url\":\"https://api.github.com/repos/andreagroferreira/andreagroferreira/commits/e71a660ad5bc91c7557b68875f550ae3ff0941db\"}]},\"public\":true,\"created_at\":\"2022-01-12T13:09:56Z\"},{\"id\":\"19696951197\",\"type\":\"PushEvent\",\"actor\":{\"id\":59561647,\"login\":\"mmittel2\",\"display_login\":\"mmittel2\",\"gravatar_id\":\"\",\"url\":\"https://api.github.com/users/mmittel2\",\"avatar_url\":\"https://avatars.githubusercontent.com/u/59561647?\"},\"repo\":{\"id\":434318267,\"name\":\"cyberscan/ci-action\",\"url\":\"https://api.github.com/repos/cyberscan/ci-action\"},\"payload\":{\"push_id\":8817178502,\"size\":1,\"distinct_size\":1,\"ref\":\"refs/heads/master\",\"head\":\"2d9c717099b47996f873c940a94bb8582c5e836b\",\"before\":\"fe87ae6b58238ed6dc33038d86cb28ea1d89e1f5\",\"commits\":[{\"sha\":\"2d9c717099b47996f873c940a94bb8582c5e836b\",\"author\":{\"email\":\"merlin.mittelbach@dgc.org\",\"name\":\"Merlin Mittelbach\"},\"message\":\".\",\"distinct\":true,\"url\":\"https://api.github.com/repos/cyberscan/ci-action/commits/2d9c717099b47996f873c940a94bb8582c5e836b\"}]},\"public\":true,\"created_at\":\"2022-01-12T13:09:56Z\",\"org\":{\"id\":38240463,\"login\":\"cyberscan\",\"gravatar_id\":\"\",\"url\":\"https://api.github.com/orgs/cyberscan\",\"avatar_url\":\"https://avatars.githubusercontent.com/u/38240463?\"}},{\"id\":\"19696951139\",\"type\":\"PushEvent\",\"actor\":{\"id\":41898282,\"login\":\"github-actions[bot]\",\"display_login\":\"github-actions\",\"gravatar_id\":\"\",\"url\":\"https://api.github.com/users/github-actions[bot]\",\"avatar_url\":\"https://avatars.githubusercontent.com/u/41898282?\"},\"repo\":{\"id\":427179186,\"name\":\"AlessandroBarreto/AlessandroBarreto\",\"url\":\"https://api.github.com/repos/AlessandroBarreto/AlessandroBarreto\"},\"payload\":{\"push_id\":8817178496,\"size\":1,\"distinct_size\":1,\"ref\":\"refs/heads/output\",\"head\":\"6262f0c7cd69ec0164c4a5281bb7ef47ec26458d\",\"before\":\"45f52f3c1b2bb5dff9a05aa8eee651f1a8d56d24\",\"commits\":[{\"sha\":\"6262f0c7cd69ec0164c4a5281bb7ef47ec26458d\",\"author\":{\"email\":\"41898282+github-actions[bot]@users.noreply.github.com\",\"name\":\"github-actions[bot]\"},\"message\":\"Deploy to GitHub pages\",\"distinct\":true,\"url\":\"https://api.github.com/repos/AlessandroBarreto/AlessandroBarreto/commits/6262f0c7cd69ec0164c4a5281bb7ef47ec26458d\"}]},\"public\":true,\"created_at\":\"2022-01-12T13:09:56Z\"},{\"id\":\"19696951200\",\"type\":\"PushEvent\",\"actor\":{\"id\":97390712,\"login\":\"KOBYOUNGJO\",\"display_login\":\"KOBYOUNGJO\",\"gravatar_id\":\"\",\"url\":\"https://api.github.com/users/KOBYOUNGJO\",\"avatar_url\":\"https://avatars.githubusercontent.com/u/97390712?\"},\"repo\":{\"id\":446794775,\"name\":\"KOBYOUNGJO/GITNOOB\",\"url\":\"https://api.github.com/repos/KOBYOUNGJO/GITNOOB\"},\"payload\":{\"push_id\":8817178524,\"size\":1,\"distinct_size\":1,\"ref\":\"refs/heads/master\",\"head\":\"bbd45b75968dac1d2f1bf57b9f47b2c7e98bb8bc\",\"before\":\"b5fd75440815684d5bbfbb63dbe27bd8f270970a\",\"commits\":[{\"sha\":\"bbd45b75968dac1d2f1bf57b9f47b2c7e98bb8bc\",\"author\":{\"email\":\"97390712+KOBYOUNGJO@users.noreply.github.com\",\"name\":\"KOBYOUNGJO\"},\"message\":\"Add files via upload\",\"distinct\":true,\"url\":\"https://api.github.com/repos/KOBYOUNGJO/GITNOOB/commits/bbd45b75968dac1d2f1bf57b9f47b2c7e98bb8bc\"}]},\"public\":true,\"created_at\":\"2022-01-12T13:09:56Z\"},{\"id\":\"19696951160\",\"type\":\"PushEvent\",\"actor\":{\"id\":74524318,\"login\":\"yeon-s\",\"display_login\":\"yeon-s\",\"gravatar_id\":\"\",\"url\":\"https://api.github.com/users/yeon-s\",\"avatar_url\":\"https://avatars.githubusercontent.com/u/74524318?\"},\"repo\":{\"id\":433302911,\"name\":\"yeon-s/Daily-Algorithm\",\"url\":\"https://api.github.com/repos/yeon-s/Daily-Algorithm\"},\"payload\":{\"push_id\":8817178503,\"size\":1,\"distinct_size\":1,\"ref\":\"refs/heads/main\",\"head\":\"aa7e53940285c8ff642e067724ff139a9c9b64cc\",\"before\":\"028984e7916a6bdb3ba498089831ce4664189281\",\"commits\":[{\"sha\":\"aa7e53940285c8ff642e067724ff139a9c9b64cc\",\"author\":{\"email\":\"syghkd@naver.com\",\"name\":\"Hwang seungyeon\"},\"message\":\"Boj 15663 n과m 9\",\"distinct\":true,\"url\":\"https://api.github.com/repos/yeon-s/Daily-Algorithm/commits/aa7e53940285c8ff642e067724ff139a9c9b64cc\"}]},\"public\":true,\"created_at\":\"2022-01-12T13:09:56Z\"},{\"id\":\"19696951130\",\"type\":\"PushEvent\",\"actor\":{\"id\":41898282,\"login\":\"github-actions[bot]\",\"display_login\":\"github-actions\",\"gravatar_id\":\"\",\"url\":\"https://api.github.com/users/github-actions[bot]\",\"avatar_url\":\"https://avatars.githubusercontent.com/u/41898282?\"},\"repo\":{\"id\":444789249,\"name\":\"ifmystery/workhome\",\"url\":\"https://api.github.com/repos/ifmystery/workhome\"},\"payload\":{\"push_id\":8817178471,\"size\":1,\"distinct_size\":1,\"ref\":\"refs/heads/master\",\"head\":\"6c2376e7ce2dd589bef79688f128504c5e1e5e77\",\"before\":\"b99cf49b86c5402c43f65209d43c33d87a9604a3\",\"commits\":[{\"sha\":\"6c2376e7ce2dd589bef79688f128504c5e1e5e77\",\"author\":{\"email\":\"enbuss88@gmail.com\",\"name\":\"ifmystery\"},\"message\":\"🙏 awesome-project\",\"distinct\":true,\"url\":\"https://api.github.com/repos/ifmystery/workhome/commits/6c2376e7ce2dd589bef79688f128504c5e1e5e77\"}]},\"public\":true,\"created_at\":\"2022-01-12T13:09:56Z\"},{\"id\":\"19696951133\",\"type\":\"PushEvent\",\"actor\":{\"id\":89879599,\"login\":\"ekgus9\",\"display_login\":\"ekgus9\",\"gravatar_id\":\"\",\"url\":\"https://api.github.com/users/ekgus9\",\"avatar_url\":\"https://avatars.githubusercontent.com/u/89879599?\"},\"repo\":{\"id\":443708462,\"name\":\"ekgus9/Basic-MachineLearning\",\"url\":\"https://api.github.com/repos/ekgus9/Basic-MachineLearning\"},\"payload\":{\"push_id\":8817178487,\"size\":1,\"distinct_size\":1,\"ref\":\"refs/heads/main\",\"head\":\"67a1dc827e5991a8d99b8922d27c093746e3f1fc\",\"before\":\"178101a3141b56525ad73b75db90d5e5ee3624d2\",\"commits\":[{\"sha\":\"67a1dc827e5991a8d99b8922d27c093746e3f1fc\",\"author\":{\"email\":\"dhaabb55@naver.com\",\"name\":\"Dahyun Jung\"},\"message\":\"Add files via upload\",\"distinct\":true,\"url\":\"https://api.github.com/repos/ekgus9/Basic-MachineLearning/commits/67a1dc827e5991a8d99b8922d27c093746e3f1fc\"}]},\"public\":true,\"created_at\":\"2022-01-12T13:09:56Z\"},{\"id\":\"19696951159\",\"type\":\"PushEvent\",\"actor\":{\"id\":48563123,\"login\":\"mursona\",\"display_login\":\"mursona\",\"gravatar_id\":\"\",\"url\":\"https://api.github.com/users/mursona\",\"avatar_url\":\"https://avatars.githubusercontent.com/u/48563123?\"},\"repo\":{\"id\":442821333,\"name\":\"mursona/car-truck-detection\",\"url\":\"https://api.github.com/repos/mursona/car-truck-detection\"},\"payload\":{\"push_id\":8817178477,\"size\":1,\"distinct_size\":1,\"ref\":\"refs/heads/main\",\"head\":\"60bb04962aef92734746e57ba1687fba06cf9c11\",\"before\":\"d74e37057532e38fa284e0218869783beb4a0bc6\",\"commits\":[{\"sha\":\"60bb04962aef92734746e57ba1687fba06cf9c11\",\"author\":{\"email\":\"48563123+mursona@users.noreply.github.com\",\"name\":\"Mahabuba Akter Mursona\"},\"message\":\"Add files via upload\",\"distinct\":true,\"url\":\"https://api.github.com/repos/mursona/car-truck-detection/commits/60bb04962aef92734746e57ba1687fba06cf9c11\"}]},\"public\":true,\"created_at\":\"2022-01-12T13:09:56Z\"},{\"id\":\"19696951121\",\"type\":\"PushEvent\",\"actor\":{\"id\":77965009,\"login\":\"NagygeciNoemi\",\"display_login\":\"NagygeciNoemi\",\"gravatar_id\":\"\",\"url\":\"https://api.github.com/users/NagygeciNoemi\",\"avatar_url\":\"https://avatars.githubusercontent.com/u/77965009?\"},\"repo\":{\"id\":434305942,\"name\":\"2021-2022-vizsgaremek-nappali-14b-gyak/vizsgaremek-gyakrolas-NagygeciNoemi\",\"url\":\"https://api.github.com/repos/2021-2022-vizsgaremek-nappali-14b-gyak/vizsgaremek-gyakrolas-NagygeciNoemi\"},\"payload\":{\"push_id\":8817178458,\"size\":1,\"distinct_size\":1,\"ref\":\"refs/heads/07-databasesrc_selection\",\"head\":\"bb2de0d15ecc7059f869ca21820755af7dfc50a1\",\"before\":\"f970fe450952a9ee42904fc206300e930b0ef58b\",\"commits\":[{\"sha\":\"bb2de0d15ecc7059f869ca21820755af7dfc50a1\",\"author\":{\"email\":\"nagyg.emi@gmail.com\",\"name\":\"Noémi Nagygéci\"},\"message\":\"DatabaseSource page kész\",\"distinct\":true,\"url\":\"https://api.github.com/repos/2021-2022-vizsgaremek-nappali-14b-gyak/vizsgaremek-gyakrolas-NagygeciNoemi/commits/bb2de0d15ecc7059f869ca21820755af7dfc50a1\"}]},\"public\":true,\"created_at\":\"2022-01-12T13:09:56Z\",\"org\":{\"id\":95017075,\"login\":\"2021-2022-vizsgaremek-nappali-14b-gyak\",\"gravatar_id\":\"\",\"url\":\"https://api.github.com/orgs/2021-2022-vizsgaremek-nappali-14b-gyak\",\"avatar_url\":\"https://avatars.githubusercontent.com/u/95017075?\"}},{\"id\":\"19696951185\",\"type\":\"PushEvent\",\"actor\":{\"id\":45528664,\"login\":\"994861457\",\"display_login\":\"994861457\",\"gravatar_id\":\"\",\"url\":\"https://api.github.com/users/994861457\",\"avatar_url\":\"https://avatars.githubusercontent.com/u/45528664?\"},\"repo\":{\"id\":435045983,\"name\":\"994861457/994861457_Algorithm_notes_cpp\",\"url\":\"https://api.github.com/repos/994861457/994861457_Algorithm_notes_cpp\"},\"payload\":{\"push_id\":8817178504,\"size\":1,\"distinct_size\":1,\"ref\":\"refs/heads/main\",\"head\":\"e60c379a00926266946a0e9309ed0c84717686ed\",\"before\":\"b9d0a5cb5a3c15a968576e2dea76cedb21a0e4ab\",\"commits\":[{\"sha\":\"e60c379a00926266946a0e9309ed0c84717686ed\",\"author\":{\"email\":\"45528664+994861457@users.noreply.github.com\",\"name\":\"994861457\"},\"message\":\"Update 二叉树.md\",\"distinct\":true,\"url\":\"https://api.github.com/repos/994861457/994861457_Algorithm_notes_cpp/commits/e60c379a00926266946a0e9309ed0c84717686ed\"}]},\"public\":true,\"created_at\":\"2022-01-12T13:09:56Z\"},{\"id\":\"19696951122\",\"type\":\"PushEvent\",\"actor\":{\"id\":41898282,\"login\":\"github-actions[bot]\",\"display_login\":\"github-actions\",\"gravatar_id\":\"\",\"url\":\"https://api.github.com/users/github-actions[bot]\",\"avatar_url\":\"https://avatars.githubusercontent.com/u/41898282?\"},\"repo\":{\"id\":404058400,\"name\":\"cassia-cristina/cassia-cristina\",\"url\":\"https://api.github.com/repos/cassia-cristina/cassia-cristina\"},\"payload\":{\"push_id\":8817178468,\"size\":1,\"distinct_size\":1,\"ref\":\"refs/heads/output\",\"head\":\"3fb573be96b1a68ab8b5cf4fcd1f0521e58a0c5b\",\"before\":\"c67ce08dd7404e3680c546395e776ddcccf815a9\",\"commits\":[{\"sha\":\"3fb573be96b1a68ab8b5cf4fcd1f0521e58a0c5b\",\"author\":{\"email\":\"41898282+github-actions[bot]@users.noreply.github.com\",\"name\":\"github-actions[bot]\"},\"message\":\"Deploy to GitHub pages\",\"distinct\":true,\"url\":\"https://api.github.com/repos/cassia-cristina/cassia-cristina/commits/3fb573be96b1a68ab8b5cf4fcd1f0521e58a0c5b\"}]},\"public\":true,\"created_at\":\"2022-01-12T13:09:56Z\"},{\"id\":\"19696951155\",\"type\":\"PushEvent\",\"actor\":{\"id\":60003240,\"login\":\"easychessanimations\",\"display_login\":\"easychessanimations\",\"gravatar_id\":\"\",\"url\":\"https://api.github.com/users/easychessanimations\",\"avatar_url\":\"https://avatars.githubusercontent.com/u/60003240?\"},\"repo\":{\"id\":300536348,\"name\":\"easychessanimations/botgame\",\"url\":\"https://api.github.com/repos/easychessanimations/botgame\"},\"payload\":{\"push_id\":8817178431,\"size\":1,\"distinct_size\":1,\"ref\":\"refs/heads/main\",\"head\":\"95f4501834ca90ee887b8d5b069edaa2766a054f\",\"before\":\"4f71717aedb2399da8b9328c94aefa908c3387c4\",\"commits\":[{\"sha\":\"95f4501834ca90ee887b8d5b069edaa2766a054f\",\"author\":{\"email\":\"60003240+easychessanimations@users.noreply.github.com\",\"name\":\"easychessanimations\"},\"message\":\"God_Knight maia1 NCfueU7x\",\"distinct\":true,\"url\":\"https://api.github.com/repos/easychessanimations/botgame/commits/95f4501834ca90ee887b8d5b069edaa2766a054f\"}]},\"public\":true,\"created_at\":\"2022-01-12T13:09:56Z\"},{\"id\":\"19696951175\",\"type\":\"PullRequestEvent\",\"actor\":{\"id\":366777,\"login\":\"pfumagalli\",\"display_login\":\"pfumagalli\",\"gravatar_id\":\"\",\"url\":\"https://api.github.com/users/pfumagalli\",\"avatar_url\":\"https://avatars.githubusercontent.com/u/366777?\"},\"repo\":{\"id\":25763729,\"name\":\"usrz/javascript-karma-verbose-reporter\",\"url\":\"https://api.github.com/repos/usrz/javascript-karma-verbose-reporter\"},\"payload\":{\"action\":\"closed\",\"number\":8,\"pull_request\":{\"url\":\"https://api.github.com/repos/usrz/javascript-karma-verbose-reporter/pulls/8\",\"id\":272814352,\"node_id\":\"MDExOlB1bGxSZXF1ZXN0MjcyODE0MzUy\",\"html_url\":\"https://github.com/usrz/javascript-karma-verbose-reporter/pull/8\",\"diff_url\":\"https://github.com/usrz/javascript-karma-verbose-reporter/pull/8.diff\",\"patch_url\":\"https://github.com/usrz/javascript-karma-verbose-reporter/pull/8.patch\",\"issue_url\":\"https://api.github.com/repos/usrz/javascript-karma-verbose-reporter/issues/8\",\"number\":8,\"state\":\"closed\",\"locked\":false,\"title\":\"adding elapsed time and test number\",\"user\":{\"login\":\"soupay\",\"id\":34355950,\"node_id\":\"MDQ6VXNlcjM0MzU1OTUw\",\"avatar_url\":\"https://avatars.githubusercontent.com/u/34355950?v=4\",\"gravatar_id\":\"\",\"url\":\"https://api.github.com/users/soupay\",\"html_url\":\"https://github.com/soupay\",\"followers_url\":\"https://api.github.com/users/soupay/followers\",\"following_url\":\"https://api.github.com/users/soupay/following{/other_user}\",\"gists_url\":\"https://api.github.com/users/soupay/gists{/gist_id}\",\"starred_url\":\"https://api.github.com/users/soupay/starred{/owner}{/repo}\",\"subscriptions_url\":\"https://api.github.com/users/soupay/subscriptions\",\"organizations_url\":\"https://api.github.com/users/soupay/orgs\",\"repos_url\":\"https://api.github.com/users/soupay/repos\",\"events_url\":\"https://api.github.com/users/soupay/events{/privacy}\",\"received_events_url\":\"https://api.github.com/users/soupay/received_events\",\"type\":\"User\",\"site_admin\":false},\"body\":\"The changes would help devs get an insight on the test number thats running and the time elapsed since the tests started.\",\"created_at\":\"2019-04-23T16:56:54Z\",\"updated_at\":\"2022-01-12T13:09:56Z\",\"closed_at\":\"2022-01-12T13:09:55Z\",\"merged_at\":\"2022-01-12T13:09:55Z\",\"merge_commit_sha\":\"656a0c4587de821f0c85b70366408574d3a60472\",\"assignee\":null,\"assignees\":[],\"requested_reviewers\":[],\"requested_teams\":[],\"labels\":[],\"milestone\":null,\"draft\":false,\"commits_url\":\"https://api.github.com/repos/usrz/javascript-karma-verbose-reporter/pulls/8/commits\",\"review_comments_url\":\"https://api.github.com/repos/usrz/javascript-karma-verbose-reporter/pulls/8/comments\",\"review_comment_url\":\"https://api.github.com/repos/usrz/javascript-karma-verbose-reporter/pulls/comments{/number}\",\"comments_url\":\"https://api.github.com/repos/usrz/javascript-karma-verbose-reporter/issues/8/comments\",\"statuses_url\":\"https://api.github.com/repos/usrz/javascript-karma-verbose-reporter/statuses/cdd6d0e6e9a5cfefff578553bba6064f404cdd79\",\"head\":{\"label\":\"soupay:patch-1\",\"ref\":\"patch-1\",\"sha\":\"cdd6d0e6e9a5cfefff578553bba6064f404cdd79\",\"user\":{\"login\":\"soupay\",\"id\":34355950,\"node_id\":\"MDQ6VXNlcjM0MzU1OTUw\",\"avatar_url\":\"https://avatars.githubusercontent.com/u/34355950?v=4\",\"gravatar_id\":\"\",\"url\":\"https://api.github.com/users/soupay\",\"html_url\":\"https://github.com/soupay\",\"followers_url\":\"https://api.github.com/users/soupay/followers\",\"following_url\":\"https://api.github.com/users/soupay/following{/other_user}\",\"gists_url\":\"https://api.github.com/users/soupay/gists{/gist_id}\",\"starred_url\":\"https://api.github.com/users/soupay/starred{/owner}{/repo}\",\"subscriptions_url\":\"https://api.github.com/users/soupay/subscriptions\",\"organizations_url\":\"https://api.github.com/users/soupay/orgs\",\"repos_url\":\"https://api.github.com/users/soupay/repos\",\"events_url\":\"https://api.github.com/users/soupay/events{/privacy}\",\"received_events_url\":\"https://api.github.com/users/soupay/received_events\",\"type\":\"User\",\"site_admin\":false},\"repo\":{\"id\":183055272,\"node_id\":\"MDEwOlJlcG9zaXRvcnkxODMwNTUyNzI=\",\"name\":\"javascript-karma-verbose-reporter\",\"full_name\":\"soupay/javascript-karma-verbose-reporter\",\"private\":false,\"owner\":{\"login\":\"soupay\",\"id\":34355950,\"node_id\":\"MDQ6VXNlcjM0MzU1OTUw\",\"avatar_url\":\"https://avatars.githubusercontent.com/u/34355950?v=4\",\"gravatar_id\":\"\",\"url\":\"https://api.github.com/users/soupay\",\"html_url\":\"https://github.com/soupay\",\"followers_url\":\"https://api.github.com/users/soupay/followers\",\"following_url\":\"https://api.github.com/users/soupay/following{/other_user}\",\"gists_url\":\"https://api.github.com/users/soupay/gists{/gist_id}\",\"starred_url\":\"https://api.github.com/users/soupay/starred{/owner}{/repo}\",\"subscriptions_url\":\"https://api.github.com/users/soupay/subscriptions\",\"organizations_url\":\"https://api.github.com/users/soupay/orgs\",\"repos_url\":\"https://api.github.com/users/soupay/repos\",\"events_url\":\"https://api.github.com/users/soupay/events{/privacy}\",\"received_events_url\":\"https://api.github.com/users/soupay/received_events\",\"type\":\"User\",\"site_admin\":false},\"html_url\":\"https://github.com/soupay/javascript-karma-verbose-reporter\",\"description\":\"A very (very) verbose reporter for Karma\",\"fork\":true,\"url\":\"https://api.github.com/repos/soupay/javascript-karma-verbose-reporter\",\"forks_url\":\"https://api.github.com/repos/soupay/javascript-karma-verbose-reporter/forks\",\"keys_url\":\"https://api.github.com/repos/soupay/javascript-karma-verbose-reporter/keys{/key_id}\",\"collaborators_url\":\"https://api.github.com/repos/soupay/javascript-karma-verbose-reporter/collaborators{/collaborator}\",\"teams_url\":\"https://api.github.com/repos/soupay/javascript-karma-verbose-reporter/teams\",\"hooks_url\":\"https://api.github.com/repos/soupay/javascript-karma-verbose-reporter/hooks\",\"issue_events_url\":\"https://api.github.com/repos/soupay/javascript-karma-verbose-reporter/issues/events{/number}\",\"events_url\":\"https://api.github.com/repos/soupay/javascript-karma-verbose-reporter/events\",\"assignees_url\":\"https://api.github.com/repos/soupay/javascript-karma-verbose-reporter/assignees{/user}\",\"branches_url\":\"https://api.github.com/repos/soupay/javascript-karma-verbose-reporter/branches{/branch}\",\"tags_url\":\"https://api.github.com/repos/soupay/javascript-karma-verbose-reporter/tags\",\"blobs_url\":\"https://api.github.com/repos/soupay/javascript-karma-verbose-reporter/git/blobs{/sha}\",\"git_tags_url\":\"https://api.github.com/repos/soupay/javascript-karma-verbose-reporter/git/tags{/sha}\",\"git_refs_url\":\"https://api.github.com/repos/soupay/javascript-karma-verbose-reporter/git/refs{/sha}\",\"trees_url\":\"https://api.github.com/repos/soupay/javascript-karma-verbose-reporter/git/trees{/sha}\",\"statuses_url\":\"https://api.github.com/repos/soupay/javascript-karma-verbose-reporter/statuses/{sha}\",\"languages_url\":\"https://api.github.com/repos/soupay/javascript-karma-verbose-reporter/languages\",\"stargazers_url\":\"https://api.github.com/repos/soupay/javascript-karma-verbose-reporter/stargazers\",\"contributors_url\":\"https://api.github.com/repos/soupay/javascript-karma-verbose-reporter/contributors\",\"subscribers_url\":\"https://api.github.com/repos/soupay/javascript-karma-verbose-reporter/subscribers\",\"subscription_url\":\"https://api.github.com/repos/soupay/javascript-karma-verbose-reporter/subscription\",\"commits_url\":\"https://api.github.com/repos/soupay/javascript-karma-verbose-reporter/commits{/sha}\",\"git_commits_url\":\"https://api.github.com/repos/soupay/javascript-karma-verbose-reporter/git/commits{/sha}\",\"comments_url\":\"https://api.github.com/repos/soupay/javascript-karma-verbose-reporter/comments{/number}\",\"issue_comment_url\":\"https://api.github.com/repos/soupay/javascript-karma-verbose-reporter/issues/comments{/number}\",\"contents_url\":\"https://api.github.com/repos/soupay/javascript-karma-verbose-reporter/contents/{+path}\",\"compare_url\":\"https://api.github.com/repos/soupay/javascript-karma-verbose-reporter/compare/{base}...{head}\",\"merges_url\":\"https://api.github.com/repos/soupay/javascript-karma-verbose-reporter/merges\",\"archive_url\":\"https://api.github.com/repos/soupay/javascript-karma-verbose-reporter/{archive_format}{/ref}\",\"downloads_url\":\"https://api.github.com/repos/soupay/javascript-karma-verbose-reporter/downloads\",\"issues_url\":\"https://api.github.com/repos/soupay/javascript-karma-verbose-reporter/issues{/number}\",\"pulls_url\":\"https://api.github.com/repos/soupay/javascript-karma-verbose-reporter/pulls{/number}\",\"milestones_url\":\"https://api.github.com/repos/soupay/javascript-karma-verbose-reporter/milestones{/number}\",\"notifications_url\":\"https://api.github.com/repos/soupay/javascript-karma-verbose-reporter/notifications{?since,all,participating}\",\"labels_url\":\"https://api.github.com/repos/soupay/javascript-karma-verbose-reporter/labels{/name}\",\"releases_url\":\"https://api.github.com/repos/soupay/javascript-karma-verbose-reporter/releases{/id}\",\"deployments_url\":\"https://api.github.com/repos/soupay/javascript-karma-verbose-reporter/deployments\",\"created_at\":\"2019-04-23T16:32:04Z\",\"updated_at\":\"2019-04-23T16:32:07Z\",\"pushed_at\":\"2019-04-23T16:56:31Z\",\"git_url\":\"git://github.com/soupay/javascript-karma-verbose-reporter.git\",\"ssh_url\":\"git@github.com:soupay/javascript-karma-verbose-reporter.git\",\"clone_url\":\"https://github.com/soupay/javascript-karma-verbose-reporter.git\",\"svn_url\":\"https://github.com/soupay/javascript-karma-verbose-reporter\",\"homepage\":null,\"size\":14,\"stargazers_count\":0,\"watchers_count\":0,\"language\":\"JavaScript\",\"has_issues\":false,\"has_projects\":true,\"has_downloads\":true,\"has_wiki\":true,\"has_pages\":false,\"forks_count\":0,\"mirror_url\":null,\"archived\":false,\"disabled\":false,\"open_issues_count\":0,\"license\":null,\"allow_forking\":true,\"is_template\":false,\"topics\":[],\"visibility\":\"public\",\"forks\":0,\"open_issues\":0,\"watchers\":0,\"default_branch\":\"master\"}},\"base\":{\"label\":\"usrz:master\",\"ref\":\"master\",\"sha\":\"757cd8c73f130d233e98f9f50b744370a15e386b\",\"user\":{\"login\":\"usrz\",\"id\":6304599,\"node_id\":\"MDEyOk9yZ2FuaXphdGlvbjYzMDQ1OTk=\",\"avatar_url\":\"https://avatars.githubusercontent.com/u/6304599?v=4\",\"gravatar_id\":\"\",\"url\":\"https://api.github.com/users/usrz\",\"html_url\":\"https://github.com/usrz\",\"followers_url\":\"https://api.github.com/users/usrz/followers\",\"following_url\":\"https://api.github.com/users/usrz/following{/other_user}\",\"gists_url\":\"https://api.github.com/users/usrz/gists{/gist_id}\",\"starred_url\":\"https://api.github.com/users/usrz/starred{/owner}{/repo}\",\"subscriptions_url\":\"https://api.github.com/users/usrz/subscriptions\",\"organizations_url\":\"https://api.github.com/users/usrz/orgs\",\"repos_url\":\"https://api.github.com/users/usrz/repos\",\"events_url\":\"https://api.github.com/users/usrz/events{/privacy}\",\"received_events_url\":\"https://api.github.com/users/usrz/received_events\",\"type\":\"Organization\",\"site_admin\":false},\"repo\":{\"id\":25763729,\"node_id\":\"MDEwOlJlcG9zaXRvcnkyNTc2MzcyOQ==\",\"name\":\"javascript-karma-verbose-reporter\",\"full_name\":\"usrz/javascript-karma-verbose-reporter\",\"private\":false,\"owner\":{\"login\":\"usrz\",\"id\":6304599,\"node_id\":\"MDEyOk9yZ2FuaXphdGlvbjYzMDQ1OTk=\",\"avatar_url\":\"https://avatars.githubusercontent.com/u/6304599?v=4\",\"gravatar_id\":\"\",\"url\":\"https://api.github.com/users/usrz\",\"html_url\":\"https://github.com/usrz\",\"followers_url\":\"https://api.github.com/users/usrz/followers\",\"following_url\":\"https://api.github.com/users/usrz/following{/other_user}\",\"gists_url\":\"https://api.github.com/users/usrz/gists{/gist_id}\",\"starred_url\":\"https://api.github.com/users/usrz/starred{/owner}{/repo}\",\"subscriptions_url\":\"https://api.github.com/users/usrz/subscriptions\",\"organizations_url\":\"https://api.github.com/users/usrz/orgs\",\"repos_url\":\"https://api.github.com/users/usrz/repos\",\"events_url\":\"https://api.github.com/users/usrz/events{/privacy}\",\"received_events_url\":\"https://api.github.com/users/usrz/received_events\",\"type\":\"Organization\",\"site_admin\":false},\"html_url\":\"https://github.com/usrz/javascript-karma-verbose-reporter\",\"description\":\"A very (very) verbose reporter for Karma\",\"fork\":false,\"url\":\"https://api.github.com/repos/usrz/javascript-karma-verbose-reporter\",\"forks_url\":\"https://api.github.com/repos/usrz/javascript-karma-verbose-reporter/forks\",\"keys_url\":\"https://api.github.com/repos/usrz/javascript-karma-verbose-reporter/keys{/key_id}\",\"collaborators_url\":\"https://api.github.com/repos/usrz/javascript-karma-verbose-reporter/collaborators{/collaborator}\",\"teams_url\":\"https://api.github.com/repos/usrz/javascript-karma-verbose-reporter/teams\",\"hooks_url\":\"https://api.github.com/repos/usrz/javascript-karma-verbose-reporter/hooks\",\"issue_events_url\":\"https://api.github.com/repos/usrz/javascript-karma-verbose-reporter/issues/events{/number}\",\"events_url\":\"https://api.github.com/repos/usrz/javascript-karma-verbose-reporter/events\",\"assignees_url\":\"https://api.github.com/repos/usrz/javascript-karma-verbose-reporter/assignees{/user}\",\"branches_url\":\"https://api.github.com/repos/usrz/javascript-karma-verbose-reporter/branches{/branch}\",\"tags_url\":\"https://api.github.com/repos/usrz/javascript-karma-verbose-reporter/tags\",\"blobs_url\":\"https://api.github.com/repos/usrz/javascript-karma-verbose-reporter/git/blobs{/sha}\",\"git_tags_url\":\"https://api.github.com/repos/usrz/javascript-karma-verbose-reporter/git/tags{/sha}\",\"git_refs_url\":\"https://api.github.com/repos/usrz/javascript-karma-verbose-reporter/git/refs{/sha}\",\"trees_url\":\"https://api.github.com/repos/usrz/javascript-karma-verbose-reporter/git/trees{/sha}\",\"statuses_url\":\"https://api.github.com/repos/usrz/javascript-karma-verbose-reporter/statuses/{sha}\",\"languages_url\":\"https://api.github.com/repos/usrz/javascript-karma-verbose-reporter/languages\",\"stargazers_url\":\"https://api.github.com/repos/usrz/javascript-karma-verbose-reporter/stargazers\",\"contributors_url\":\"https://api.github.com/repos/usrz/javascript-karma-verbose-reporter/contributors\",\"subscribers_url\":\"https://api.github.com/repos/usrz/javascript-karma-verbose-reporter/subscribers\",\"subscription_url\":\"https://api.github.com/repos/usrz/javascript-karma-verbose-reporter/subscription\",\"commits_url\":\"https://api.github.com/repos/usrz/javascript-karma-verbose-reporter/commits{/sha}\",\"git_commits_url\":\"https://api.github.com/repos/usrz/javascript-karma-verbose-reporter/git/commits{/sha}\",\"comments_url\":\"https://api.github.com/repos/usrz/javascript-karma-verbose-reporter/comments{/number}\",\"issue_comment_url\":\"https://api.github.com/repos/usrz/javascript-karma-verbose-reporter/issues/comments{/number}\",\"contents_url\":\"https://api.github.com/repos/usrz/javascript-karma-verbose-reporter/contents/{+path}\",\"compare_url\":\"https://api.github.com/repos/usrz/javascript-karma-verbose-reporter/compare/{base}...{head}\",\"merges_url\":\"https://api.github.com/repos/usrz/javascript-karma-verbose-reporter/merges\",\"archive_url\":\"https://api.github.com/repos/usrz/javascript-karma-verbose-reporter/{archive_format}{/ref}\",\"downloads_url\":\"https://api.github.com/repos/usrz/javascript-karma-verbose-reporter/downloads\",\"issues_url\":\"https://api.github.com/repos/usrz/javascript-karma-verbose-reporter/issues{/number}\",\"pulls_url\":\"https://api.github.com/repos/usrz/javascript-karma-verbose-reporter/pulls{/number}\",\"milestones_url\":\"https://api.github.com/repos/usrz/javascript-karma-verbose-reporter/milestones{/number}\",\"notifications_url\":\"https://api.github.com/repos/usrz/javascript-karma-verbose-reporter/notifications{?since,all,participating}\",\"labels_url\":\"https://api.github.com/repos/usrz/javascript-karma-verbose-reporter/labels{/name}\",\"releases_url\":\"https://api.github.com/repos/usrz/javascript-karma-verbose-reporter/releases{/id}\",\"deployments_url\":\"https://api.github.com/repos/usrz/javascript-karma-verbose-reporter/deployments\",\"created_at\":\"2014-10-26T08:31:41Z\",\"updated_at\":\"2022-01-12T12:56:30Z\",\"pushed_at\":\"2022-01-12T13:09:55Z\",\"git_url\":\"git://github.com/usrz/javascript-karma-verbose-reporter.git\",\"ssh_url\":\"git@github.com:usrz/javascript-karma-verbose-reporter.git\",\"clone_url\":\"https://github.com/usrz/javascript-karma-verbose-reporter.git\",\"svn_url\":\"https://github.com/usrz/javascript-karma-verbose-reporter\",\"homepage\":null,\"size\":11,\"stargazers_count\":21,\"watchers_count\":21,\"language\":\"JavaScript\",\"has_issues\":true,\"has_projects\":true,\"has_downloads\":true,\"has_wiki\":true,\"has_pages\":false,\"forks_count\":11,\"mirror_url\":null,\"archived\":false,\"disabled\":false,\"open_issues_count\":0,\"license\":null,\"allow_forking\":true,\"is_template\":false,\"topics\":[],\"visibility\":\"public\",\"forks\":11,\"open_issues\":0,\"watchers\":21,\"default_branch\":\"master\"}},\"_links\":{\"self\":{\"href\":\"https://api.github.com/repos/usrz/javascript-karma-verbose-reporter/pulls/8\"},\"html\":{\"href\":\"https://github.com/usrz/javascript-karma-verbose-reporter/pull/8\"},\"issue\":{\"href\":\"https://api.github.com/repos/usrz/javascript-karma-verbose-reporter/issues/8\"},\"comments\":{\"href\":\"https://api.github.com/repos/usrz/javascript-karma-verbose-reporter/issues/8/comments\"},\"review_comments\":{\"href\":\"https://api.github.com/repos/usrz/javascript-karma-verbose-reporter/pulls/8/comments\"},\"review_comment\":{\"href\":\"https://api.github.com/repos/usrz/javascript-karma-verbose-reporter/pulls/comments{/number}\"},\"commits\":{\"href\":\"https://api.github.com/repos/usrz/javascript-karma-verbose-reporter/pulls/8/commits\"},\"statuses\":{\"href\":\"https://api.github.com/repos/usrz/javascript-karma-verbose-reporter/statuses/cdd6d0e6e9a5cfefff578553bba6064f404cdd79\"}},\"author_association\":\"NONE\",\"auto_merge\":null,\"active_lock_reason\":null,\"merged\":true,\"mergeable\":null,\"rebaseable\":null,\"mergeable_state\":\"unknown\",\"merged_by\":{\"login\":\"pfumagalli\",\"id\":366777,\"node_id\":\"MDQ6VXNlcjM2Njc3Nw==\",\"avatar_url\":\"https://avatars.githubusercontent.com/u/366777?v=4\",\"gravatar_id\":\"\",\"url\":\"https://api.github.com/users/pfumagalli\",\"html_url\":\"https://github.com/pfumagalli\",\"followers_url\":\"https://api.github.com/users/pfumagalli/followers\",\"following_url\":\"https://api.github.com/users/pfumagalli/following{/other_user}\",\"gists_url\":\"https://api.github.com/users/pfumagalli/gists{/gist_id}\",\"starred_url\":\"https://api.github.com/users/pfumagalli/starred{/owner}{/repo}\",\"subscriptions_url\":\"https://api.github.com/users/pfumagalli/subscriptions\",\"organizations_url\":\"https://api.github.com/users/pfumagalli/orgs\",\"repos_url\":\"https://api.github.com/users/pfumagalli/repos\",\"events_url\":\"https://api.github.com/users/pfumagalli/events{/privacy}\",\"received_events_url\":\"https://api.github.com/users/pfumagalli/received_events\",\"type\":\"User\",\"site_admin\":false},\"comments\":1,\"review_comments\":0,\"maintainer_can_modify\":false,\"commits\":1,\"additions\":15,\"deletions\":2,\"changed_files\":1}},\"public\":true,\"created_at\":\"2022-01-12T13:09:56Z\",\"org\":{\"id\":6304599,\"login\":\"usrz\",\"gravatar_id\":\"\",\"url\":\"https://api.github.com/orgs/usrz\",\"avatar_url\":\"https://avatars.githubusercontent.com/u/6304599?\"}},{\"id\":\"19696951163\",\"type\":\"WatchEvent\",\"actor\":{\"id\":91348983,\"login\":\"ToYu233\",\"display_login\":\"ToYu233\",\"gravatar_id\":\"\",\"url\":\"https://api.github.com/users/ToYu233\",\"avatar_url\":\"https://avatars.githubusercontent.com/u/91348983?\"},\"repo\":{\"id\":446272549,\"name\":\"jiangpf-michael/awesome-mac\",\"url\":\"https://api.github.com/repos/jiangpf-michael/awesome-mac\"},\"payload\":{\"action\":\"started\"},\"public\":true,\"created_at\":\"2022-01-12T13:09:56Z\"},{\"id\":\"19696951123\",\"type\":\"PushEvent\",\"actor\":{\"id\":8517910,\"login\":\"LombiqBot\",\"display_login\":\"LombiqBot\",\"gravatar_id\":\"\",\"url\":\"https://api.github.com/users/LombiqBot\",\"avatar_url\":\"https://avatars.githubusercontent.com/u/8517910?\"},\"repo\":{\"id\":86929735,\"name\":\"Lombiq/Orchard\",\"url\":\"https://api.github.com/repos/Lombiq/Orchard\"},\"payload\":{\"push_id\":8817178442,\"size\":0,\"distinct_size\":0,\"ref\":\"refs/heads/issue/4569\",\"head\":\"3dc6e6523f5a3f6bdb7c3c90c61f4019b0168954\",\"before\":\"3dc6e6523f5a3f6bdb7c3c90c61f4019b0168954\",\"commits\":[]},\"public\":true,\"created_at\":\"2022-01-12T13:09:56Z\",\"org\":{\"id\":8158177,\"login\":\"Lombiq\",\"gravatar_id\":\"\",\"url\":\"https://api.github.com/orgs/Lombiq\",\"avatar_url\":\"https://avatars.githubusercontent.com/u/8158177?\"}},{\"id\":\"19696951097\",\"type\":\"PushEvent\",\"actor\":{\"id\":6266254,\"login\":\"teddymaulana\",\"display_login\":\"teddymaulana\",\"gravatar_id\":\"\",\"url\":\"https://api.github.com/users/teddymaulana\",\"avatar_url\":\"https://avatars.githubusercontent.com/u/6266254?\"},\"repo\":{\"id\":330537683,\"name\":\"SupernovaBrands/cocoandeve-styleguides\",\"url\":\"https://api.github.com/repos/SupernovaBrands/cocoandeve-styleguides\"},\"payload\":{\"push_id\":8817178443,\"size\":1,\"distinct_size\":1,\"ref\":\"refs/heads/1zpjpuz-search\",\"head\":\"1c120f99001340b556a27363bc36ae89d9d73776\",\"before\":\"4ae6c05c2f7073c4f3ced4e7fbbfb56d5ac84e18\",\"commits\":[{\"sha\":\"1c120f99001340b556a27363bc36ae89d9d73776\",\"author\":{\"email\":\"teddy.maulana@supernovabrands.com\",\"name\":\"Teddy Maulana\"},\"message\":\"revert nav css\",\"distinct\":true,\"url\":\"https://api.github.com/repos/SupernovaBrands/cocoandeve-styleguides/commits/1c120f99001340b556a27363bc36ae89d9d73776\"}]},\"public\":true,\"created_at\":\"2022-01-12T13:09:56Z\",\"org\":{\"id\":65647812,\"login\":\"SupernovaBrands\",\"gravatar_id\":\"\",\"url\":\"https://api.github.com/orgs/SupernovaBrands\",\"avatar_url\":\"https://avatars.githubusercontent.com/u/65647812?\"}},{\"id\":\"19696951099\",\"type\":\"PullRequestReviewCommentEvent\",\"actor\":{\"id\":85810001,\"login\":\"dev-liro\",\"display_login\":\"dev-liro\",\"gravatar_id\":\"\",\"url\":\"https://api.github.com/users/dev-liro\",\"avatar_url\":\"https://avatars.githubusercontent.com/u/85810001?\"},\"repo\":{\"id\":334151939,\"name\":\"osscameroon/osscameroon-blog\",\"url\":\"https://api.github.com/repos/osscameroon/osscameroon-blog\"},\"payload\":{\"action\":\"created\",\"comment\":{\"url\":\"https://api.github.com/repos/osscameroon/osscameroon-blog/pulls/comments/783059576\",\"pull_request_review_id\":850459499,\"id\":783059576,\"node_id\":\"PRRC_kwDOE-rBA84urIp4\",\"diff_hunk\":\"@@ -99,3 +99,38 @@ jobs:\\\\n             to: ${{ secrets.TELEGRAM_OSSCAMEROON_CHANNEL_ID }}\\\\n             token: ${{ secrets.TELEGRAM_BOT_TOKEN }}\\\\n             message_file: message\\\\n+        - name: Get tweet content\",\"path\":\".github/workflows/blog-deploy.yaml\",\"position\":4,\"original_position\":4,\"commit_id\":\"7467a5174e10e7ba67eba15b18f2a936417b94a1\",\"original_commit_id\":\"7467a5174e10e7ba67eba15b18f2a936417b94a1\",\"user\":{\"login\":\"dev-liro\",\"id\":85810001,\"node_id\":\"MDQ6VXNlcjg1ODEwMDAx\",\"avatar_url\":\"https://avatars.githubusercontent.com/u/85810001?v=4\",\"gravatar_id\":\"\",\"url\":\"https://api.github.com/users/dev-liro\",\"html_url\":\"https://github.com/dev-liro\",\"followers_url\":\"https://api.github.com/users/dev-liro/followers\",\"following_url\":\"https://api.github.com/users/dev-liro/following{/other_user}\",\"gists_url\":\"https://api.github.com/users/dev-liro/gists{/gist_id}\",\"starred_url\":\"https://api.github.com/users/dev-liro/starred{/owner}{/repo}\",\"subscriptions_url\":\"https://api.github.com/users/dev-liro/subscriptions\",\"organizations_url\":\"https://api.github.com/users/dev-liro/orgs\",\"repos_url\":\"https://api.github.com/users/dev-liro/repos\",\"events_url\":\"https://api.github.com/users/dev-liro/events{/privacy}\",\"received_events_url\":\"https://api.github.com/users/dev-liro/received_events\",\"type\":\"User\",\"site_admin\":false},\"body\":\"This makes more sense\",\"created_at\":\"2022-01-12T13:09:55Z\",\"updated_at\":\"2022-01-12T13:09:55Z\",\"html_url\":\"https://github.com/osscameroon/osscameroon-blog/pull/54#discussion_r783059576\",\"pull_request_url\":\"https://api.github.com/repos/osscameroon/osscameroon-blog/pulls/54\",\"author_association\":\"CONTRIBUTOR\",\"_links\":{\"self\":{\"href\":\"https://api.github.com/repos/osscameroon/osscameroon-blog/pulls/comments/783059576\"},\"html\":{\"href\":\"https://github.com/osscameroon/osscameroon-blog/pull/54#discussion_r783059576\"},\"pull_request\":{\"href\":\"https://api.github.com/repos/osscameroon/osscameroon-blog/pulls/54\"}},\"reactions\":{\"url\":\"https://api.github.com/repos/osscameroon/osscameroon-blog/pulls/comments/783059576/reactions\",\"total_count\":0,\"+1\":0,\"-1\":0,\"laugh\":0,\"hooray\":0,\"confused\":0,\"heart\":0,\"rocket\":0,\"eyes\":0},\"start_line\":null,\"original_start_line\":null,\"start_side\":null,\"line\":102,\"original_line\":102,\"side\":\"RIGHT\",\"in_reply_to_id\":782823183},\"pull_request\":{\"url\":\"https://api.github.com/repos/osscameroon/osscameroon-blog/pulls/54\",\"id\":818818079,\"node_id\":\"PR_kwDOE-rBA84wziwf\",\"html_url\":\"https://github.com/osscameroon/osscameroon-blog/pull/54\",\"diff_url\":\"https://github.com/osscameroon/osscameroon-blog/pull/54.diff\",\"patch_url\":\"https://github.com/osscameroon/osscameroon-blog/pull/54.patch\",\"issue_url\":\"https://api.github.com/repos/osscameroon/osscameroon-blog/issues/54\",\"number\":54,\"state\":\"open\",\"locked\":false,\"title\":\"feat: add Twitter post notification on new blog article\",\"user\":{\"login\":\"dev-liro\",\"id\":85810001,\"node_id\":\"MDQ6VXNlcjg1ODEwMDAx\",\"avatar_url\":\"https://avatars.githubusercontent.com/u/85810001?v=4\",\"gravatar_id\":\"\",\"url\":\"https://api.github.com/users/dev-liro\",\"html_url\":\"https://github.com/dev-liro\",\"followers_url\":\"https://api.github.com/users/dev-liro/followers\",\"following_url\":\"https://api.github.com/users/dev-liro/following{/other_user}\",\"gists_url\":\"https://api.github.com/users/dev-liro/gists{/gist_id}\",\"starred_url\":\"https://api.github.com/users/dev-liro/starred{/owner}{/repo}\",\"subscriptions_url\":\"https://api.github.com/users/dev-liro/subscriptions\",\"organizations_url\":\"https://api.github.com/users/dev-liro/orgs\",\"repos_url\":\"https://api.github.com/users/dev-liro/repos\",\"events_url\":\"https://api.github.com/users/dev-liro/events{/privacy}\",\"received_events_url\":\"https://api.github.com/users/dev-liro/received_events\",\"type\":\"User\",\"site_admin\":false},\"body\":\"I\\'m not exactly too sure about this commit, but could the maintainers test it please ? \",\"created_at\":\"2022-01-11T15:23:31Z\",\"updated_at\":\"2022-01-12T13:09:55Z\",\"closed_at\":null,\"merged_at\":null,\"merge_commit_sha\":\"c936990aad59c0773f961594766baf01aa7b3bb6\",\"assignee\":null,\"assignees\":[],\"requested_reviewers\":[{\"login\":\"elhmn\",\"id\":5704817,\"node_id\":\"MDQ6VXNlcjU3MDQ4MTc=\",\"avatar_url\":\"https://avatars.githubusercontent.com/u/5704817?v=4\",\"gravatar_id\":\"\",\"url\":\"https://api.github.com/users/elhmn\",\"html_url\":\"https://github.com/elhmn\",\"followers_url\":\"https://api.github.com/users/elhmn/followers\",\"following_url\":\"https://api.github.com/users/elhmn/following{/other_user}\",\"gists_url\":\"https://api.github.com/users/elhmn/gists{/gist_id}\",\"starred_url\":\"https://api.github.com/users/elhmn/starred{/owner}{/repo}\",\"subscriptions_url\":\"https://api.github.com/users/elhmn/subscriptions\",\"organizations_url\":\"https://api.github.com/users/elhmn/orgs\",\"repos_url\":\"https://api.github.com/users/elhmn/repos\",\"events_url\":\"https://api.github.com/users/elhmn/events{/privacy}\",\"received_events_url\":\"https://api.github.com/users/elhmn/received_events\",\"type\":\"User\",\"site_admin\":false},{\"login\":\"RMPR\",\"id\":23162145,\"node_id\":\"MDQ6VXNlcjIzMTYyMTQ1\",\"avatar_url\":\"https://avatars.githubusercontent.com/u/23162145?v=4\",\"gravatar_id\":\"\",\"url\":\"https://api.github.com/users/RMPR\",\"html_url\":\"https://github.com/RMPR\",\"followers_url\":\"https://api.github.com/users/RMPR/followers\",\"following_url\":\"https://api.github.com/users/RMPR/following{/other_user}\",\"gists_url\":\"https://api.github.com/users/RMPR/gists{/gist_id}\",\"starred_url\":\"https://api.github.com/users/RMPR/starred{/owner}{/repo}\",\"subscriptions_url\":\"https://api.github.com/users/RMPR/subscriptions\",\"organizations_url\":\"https://api.github.com/users/RMPR/orgs\",\"repos_url\":\"https://api.github.com/users/RMPR/repos\",\"events_url\":\"https://api.github.com/users/RMPR/events{/privacy}\",\"received_events_url\":\"https://api.github.com/users/RMPR/received_events\",\"type\":\"User\",\"site_admin\":false}],\"requested_teams\":[],\"labels\":[],\"milestone\":null,\"draft\":false,\"commits_url\":\"https://api.github.com/repos/osscameroon/osscameroon-blog/pulls/54/commits\",\"review_comments_url\":\"https://api.github.com/repos/osscameroon/osscameroon-blog/pulls/54/comments\",\"review_comment_url\":\"https://api.github.com/repos/osscameroon/osscameroon-blog/pulls/comments{/number}\",\"comments_url\":\"https://api.github.com/repos/osscameroon/osscameroon-blog/issues/54/comments\",\"statuses_url\":\"https://api.github.com/repos/osscameroon/osscameroon-blog/statuses/7467a5174e10e7ba67eba15b18f2a936417b94a1\",\"head\":{\"label\":\"dev-liro:liro\",\"ref\":\"liro\",\"sha\":\"7467a5174e10e7ba67eba15b18f2a936417b94a1\",\"user\":{\"login\":\"dev-liro\",\"id\":85810001,\"node_id\":\"MDQ6VXNlcjg1ODEwMDAx\",\"avatar_url\":\"https://avatars.githubusercontent.com/u/85810001?v=4\",\"gravatar_id\":\"\",\"url\":\"https://api.github.com/users/dev-liro\",\"html_url\":\"https://github.com/dev-liro\",\"followers_url\":\"https://api.github.com/users/dev-liro/followers\",\"following_url\":\"https://api.github.com/users/dev-liro/following{/other_user}\",\"gists_url\":\"https://api.github.com/users/dev-liro/gists{/gist_id}\",\"starred_url\":\"https://api.github.com/users/dev-liro/starred{/owner}{/repo}\",\"subscriptions_url\":\"https://api.github.com/users/dev-liro/subscriptions\",\"organizations_url\":\"https://api.github.com/users/dev-liro/orgs\",\"repos_url\":\"https://api.github.com/users/dev-liro/repos\",\"events_url\":\"https://api.github.com/users/dev-liro/events{/privacy}\",\"received_events_url\":\"https://api.github.com/users/dev-liro/received_events\",\"type\":\"User\",\"site_admin\":false},\"repo\":{\"id\":446447003,\"node_id\":\"R_kgDOGpw9mw\",\"name\":\"osscameroon-blog\",\"full_name\":\"dev-liro/osscameroon-blog\",\"private\":false,\"owner\":{\"login\":\"dev-liro\",\"id\":85810001,\"node_id\":\"MDQ6VXNlcjg1ODEwMDAx\",\"avatar_url\":\"https://avatars.githubusercontent.com/u/85810001?v=4\",\"gravatar_id\":\"\",\"url\":\"https://api.github.com/users/dev-liro\",\"html_url\":\"https://github.com/dev-liro\",\"followers_url\":\"https://api.github.com/users/dev-liro/followers\",\"following_url\":\"https://api.github.com/users/dev-liro/following{/other_user}\",\"gists_url\":\"https://api.github.com/users/dev-liro/gists{/gist_id}\",\"starred_url\":\"https://api.github.com/users/dev-liro/starred{/owner}{/repo}\",\"subscriptions_url\":\"https://api.github.com/users/dev-liro/subscriptions\",\"organizations_url\":\"https://api.github.com/users/dev-liro/orgs\",\"repos_url\":\"https://api.github.com/users/dev-liro/repos\",\"events_url\":\"https://api.github.com/users/dev-liro/events{/privacy}\",\"received_events_url\":\"https://api.github.com/users/dev-liro/received_events\",\"type\":\"User\",\"site_admin\":false},\"html_url\":\"https://github.com/dev-liro/osscameroon-blog\",\"description\":\"blog for osscameroon\",\"fork\":true,\"url\":\"https://api.github.com/repos/dev-liro/osscameroon-blog\",\"forks_url\":\"https://api.github.com/repos/dev-liro/osscameroon-blog/forks\",\"keys_url\":\"https://api.github.com/repos/dev-liro/osscameroon-blog/keys{/key_id}\",\"collaborators_url\":\"https://api.github.com/repos/dev-liro/osscameroon-blog/collaborators{/collaborator}\",\"teams_url\":\"https://api.github.com/repos/dev-liro/osscameroon-blog/teams\",\"hooks_url\":\"https://api.github.com/repos/dev-liro/osscameroon-blog/hooks\",\"issue_events_url\":\"https://api.github.com/repos/dev-liro/osscameroon-blog/issues/events{/number}\",\"events_url\":\"https://api.github.com/repos/dev-liro/osscameroon-blog/events\",\"assignees_url\":\"https://api.github.com/repos/dev-liro/osscameroon-blog/assignees{/user}\",\"branches_url\":\"https://api.github.com/repos/dev-liro/osscameroon-blog/branches{/branch}\",\"tags_url\":\"https://api.github.com/repos/dev-liro/osscameroon-blog/tags\",\"blobs_url\":\"https://api.github.com/repos/dev-liro/osscameroon-blog/git/blobs{/sha}\",\"git_tags_url\":\"https://api.github.com/repos/dev-liro/osscameroon-blog/git/tags{/sha}\",\"git_refs_url\":\"https://api.github.com/repos/dev-liro/osscameroon-blog/git/refs{/sha}\",\"trees_url\":\"https://api.github.com/repos/dev-liro/osscameroon-blog/git/trees{/sha}\",\"statuses_url\":\"https://api.github.com/repos/dev-liro/osscameroon-blog/statuses/{sha}\",\"languages_url\":\"https://api.github.com/repos/dev-liro/osscameroon-blog/languages\",\"stargazers_url\":\"https://api.github.com/repos/dev-liro/osscameroon-blog/stargazers\",\"contributors_url\":\"https://api.github.com/repos/dev-liro/osscameroon-blog/contributors\",\"subscribers_url\":\"https://api.github.com/repos/dev-liro/osscameroon-blog/subscribers\",\"subscription_url\":\"https://api.github.com/repos/dev-liro/osscameroon-blog/subscription\",\"commits_url\":\"https://api.github.com/repos/dev-liro/osscameroon-blog/commits{/sha}\",\"git_commits_url\":\"https://api.github.com/repos/dev-liro/osscameroon-blog/git/commits{/sha}\",\"comments_url\":\"https://api.github.com/repos/dev-liro/osscameroon-blog/comments{/number}\",\"issue_comment_url\":\"https://api.github.com/repos/dev-liro/osscameroon-blog/issues/comments{/number}\",\"contents_url\":\"https://api.github.com/repos/dev-liro/osscameroon-blog/contents/{+path}\",\"compare_url\":\"https://api.github.com/repos/dev-liro/osscameroon-blog/compare/{base}...{head}\",\"merges_url\":\"https://api.github.com/repos/dev-liro/osscameroon-blog/merges\",\"archive_url\":\"https://api.github.com/repos/dev-liro/osscameroon-blog/{archive_format}{/ref}\",\"downloads_url\":\"https://api.github.com/repos/dev-liro/osscameroon-blog/downloads\",\"issues_url\":\"https://api.github.com/repos/dev-liro/osscameroon-blog/issues{/number}\",\"pulls_url\":\"https://api.github.com/repos/dev-liro/osscameroon-blog/pulls{/number}\",\"milestones_url\":\"https://api.github.com/repos/dev-liro/osscameroon-blog/milestones{/number}\",\"notifications_url\":\"https://api.github.com/repos/dev-liro/osscameroon-blog/notifications{?since,all,participating}\",\"labels_url\":\"https://api.github.com/repos/dev-liro/osscameroon-blog/labels{/name}\",\"releases_url\":\"https://api.github.com/repos/dev-liro/osscameroon-blog/releases{/id}\",\"deployments_url\":\"https://api.github.com/repos/dev-liro/osscameroon-blog/deployments\",\"created_at\":\"2022-01-10T14:04:15Z\",\"updated_at\":\"2022-01-11T15:10:31Z\",\"pushed_at\":\"2022-01-11T15:21:29Z\",\"git_url\":\"git://github.com/dev-liro/osscameroon-blog.git\",\"ssh_url\":\"git@github.com:dev-liro/osscameroon-blog.git\",\"clone_url\":\"https://github.com/dev-liro/osscameroon-blog.git\",\"svn_url\":\"https://github.com/dev-liro/osscameroon-blog\",\"homepage\":\"https://blog.osscameroon.com\",\"size\":4112,\"stargazers_count\":0,\"watchers_count\":0,\"language\":\"HTML\",\"has_issues\":false,\"has_projects\":true,\"has_downloads\":true,\"has_wiki\":true,\"has_pages\":false,\"forks_count\":0,\"mirror_url\":null,\"archived\":false,\"disabled\":false,\"open_issues_count\":0,\"license\":{\"key\":\"gpl-3.0\",\"name\":\"GNU General Public License v3.0\",\"spdx_id\":\"GPL-3.0\",\"url\":\"https://api.github.com/licenses/gpl-3.0\",\"node_id\":\"MDc6TGljZW5zZTk=\"},\"allow_forking\":true,\"is_template\":false,\"topics\":[],\"visibility\":\"public\",\"forks\":0,\"open_issues\":0,\"watchers\":0,\"default_branch\":\"main\"}},\"base\":{\"label\":\"osscameroon:main\",\"ref\":\"main\",\"sha\":\"aec0a2938978e9fc060f98ba86c9eb3a835b41cb\",\"user\":{\"login\":\"osscameroon\",\"id\":73784866,\"node_id\":\"MDEyOk9yZ2FuaXphdGlvbjczNzg0ODY2\",\"avatar_url\":\"https://avatars.githubusercontent.com/u/73784866?v=4\",\"gravatar_id\":\"\",\"url\":\"https://api.github.com/users/osscameroon\",\"html_url\":\"https://github.com/osscameroon\",\"followers_url\":\"https://api.github.com/users/osscameroon/followers\",\"following_url\":\"https://api.github.com/users/osscameroon/following{/other_user}\",\"gists_url\":\"https://api.github.com/users/osscameroon/gists{/gist_id}\",\"starred_url\":\"https://api.github.com/users/osscameroon/starred{/owner}{/repo}\",\"subscriptions_url\":\"https://api.github.com/users/osscameroon/subscriptions\",\"organizations_url\":\"https://api.github.com/users/osscameroon/orgs\",\"repos_url\":\"https://api.github.com/users/osscameroon/repos\",\"events_url\":\"https://api.github.com/users/osscameroon/events{/privacy}\",\"received_events_url\":\"https://api.github.com/users/osscameroon/received_events\",\"type\":\"Organization\",\"site_admin\":false},\"repo\":{\"id\":334151939,\"node_id\":\"MDEwOlJlcG9zaXRvcnkzMzQxNTE5Mzk=\",\"name\":\"osscameroon-blog\",\"full_name\":\"osscameroon/osscameroon-blog\",\"private\":false,\"owner\":{\"login\":\"osscameroon\",\"id\":73784866,\"node_id\":\"MDEyOk9yZ2FuaXphdGlvbjczNzg0ODY2\",\"avatar_url\":\"https://avatars.githubusercontent.com/u/73784866?v=4\",\"gravatar_id\":\"\",\"url\":\"https://api.github.com/users/osscameroon\",\"html_url\":\"https://github.com/osscameroon\",\"followers_url\":\"https://api.github.com/users/osscameroon/followers\",\"following_url\":\"https://api.github.com/users/osscameroon/following{/other_user}\",\"gists_url\":\"https://api.github.com/users/osscameroon/gists{/gist_id}\",\"starred_url\":\"https://api.github.com/users/osscameroon/starred{/owner}{/repo}\",\"subscriptions_url\":\"https://api.github.com/users/osscameroon/subscriptions\",\"organizations_url\":\"https://api.github.com/users/osscameroon/orgs\",\"repos_url\":\"https://api.github.com/users/osscameroon/repos\",\"events_url\":\"https://api.github.com/users/osscameroon/events{/privacy}\",\"received_events_url\":\"https://api.github.com/users/osscameroon/received_events\",\"type\":\"Organization\",\"site_admin\":false},\"html_url\":\"https://github.com/osscameroon/osscameroon-blog\",\"description\":\"blog for osscameroon\",\"fork\":false,\"url\":\"https://api.github.com/repos/osscameroon/osscameroon-blog\",\"forks_url\":\"https://api.github.com/repos/osscameroon/osscameroon-blog/forks\",\"keys_url\":\"https://api.github.com/repos/osscameroon/osscameroon-blog/keys{/key_id}\",\"collaborators_url\":\"https://api.github.com/repos/osscameroon/osscameroon-blog/collaborators{/collaborator}\",\"teams_url\":\"https://api.github.com/repos/osscameroon/osscameroon-blog/teams\",\"hooks_url\":\"https://api.github.com/repos/osscameroon/osscameroon-blog/hooks\",\"issue_events_url\":\"https://api.github.com/repos/osscameroon/osscameroon-blog/issues/events{/number}\",\"events_url\":\"https://api.github.com/repos/osscameroon/osscameroon-blog/events\",\"assignees_url\":\"https://api.github.com/repos/osscameroon/osscameroon-blog/assignees{/user}\",\"branches_url\":\"https://api.github.com/repos/osscameroon/osscameroon-blog/branches{/branch}\",\"tags_url\":\"https://api.github.com/repos/osscameroon/osscameroon-blog/tags\",\"blobs_url\":\"https://api.github.com/repos/osscameroon/osscameroon-blog/git/blobs{/sha}\",\"git_tags_url\":\"https://api.github.com/repos/osscameroon/osscameroon-blog/git/tags{/sha}\",\"git_refs_url\":\"https://api.github.com/repos/osscameroon/osscameroon-blog/git/refs{/sha}\",\"trees_url\":\"https://api.github.com/repos/osscameroon/osscameroon-blog/git/trees{/sha}\",\"statuses_url\":\"https://api.github.com/repos/osscameroon/osscameroon-blog/statuses/{sha}\",\"languages_url\":\"https://api.github.com/repos/osscameroon/osscameroon-blog/languages\",\"stargazers_url\":\"https://api.github.com/repos/osscameroon/osscameroon-blog/stargazers\",\"contributors_url\":\"https://api.github.com/repos/osscameroon/osscameroon-blog/contributors\",\"subscribers_url\":\"https://api.github.com/repos/osscameroon/osscameroon-blog/subscribers\",\"subscription_url\":\"https://api.github.com/repos/osscameroon/osscameroon-blog/subscription\",\"commits_url\":\"https://api.github.com/repos/osscameroon/osscameroon-blog/commits{/sha}\",\"git_commits_url\":\"https://api.github.com/repos/osscameroon/osscameroon-blog/git/commits{/sha}\",\"comments_url\":\"https://api.github.com/repos/osscameroon/osscameroon-blog/comments{/number}\",\"issue_comment_url\":\"https://api.github.com/repos/osscameroon/osscameroon-blog/issues/comments{/number}\",\"contents_url\":\"https://api.github.com/repos/osscameroon/osscameroon-blog/contents/{+path}\",\"compare_url\":\"https://api.github.com/repos/osscameroon/osscameroon-blog/compare/{base}...{head}\",\"merges_url\":\"https://api.github.com/repos/osscameroon/osscameroon-blog/merges\",\"archive_url\":\"https://api.github.com/repos/osscameroon/osscameroon-blog/{archive_format}{/ref}\",\"downloads_url\":\"https://api.github.com/repos/osscameroon/osscameroon-blog/downloads\",\"issues_url\":\"https://api.github.com/repos/osscameroon/osscameroon-blog/issues{/number}\",\"pulls_url\":\"https://api.github.com/repos/osscameroon/osscameroon-blog/pulls{/number}\",\"milestones_url\":\"https://api.github.com/repos/osscameroon/osscameroon-blog/milestones{/number}\",\"notifications_url\":\"https://api.github.com/repos/osscameroon/osscameroon-blog/notifications{?since,all,participating}\",\"labels_url\":\"https://api.github.com/repos/osscameroon/osscameroon-blog/labels{/name}\",\"releases_url\":\"https://api.github.com/repos/osscameroon/osscameroon-blog/releases{/id}\",\"deployments_url\":\"https://api.github.com/repos/osscameroon/osscameroon-blog/deployments\",\"created_at\":\"2021-01-29T13:21:30Z\",\"updated_at\":\"2022-01-10T15:24:09Z\",\"pushed_at\":\"2022-01-11T15:23:31Z\",\"git_url\":\"git://github.com/osscameroon/osscameroon-blog.git\",\"ssh_url\":\"git@github.com:osscameroon/osscameroon-blog.git\",\"clone_url\":\"https://github.com/osscameroon/osscameroon-blog.git\",\"svn_url\":\"https://github.com/osscameroon/osscameroon-blog\",\"homepage\":\"https://blog.osscameroon.com\",\"size\":4106,\"stargazers_count\":12,\"watchers_count\":12,\"language\":\"HTML\",\"has_issues\":true,\"has_projects\":true,\"has_downloads\":true,\"has_wiki\":true,\"has_pages\":false,\"forks_count\":26,\"mirror_url\":null,\"archived\":false,\"disabled\":false,\"open_issues_count\":7,\"license\":{\"key\":\"gpl-3.0\",\"name\":\"GNU General Public License v3.0\",\"spdx_id\":\"GPL-3.0\",\"url\":\"https://api.github.com/licenses/gpl-3.0\",\"node_id\":\"MDc6TGljZW5zZTk=\"},\"allow_forking\":true,\"is_template\":false,\"topics\":[\"blog\",\"hugo\"],\"visibility\":\"public\",\"forks\":26,\"open_issues\":7,\"watchers\":12,\"default_branch\":\"main\"}},\"_links\":{\"self\":{\"href\":\"https://api.github.com/repos/osscameroon/osscameroon-blog/pulls/54\"},\"html\":{\"href\":\"https://github.com/osscameroon/osscameroon-blog/pull/54\"},\"issue\":{\"href\":\"https://api.github.com/repos/osscameroon/osscameroon-blog/issues/54\"},\"comments\":{\"href\":\"https://api.github.com/repos/osscameroon/osscameroon-blog/issues/54/comments\"},\"review_comments\":{\"href\":\"https://api.github.com/repos/osscameroon/osscameroon-blog/pulls/54/comments\"},\"review_comment\":{\"href\":\"https://api.github.com/repos/osscameroon/osscameroon-blog/pulls/comments{/number}\"},\"commits\":{\"href\":\"https://api.github.com/repos/osscameroon/osscameroon-blog/pulls/54/commits\"},\"statuses\":{\"href\":\"https://api.github.com/repos/osscameroon/osscameroon-blog/statuses/7467a5174e10e7ba67eba15b18f2a936417b94a1\"}},\"author_association\":\"CONTRIBUTOR\",\"auto_merge\":null,\"active_lock_reason\":null}},\"public\":true,\"created_at\":\"2022-01-12T13:09:55Z\",\"org\":{\"id\":73784866,\"login\":\"osscameroon\",\"gravatar_id\":\"\",\"url\":\"https://api.github.com/orgs/osscameroon\",\"avatar_url\":\"https://avatars.githubusercontent.com/u/73784866?\"}},{\"id\":\"19696951114\",\"type\":\"PullRequestEvent\",\"actor\":{\"id\":49699333,\"login\":\"dependabot[bot]\",\"display_login\":\"dependabot\",\"gravatar_id\":\"\",\"url\":\"https://api.github.com/users/dependabot[bot]\",\"avatar_url\":\"https://avatars.githubusercontent.com/u/49699333?\"},\"repo\":{\"id\":358959680,\"name\":\"olawalejuwonm/electron-start\",\"url\":\"https://api.github.com/repos/olawalejuwonm/electron-start\"},\"payload\":{\"action\":\"opened\",\"number\":38,\"pull_request\":{\"url\":\"https://api.github.com/repos/olawalejuwonm/electron-start/pulls/38\",\"id\":819685363,\"node_id\":\"PR_kwDOFWVKQM4w22fz\",\"html_url\":\"https://github.com/olawalejuwonm/electron-start/pull/38\",\"diff_url\":\"https://github.com/olawalejuwonm/electron-start/pull/38.diff\",\"patch_url\":\"https://github.com/olawalejuwonm/electron-start/pull/38.patch\",\"issue_url\":\"https://api.github.com/repos/olawalejuwonm/electron-start/issues/38\",\"number\":38,\"state\":\"open\",\"locked\":false,\"title\":\"chore: bump electron from 12.0.4 to 16.0.7\",\"user\":{\"login\":\"dependabot[bot]\",\"id\":49699333,\"node_id\":\"MDM6Qm90NDk2OTkzMzM=\",\"avatar_url\":\"https://avatars.githubusercontent.com/in/29110?v=4\",\"gravatar_id\":\"\",\"url\":\"https://api.github.com/users/dependabot%5Bbot%5D\",\"html_url\":\"https://github.com/apps/dependabot\",\"followers_url\":\"https://api.github.com/users/dependabot%5Bbot%5D/followers\",\"following_url\":\"https://api.github.com/users/dependabot%5Bbot%5D/following{/other_user}\",\"gists_url\":\"https://api.github.com/users/dependabot%5Bbot%5D/gists{/gist_id}\",\"starred_url\":\"https://api.github.com/users/dependabot%5Bbot%5D/starred{/owner}{/repo}\",\"subscriptions_url\":\"https://api.github.com/users/dependabot%5Bbot%5D/subscriptions\",\"organizations_url\":\"https://api.github.com/users/dependabot%5Bbot%5D/orgs\",\"repos_url\":\"https://api.github.com/users/dependabot%5Bbot%5D/repos\",\"events_url\":\"https://api.github.com/users/dependabot%5Bbot%5D/events{/privacy}\",\"received_events_url\":\"https://api.github.com/users/dependabot%5Bbot%5D/received_events\",\"type\":\"Bot\",\"site_admin\":false},\"body\":\"Bumps [electron](https://github.com/electron/electron) from 12.0.4 to 16.0.7.\\\\n<details>\\\\n<summary>Release notes</summary>\\\\n<p><em>Sourced from <a href=\\\\\"https://github.com/electron/electron/releases\\\\\">electron\\'s releases</a>.</em></p>\\\\n<blockquote>\\\\n<h2>electron v16.0.7</h2>\\\\n<h1>Release Notes for v16.0.7</h1>\\\\n<h2>Fixes</h2>\\\\n<ul>\\\\n<li>Allowed specifying x64 arch on Mac Rosetta via <code>npm_config_arch</code>. <a href=\\\\\"https://github-redirect.dependabot.com/electron/electron/pull/32381\\\\\">#32381</a> <!-- raw HTML omitted -->(Also in <a href=\\\\\"https://github-redirect.dependabot.com/electron/electron/pull/32380\\\\\">15</a>, <a href=\\\\\"https://github-redirect.dependabot.com/electron/electron/pull/32382\\\\\">17</a>)<!-- raw HTML omitted --></li>\\\\n<li>Bug fixed for registering protocol in windows which used to set invalid command if the execution path included space. <a href=\\\\\"https://github-redirect.dependabot.com/electron/electron/pull/32331\\\\\">#32331</a> <!-- raw HTML omitted -->(Also in <a href=\\\\\"https://github-redirect.dependabot.com/electron/electron/pull/32328\\\\\">14</a>, <a href=\\\\\"https://github-redirect.dependabot.com/electron/electron/pull/32330\\\\\">15</a>, <a href=\\\\\"https://github-redirect.dependabot.com/electron/electron/pull/32329\\\\\">17</a>)<!-- raw HTML omitted --></li>\\\\n<li>Fixed  text input performance regression. <a href=\\\\\"https://github-redirect.dependabot.com/electron/electron/pull/32352\\\\\">#32352</a></li>\\\\n<li>Fixed a crash caused by app.getLocaleCountryCode(). <a href=\\\\\"https://github-redirect.dependabot.com/electron/electron/pull/32321\\\\\">#32321</a> <!-- raw HTML omitted -->(Also in <a href=\\\\\"https://github-redirect.dependabot.com/electron/electron/pull/32332\\\\\">15</a>, <a href=\\\\\"https://github-redirect.dependabot.com/electron/electron/pull/32322\\\\\">17</a>)<!-- raw HTML omitted --></li>\\\\n<li>Fixed incorrect <code>skipTransformProcessType</code> option parsing in <code>win.setVisibleOnAllWorkspaces()</code>. <a href=\\\\\"https://github-redirect.dependabot.com/electron/electron/pull/32397\\\\\">#32397</a> <!-- raw HTML omitted -->(Also in <a href=\\\\\"https://github-redirect.dependabot.com/electron/electron/pull/32394\\\\\">13</a>, <a href=\\\\\"https://github-redirect.dependabot.com/electron/electron/pull/32395\\\\\">14</a>, <a href=\\\\\"https://github-redirect.dependabot.com/electron/electron/pull/32396\\\\\">15</a>, <a href=\\\\\"https://github-redirect.dependabot.com/electron/electron/pull/32398\\\\\">17</a>)<!-- raw HTML omitted --></li>\\\\n<li>Fixed regression where console windows would open for execSync and some spawnSync calls for Windows users. <a href=\\\\\"https://github-redirect.dependabot.com/electron/electron/pull/32379\\\\\">#32379</a> <!-- raw HTML omitted -->(Also in <a href=\\\\\"https://github-redirect.dependabot.com/electron/electron/pull/32378\\\\\">17</a>)<!-- raw HTML omitted --></li>\\\\n</ul>\\\\n<h2>electron v16.0.6</h2>\\\\n<h1>Release Notes for v16.0.6</h1>\\\\n<h2>Fixes</h2>\\\\n<ul>\\\\n<li>Fixed crash when playing media files on Windows 7/8 or macOS 10.11/10.12. <a href=\\\\\"https://github-redirect.dependabot.com/electron/electron/pull/32215\\\\\">#32215</a> <!-- raw HTML omitted -->(Also in <a href=\\\\\"https://github-redirect.dependabot.com/electron/electron/pull/32213\\\\\">15</a>, <a href=\\\\\"https://github-redirect.dependabot.com/electron/electron/pull/32214\\\\\">17</a>)<!-- raw HTML omitted --></li>\\\\n<li>No Notes. <a href=\\\\\"https://github-redirect.dependabot.com/electron/electron/pull/32243\\\\\">#32243</a> <!-- raw HTML omitted -->(Also in <a href=\\\\\"https://github-redirect.dependabot.com/electron/electron/pull/32241\\\\\">13</a>, <a href=\\\\\"https://github-redirect.dependabot.com/electron/electron/pull/32242\\\\\">14</a>, <a href=\\\\\"https://github-redirect.dependabot.com/electron/electron/pull/32245\\\\\">15</a>, <a href=\\\\\"https://github-redirect.dependabot.com/electron/electron/pull/32244\\\\\">17</a>)<!-- raw HTML omitted --></li>\\\\n</ul>\\\\n<h2>Other Changes</h2>\\\\n<ul>\\\\n<li>Updated Chromium to 96.0.4664.110. <a href=\\\\\"https://github-redirect.dependabot.com/electron/electron/pull/32123\\\\\">#32123</a></li>\\\\n</ul>\\\\n<h2>electron v16.0.5</h2>\\\\n<h1>Release Notes for v16.0.5</h1>\\\\n<h2>Fixes</h2>\\\\n<ul>\\\\n<li>Assertion failure happening in the <code>showSaveDialogSync()</code> code path has been fixed. (Fixes <a href=\\\\\"https://github-redirect.dependabot.com/electron/electron/issues/31997\\\\\">#31997</a>). <a href=\\\\\"https://github-redirect.dependabot.com/electron/electron/pull/32082\\\\\">#32082</a> <!-- raw HTML omitted -->(Also in <a href=\\\\\"https://github-redirect.dependabot.com/electron/electron/pull/32080\\\\\">14</a>, <a href=\\\\\"https://github-redirect.dependabot.com/electron/electron/pull/32081\\\\\">15</a>, <a href=\\\\\"https://github-redirect.dependabot.com/electron/electron/pull/32083\\\\\">17</a>)<!-- raw HTML omitted --></li>\\\\n<li>Fixed <code>window.open</code> not overriding parent\\'s <code>webPreferences</code>. <a href=\\\\\"https://github-redirect.dependabot.com/electron/electron/pull/32108\\\\\">#32108</a> <!-- raw HTML omitted -->(Also in <a href=\\\\\"https://github-redirect.dependabot.com/electron/electron/pull/32107\\\\\">17</a>)<!-- raw HTML omitted --></li>\\\\n<li>No Notes. <a href=\\\\\"https://github-redirect.dependabot.com/electron/electron/pull/32199\\\\\">#32199</a> <!-- raw HTML omitted -->(Also in <a href=\\\\\"https://github-redirect.dependabot.com/electron/electron/pull/32195\\\\\">13</a>, <a href=\\\\\"https://github-redirect.dependabot.com/electron/electron/pull/32196\\\\\">14</a>, <a href=\\\\\"https://github-redirect.dependabot.com/electron/electron/pull/32197\\\\\">15</a>, <a href=\\\\\"https://github-redirect.dependabot.com/electron/electron/pull/32198\\\\\">17</a>)<!-- raw HTML omitted --></li>\\\\n</ul>\\\\n<h2>electron v16.0.4</h2>\\\\n<h1>Release Notes for v16.0.4</h1>\\\\n<h2>Fixes</h2>\\\\n<ul>\\\\n<li>Fixed potential crash on Windows and Linux when using <code>desktopCapturer.getSources</code>. <a href=\\\\\"https://github-redirect.dependabot.com/electron/electron/pull/32089\\\\\">#32089</a> <!-- raw HTML omitted -->(Also in <a href=\\\\\"https://github-redirect.dependabot.com/electron/electron/pull/32070\\\\\">17</a>)<!-- raw HTML omitted --></li>\\\\n</ul>\\\\n<h2>electron v16.0.3</h2>\\\\n<h1>Release Notes for v16.0.3</h1>\\\\n<h2>Fixes</h2>\\\\n<ul>\\\\n<li>Fixed respecting aspect ratio when maximum size is set on BrowserWindow. <a href=\\\\\"https://github-redirect.dependabot.com/electron/electron/pull/31957\\\\\">#31957</a> <!-- raw HTML omitted -->(Also in <a href=\\\\\"https://github-redirect.dependabot.com/electron/electron/pull/31955\\\\\">14</a>, <a href=\\\\\"https://github-redirect.dependabot.com/electron/electron/pull/31956\\\\\">15</a>, <a href=\\\\\"https://github-redirect.dependabot.com/electron/electron/pull/31958\\\\\">17</a>)<!-- raw HTML omitted --></li>\\\\n</ul>\\\\n<h2>electron v16.0.2</h2>\\\\n<h1>Release Notes for v16.0.2</h1>\\\\n<h2>Fixes</h2>\\\\n<!-- raw HTML omitted -->\\\\n</blockquote>\\\\n<p>... (truncated)</p>\\\\n</details>\\\\n<details>\\\\n<summary>Commits</summary>\\\\n<ul>\\\\n<li><a href=\\\\\"https://github.com/electron/electron/commit/86cf473d814fabf6e364bc7df387c45dde3a1484\\\\\"><code>86cf473</code></a> Bump v16.0.7</li>\\\\n<li><a href=\\\\\"https://github.com/electron/electron/commit/26e37db25c07c1df13e36f532a59de23cac9bfe3\\\\\"><code>26e37db</code></a> fix: Support running git-[im,ex]port-patches with Python3 too (<a href=\\\\\"https://github-redirect.dependabot.com/electron/electron/issues/32409\\\\\">#32409</a>)</li>\\\\n<li><a href=\\\\\"https://github.com/electron/electron/commit/3ddb61fc3a800d1bb975670669ac8775684946e2\\\\\"><code>3ddb61f</code></a> fix: incorrect <code>skipTransformProcessType</code> option parsing in `win.setVisibleOn...</li>\\\\n<li><a href=\\\\\"https://github.com/electron/electron/commit/68a512a541083fd0f00b0598a9d737ddce4813ba\\\\\"><code>68a512a</code></a> docs: left is a valid mode in contents.openDevTools() options (<a href=\\\\\"https://github-redirect.dependabot.com/electron/electron/issues/32372\\\\\">#32372</a>) (<a href=\\\\\"https://github-redirect.dependabot.com/electron/electron/issues/32403\\\\\">#32403</a>)</li>\\\\n<li><a href=\\\\\"https://github.com/electron/electron/commit/adb571bcde2ff7b6b23dc14b9750e149535b29fc\\\\\"><code>adb571b</code></a> docs: clarify case insensitive dictionary hosting (<a href=\\\\\"https://github-redirect.dependabot.com/electron/electron/issues/32401\\\\\">#32401</a>)</li>\\\\n<li><a href=\\\\\"https://github.com/electron/electron/commit/9183cf6a66f5cde0276ff40674bf385328b30e81\\\\\"><code>9183cf6</code></a> docs: fix note for <code>will-move</code> event (<a href=\\\\\"https://github-redirect.dependabot.com/electron/electron/issues/32399\\\\\">#32399</a>)</li>\\\\n<li><a href=\\\\\"https://github.com/electron/electron/commit/c5d5c28a79888c1b4152efff09f93fa43bdf9208\\\\\"><code>c5d5c28</code></a> fix: Don\\'t create console window when creating process (<a href=\\\\\"https://github-redirect.dependabot.com/electron/electron/issues/32379\\\\\">#32379</a>)</li>\\\\n<li><a href=\\\\\"https://github.com/electron/electron/commit/59aba70e8f0f8948e1784de235ca3495e4de9283\\\\\"><code>59aba70</code></a> fix: allow npm_config_arch override on mac (<a href=\\\\\"https://github-redirect.dependabot.com/electron/electron/issues/32381\\\\\">#32381</a>)</li>\\\\n<li><a href=\\\\\"https://github.com/electron/electron/commit/e640ab47fd7a9400d94ec7be462a1d68d22b7056\\\\\"><code>e640ab4</code></a> docs: improve BrowserView example (<a href=\\\\\"https://github-redirect.dependabot.com/electron/electron/issues/32365\\\\\">#32365</a>)</li>\\\\n<li><a href=\\\\\"https://github.com/electron/electron/commit/fff7e18c70c4a5a1a77408570085ae0df8d33580\\\\\"><code>fff7e18</code></a> fix: text input performance regression (<a href=\\\\\"https://github-redirect.dependabot.com/electron/electron/issues/32352\\\\\">#32352</a>)</li>\\\\n<li>Additional commits viewable in <a href=\\\\\"https://github.com/electron/electron/compare/v12.0.4...v16.0.7\\\\\">compare view</a></li>\\\\n</ul>\\\\n</details>\\\\n<br />\\\\n\\\\n\\\\n[![Dependabot compatibility score](https://dependabot-badges.githubapp.com/badges/compatibility_score?dependency-name=electron&package-manager=npm_and_yarn&previous-version=12.0.4&new-version=16.0.7)](https://docs.github.com/en/github/managing-security-vulnerabilities/about-dependabot-security-updates#about-compatibility-scores)\\\\n\\\\nDependabot will resolve any conflicts with this PR as long as you don\\'t alter it yourself. You can also trigger a rebase manually by commenting `@dependabot rebase`.\\\\n\\\\n[//]: # (dependabot-automerge-start)\\\\n[//]: # (dependabot-automerge-end)\\\\n\\\\n---\\\\n\\\\n<details>\\\\n<summary>Dependabot commands and options</summary>\\\\n<br />\\\\n\\\\nYou can trigger Dependabot actions by commenting on this PR:\\\\n- `@dependabot rebase` will rebase this PR\\\\n- `@dependabot recreate` will recreate this PR, overwriting any edits that have been made to it\\\\n- `@dependabot merge` will merge this PR after your CI passes on it\\\\n- `@dependabot squash and merge` will squash and merge this PR after your CI passes on it\\\\n- `@dependabot cancel merge` will cancel a previously requested merge and block automerging\\\\n- `@dependabot reopen` will reopen this PR if it is closed\\\\n- `@dependabot close` will close this PR and stop Dependabot recreating it. You can achieve the same result by closing it manually\\\\n- `@dependabot ignore this major version` will close this PR and stop Dependabot creating any more for this major version (unless you reopen the PR or upgrade to it yourself)\\\\n- `@dependabot ignore this minor version` will close this PR and stop Dependabot creating any more for this minor version (unless you reopen the PR or upgrade to it yourself)\\\\n- `@dependabot ignore this dependency` will close this PR and stop Dependabot creating any more for this dependency (unless you reopen the PR or upgrade to it yourself)\\\\n\\\\n\\\\n</details>\",\"created_at\":\"2022-01-12T13:09:55Z\",\"updated_at\":\"2022-01-12T13:09:55Z\",\"closed_at\":null,\"merged_at\":null,\"merge_commit_sha\":null,\"assignee\":null,\"assignees\":[],\"requested_reviewers\":[],\"requested_teams\":[],\"labels\":[],\"milestone\":null,\"draft\":false,\"commits_url\":\"https://api.github.com/repos/olawalejuwonm/electron-start/pulls/38/commits\",\"review_comments_url\":\"https://api.github.com/repos/olawalejuwonm/electron-start/pulls/38/comments\",\"review_comment_url\":\"https://api.github.com/repos/olawalejuwonm/electron-start/pulls/comments{/number}\",\"comments_url\":\"https://api.github.com/repos/olawalejuwonm/electron-start/issues/38/comments\",\"statuses_url\":\"https://api.github.com/repos/olawalejuwonm/electron-start/statuses/66cb7f946f8f89ac1522733c5f26e0d26976122d\",\"head\":{\"label\":\"olawalejuwonm:dependabot/npm_and_yarn/electron-16.0.7\",\"ref\":\"dependabot/npm_and_yarn/electron-16.0.7\",\"sha\":\"66cb7f946f8f89ac1522733c5f26e0d26976122d\",\"user\":{\"login\":\"olawalejuwonm\",\"id\":52759812,\"node_id\":\"MDQ6VXNlcjUyNzU5ODEy\",\"avatar_url\":\"https://avatars.githubusercontent.com/u/52759812?v=4\",\"gravatar_id\":\"\",\"url\":\"https://api.github.com/users/olawalejuwonm\",\"html_url\":\"https://github.com/olawalejuwonm\",\"followers_url\":\"https://api.github.com/users/olawalejuwonm/followers\",\"following_url\":\"https://api.github.com/users/olawalejuwonm/following{/other_user}\",\"gists_url\":\"https://api.github.com/users/olawalejuwonm/gists{/gist_id}\",\"starred_url\":\"https://api.github.com/users/olawalejuwonm/starred{/owner}{/repo}\",\"subscriptions_url\":\"https://api.github.com/users/olawalejuwonm/subscriptions\",\"organizations_url\":\"https://api.github.com/users/olawalejuwonm/orgs\",\"repos_url\":\"https://api.github.com/users/olawalejuwonm/repos\",\"events_url\":\"https://api.github.com/users/olawalejuwonm/events{/privacy}\",\"received_events_url\":\"https://api.github.com/users/olawalejuwonm/received_events\",\"type\":\"User\",\"site_admin\":false},\"repo\":{\"id\":358959680,\"node_id\":\"MDEwOlJlcG9zaXRvcnkzNTg5NTk2ODA=\",\"name\":\"electron-start\",\"full_name\":\"olawalejuwonm/electron-start\",\"private\":false,\"owner\":{\"login\":\"olawalejuwonm\",\"id\":52759812,\"node_id\":\"MDQ6VXNlcjUyNzU5ODEy\",\"avatar_url\":\"https://avatars.githubusercontent.com/u/52759812?v=4\",\"gravatar_id\":\"\",\"url\":\"https://api.github.com/users/olawalejuwonm\",\"html_url\":\"https://github.com/olawalejuwonm\",\"followers_url\":\"https://api.github.com/users/olawalejuwonm/followers\",\"following_url\":\"https://api.github.com/users/olawalejuwonm/following{/other_user}\",\"gists_url\":\"https://api.github.com/users/olawalejuwonm/gists{/gist_id}\",\"starred_url\":\"https://api.github.com/users/olawalejuwonm/starred{/owner}{/repo}\",\"subscriptions_url\":\"https://api.github.com/users/olawalejuwonm/subscriptions\",\"organizations_url\":\"https://api.github.com/users/olawalejuwonm/orgs\",\"repos_url\":\"https://api.github.com/users/olawalejuwonm/repos\",\"events_url\":\"https://api.github.com/users/olawalejuwonm/events{/privacy}\",\"received_events_url\":\"https://api.github.com/users/olawalejuwonm/received_events\",\"type\":\"User\",\"site_admin\":false},\"html_url\":\"https://github.com/olawalejuwonm/electron-start\",\"description\":null,\"fork\":false,\"url\":\"https://api.github.com/repos/olawalejuwonm/electron-start\",\"forks_url\":\"https://api.github.com/repos/olawalejuwonm/electron-start/forks\",\"keys_url\":\"https://api.github.com/repos/olawalejuwonm/electron-start/keys{/key_id}\",\"collaborators_url\":\"https://api.github.com/repos/olawalejuwonm/electron-start/collaborators{/collaborator}\",\"teams_url\":\"https://api.github.com/repos/olawalejuwonm/electron-start/teams\",\"hooks_url\":\"https://api.github.com/repos/olawalejuwonm/electron-start/hooks\",\"issue_events_url\":\"https://api.github.com/repos/olawalejuwonm/electron-start/issues/events{/number}\",\"events_url\":\"https://api.github.com/repos/olawalejuwonm/electron-start/events\",\"assignees_url\":\"https://api.github.com/repos/olawalejuwonm/electron-start/assignees{/user}\",\"branches_url\":\"https://api.github.com/repos/olawalejuwonm/electron-start/branches{/branch}\",\"tags_url\":\"https://api.github.com/repos/olawalejuwonm/electron-start/tags\",\"blobs_url\":\"https://api.github.com/repos/olawalejuwonm/electron-start/git/blobs{/sha}\",\"git_tags_url\":\"https://api.github.com/repos/olawalejuwonm/electron-start/git/tags{/sha}\",\"git_refs_url\":\"https://api.github.com/repos/olawalejuwonm/electron-start/git/refs{/sha}\",\"trees_url\":\"https://api.github.com/repos/olawalejuwonm/electron-start/git/trees{/sha}\",\"statuses_url\":\"https://api.github.com/repos/olawalejuwonm/electron-start/statuses/{sha}\",\"languages_url\":\"https://api.github.com/repos/olawalejuwonm/electron-start/languages\",\"stargazers_url\":\"https://api.github.com/repos/olawalejuwonm/electron-start/stargazers\",\"contributors_url\":\"https://api.github.com/repos/olawalejuwonm/electron-start/contributors\",\"subscribers_url\":\"https://api.github.com/repos/olawalejuwonm/electron-start/subscribers\",\"subscription_url\":\"https://api.github.com/repos/olawalejuwonm/electron-start/subscription\",\"commits_url\":\"https://api.github.com/repos/olawalejuwonm/electron-start/commits{/sha}\",\"git_commits_url\":\"https://api.github.com/repos/olawalejuwonm/electron-start/git/commits{/sha}\",\"comments_url\":\"https://api.github.com/repos/olawalejuwonm/electron-start/comments{/number}\",\"issue_comment_url\":\"https://api.github.com/repos/olawalejuwonm/electron-start/issues/comments{/number}\",\"contents_url\":\"https://api.github.com/repos/olawalejuwonm/electron-start/contents/{+path}\",\"compare_url\":\"https://api.github.com/repos/olawalejuwonm/electron-start/compare/{base}...{head}\",\"merges_url\":\"https://api.github.com/repos/olawalejuwonm/electron-start/merges\",\"archive_url\":\"https://api.github.com/repos/olawalejuwonm/electron-start/{archive_format}{/ref}\",\"downloads_url\":\"https://api.github.com/repos/olawalejuwonm/electron-start/downloads\",\"issues_url\":\"https://api.github.com/repos/olawalejuwonm/electron-start/issues{/number}\",\"pulls_url\":\"https://api.github.com/repos/olawalejuwonm/electron-start/pulls{/number}\",\"milestones_url\":\"https://api.github.com/repos/olawalejuwonm/electron-start/milestones{/number}\",\"notifications_url\":\"https://api.github.com/repos/olawalejuwonm/electron-start/notifications{?since,all,participating}\",\"labels_url\":\"https://api.github.com/repos/olawalejuwonm/electron-start/labels{/name}\",\"releases_url\":\"https://api.github.com/repos/olawalejuwonm/electron-start/releases{/id}\",\"deployments_url\":\"https://api.github.com/repos/olawalejuwonm/electron-start/deployments\",\"created_at\":\"2021-04-17T18:59:45Z\",\"updated_at\":\"2021-10-13T23:06:33Z\",\"pushed_at\":\"2022-01-12T13:09:55Z\",\"git_url\":\"git://github.com/olawalejuwonm/electron-start.git\",\"ssh_url\":\"git@github.com:olawalejuwonm/electron-start.git\",\"clone_url\":\"https://github.com/olawalejuwonm/electron-start.git\",\"svn_url\":\"https://github.com/olawalejuwonm/electron-start\",\"homepage\":null,\"size\":62716,\"stargazers_count\":0,\"watchers_count\":0,\"language\":\"JavaScript\",\"has_issues\":true,\"has_projects\":true,\"has_downloads\":true,\"has_wiki\":true,\"has_pages\":false,\"forks_count\":0,\"mirror_url\":null,\"archived\":false,\"disabled\":false,\"open_issues_count\":3,\"license\":{\"key\":\"cc0-1.0\",\"name\":\"Creative Commons Zero v1.0 Universal\",\"spdx_id\":\"CC0-1.0\",\"url\":\"https://api.github.com/licenses/cc0-1.0\",\"node_id\":\"MDc6TGljZW5zZTY=\"},\"allow_forking\":true,\"is_template\":false,\"topics\":[],\"visibility\":\"public\",\"forks\":0,\"open_issues\":3,\"watchers\":0,\"default_branch\":\"master\"}},\"base\":{\"label\":\"olawalejuwonm:master\",\"ref\":\"master\",\"sha\":\"c59b94496b2b82edb8f86d28efb968f98ac280d2\",\"user\":{\"login\":\"olawalejuwonm\",\"id\":52759812,\"node_id\":\"MDQ6VXNlcjUyNzU5ODEy\",\"avatar_url\":\"https://avatars.githubusercontent.com/u/52759812?v=4\",\"gravatar_id\":\"\",\"url\":\"https://api.github.com/users/olawalejuwonm\",\"html_url\":\"https://github.com/olawalejuwonm\",\"followers_url\":\"https://api.github.com/users/olawalejuwonm/followers\",\"following_url\":\"https://api.github.com/users/olawalejuwonm/following{/other_user}\",\"gists_url\":\"https://api.github.com/users/olawalejuwonm/gists{/gist_id}\",\"starred_url\":\"https://api.github.com/users/olawalejuwonm/starred{/owner}{/repo}\",\"subscriptions_url\":\"https://api.github.com/users/olawalejuwonm/subscriptions\",\"organizations_url\":\"https://api.github.com/users/olawalejuwonm/orgs\",\"repos_url\":\"https://api.github.com/users/olawalejuwonm/repos\",\"events_url\":\"https://api.github.com/users/olawalejuwonm/events{/privacy}\",\"received_events_url\":\"https://api.github.com/users/olawalejuwonm/received_events\",\"type\":\"User\",\"site_admin\":false},\"repo\":{\"id\":358959680,\"node_id\":\"MDEwOlJlcG9zaXRvcnkzNTg5NTk2ODA=\",\"name\":\"electron-start\",\"full_name\":\"olawalejuwonm/electron-start\",\"private\":false,\"owner\":{\"login\":\"olawalejuwonm\",\"id\":52759812,\"node_id\":\"MDQ6VXNlcjUyNzU5ODEy\",\"avatar_url\":\"https://avatars.githubusercontent.com/u/52759812?v=4\",\"gravatar_id\":\"\",\"url\":\"https://api.github.com/users/olawalejuwonm\",\"html_url\":\"https://github.com/olawalejuwonm\",\"followers_url\":\"https://api.github.com/users/olawalejuwonm/followers\",\"following_url\":\"https://api.github.com/users/olawalejuwonm/following{/other_user}\",\"gists_url\":\"https://api.github.com/users/olawalejuwonm/gists{/gist_id}\",\"starred_url\":\"https://api.github.com/users/olawalejuwonm/starred{/owner}{/repo}\",\"subscriptions_url\":\"https://api.github.com/users/olawalejuwonm/subscriptions\",\"organizations_url\":\"https://api.github.com/users/olawalejuwonm/orgs\",\"repos_url\":\"https://api.github.com/users/olawalejuwonm/repos\",\"events_url\":\"https://api.github.com/users/olawalejuwonm/events{/privacy}\",\"received_events_url\":\"https://api.github.com/users/olawalejuwonm/received_events\",\"type\":\"User\",\"site_admin\":false},\"html_url\":\"https://github.com/olawalejuwonm/electron-start\",\"description\":null,\"fork\":false,\"url\":\"https://api.github.com/repos/olawalejuwonm/electron-start\",\"forks_url\":\"https://api.github.com/repos/olawalejuwonm/electron-start/forks\",\"keys_url\":\"https://api.github.com/repos/olawalejuwonm/electron-start/keys{/key_id}\",\"collaborators_url\":\"https://api.github.com/repos/olawalejuwonm/electron-start/collaborators{/collaborator}\",\"teams_url\":\"https://api.github.com/repos/olawalejuwonm/electron-start/teams\",\"hooks_url\":\"https://api.github.com/repos/olawalejuwonm/electron-start/hooks\",\"issue_events_url\":\"https://api.github.com/repos/olawalejuwonm/electron-start/issues/events{/number}\",\"events_url\":\"https://api.github.com/repos/olawalejuwonm/electron-start/events\",\"assignees_url\":\"https://api.github.com/repos/olawalejuwonm/electron-start/assignees{/user}\",\"branches_url\":\"https://api.github.com/repos/olawalejuwonm/electron-start/branches{/branch}\",\"tags_url\":\"https://api.github.com/repos/olawalejuwonm/electron-start/tags\",\"blobs_url\":\"https://api.github.com/repos/olawalejuwonm/electron-start/git/blobs{/sha}\",\"git_tags_url\":\"https://api.github.com/repos/olawalejuwonm/electron-start/git/tags{/sha}\",\"git_refs_url\":\"https://api.github.com/repos/olawalejuwonm/electron-start/git/refs{/sha}\",\"trees_url\":\"https://api.github.com/repos/olawalejuwonm/electron-start/git/trees{/sha}\",\"statuses_url\":\"https://api.github.com/repos/olawalejuwonm/electron-start/statuses/{sha}\",\"languages_url\":\"https://api.github.com/repos/olawalejuwonm/electron-start/languages\",\"stargazers_url\":\"https://api.github.com/repos/olawalejuwonm/electron-start/stargazers\",\"contributors_url\":\"https://api.github.com/repos/olawalejuwonm/electron-start/contributors\",\"subscribers_url\":\"https://api.github.com/repos/olawalejuwonm/electron-start/subscribers\",\"subscription_url\":\"https://api.github.com/repos/olawalejuwonm/electron-start/subscription\",\"commits_url\":\"https://api.github.com/repos/olawalejuwonm/electron-start/commits{/sha}\",\"git_commits_url\":\"https://api.github.com/repos/olawalejuwonm/electron-start/git/commits{/sha}\",\"comments_url\":\"https://api.github.com/repos/olawalejuwonm/electron-start/comments{/number}\",\"issue_comment_url\":\"https://api.github.com/repos/olawalejuwonm/electron-start/issues/comments{/number}\",\"contents_url\":\"https://api.github.com/repos/olawalejuwonm/electron-start/contents/{+path}\",\"compare_url\":\"https://api.github.com/repos/olawalejuwonm/electron-start/compare/{base}...{head}\",\"merges_url\":\"https://api.github.com/repos/olawalejuwonm/electron-start/merges\",\"archive_url\":\"https://api.github.com/repos/olawalejuwonm/electron-start/{archive_format}{/ref}\",\"downloads_url\":\"https://api.github.com/repos/olawalejuwonm/electron-start/downloads\",\"issues_url\":\"https://api.github.com/repos/olawalejuwonm/electron-start/issues{/number}\",\"pulls_url\":\"https://api.github.com/repos/olawalejuwonm/electron-start/pulls{/number}\",\"milestones_url\":\"https://api.github.com/repos/olawalejuwonm/electron-start/milestones{/number}\",\"notifications_url\":\"https://api.github.com/repos/olawalejuwonm/electron-start/notifications{?since,all,participating}\",\"labels_url\":\"https://api.github.com/repos/olawalejuwonm/electron-start/labels{/name}\",\"releases_url\":\"https://api.github.com/repos/olawalejuwonm/electron-start/releases{/id}\",\"deployments_url\":\"https://api.github.com/repos/olawalejuwonm/electron-start/deployments\",\"created_at\":\"2021-04-17T18:59:45Z\",\"updated_at\":\"2021-10-13T23:06:33Z\",\"pushed_at\":\"2022-01-12T13:09:55Z\",\"git_url\":\"git://github.com/olawalejuwonm/electron-start.git\",\"ssh_url\":\"git@github.com:olawalejuwonm/electron-start.git\",\"clone_url\":\"https://github.com/olawalejuwonm/electron-start.git\",\"svn_url\":\"https://github.com/olawalejuwonm/electron-start\",\"homepage\":null,\"size\":62716,\"stargazers_count\":0,\"watchers_count\":0,\"language\":\"JavaScript\",\"has_issues\":true,\"has_projects\":true,\"has_downloads\":true,\"has_wiki\":true,\"has_pages\":false,\"forks_count\":0,\"mirror_url\":null,\"archived\":false,\"disabled\":false,\"open_issues_count\":3,\"license\":{\"key\":\"cc0-1.0\",\"name\":\"Creative Commons Zero v1.0 Universal\",\"spdx_id\":\"CC0-1.0\",\"url\":\"https://api.github.com/licenses/cc0-1.0\",\"node_id\":\"MDc6TGljZW5zZTY=\"},\"allow_forking\":true,\"is_template\":false,\"topics\":[],\"visibility\":\"public\",\"forks\":0,\"open_issues\":3,\"watchers\":0,\"default_branch\":\"master\"}},\"_links\":{\"self\":{\"href\":\"https://api.github.com/repos/olawalejuwonm/electron-start/pulls/38\"},\"html\":{\"href\":\"https://github.com/olawalejuwonm/electron-start/pull/38\"},\"issue\":{\"href\":\"https://api.github.com/repos/olawalejuwonm/electron-start/issues/38\"},\"comments\":{\"href\":\"https://api.github.com/repos/olawalejuwonm/electron-start/issues/38/comments\"},\"review_comments\":{\"href\":\"https://api.github.com/repos/olawalejuwonm/electron-start/pulls/38/comments\"},\"review_comment\":{\"href\":\"https://api.github.com/repos/olawalejuwonm/electron-start/pulls/comments{/number}\"},\"commits\":{\"href\":\"https://api.github.com/repos/olawalejuwonm/electron-start/pulls/38/commits\"},\"statuses\":{\"href\":\"https://api.github.com/repos/olawalejuwonm/electron-start/statuses/66cb7f946f8f89ac1522733c5f26e0d26976122d\"}},\"author_association\":\"NONE\",\"auto_merge\":null,\"active_lock_reason\":null,\"merged\":false,\"mergeable\":null,\"rebaseable\":null,\"mergeable_state\":\"unknown\",\"merged_by\":null,\"comments\":0,\"review_comments\":0,\"maintainer_can_modify\":false,\"commits\":1,\"additions\":39,\"deletions\":47,\"changed_files\":2}},\"public\":true,\"created_at\":\"2022-01-12T13:09:56Z\"},{\"id\":\"19696951108\",\"type\":\"PushEvent\",\"actor\":{\"id\":5609886,\"login\":\"beorn7\",\"display_login\":\"beorn7\",\"gravatar_id\":\"\",\"url\":\"https://api.github.com/users/beorn7\",\"avatar_url\":\"https://avatars.githubusercontent.com/u/5609886?\"},\"repo\":{\"id\":6838921,\"name\":\"prometheus/prometheus\",\"url\":\"https://api.github.com/repos/prometheus/prometheus\"},\"payload\":{\"push_id\":8817178383,\"size\":4,\"distinct_size\":4,\"ref\":\"refs/heads/main\",\"head\":\"933f50bcda0f1a1ac9d75c5c0558a50c993bb614\",\"before\":\"2f4289a3bfaca725a14f41e30f1c91de92936242\",\"commits\":[{\"sha\":\"61509fc8400be7418869343d1338beae8db2e9a7\",\"author\":{\"email\":\"beorn@grafana.com\",\"name\":\"beorn7\"},\"message\":\"PromQL: Promote negative offset and @ modifer to stable\\\\n\\\\nFollowing the argument that breaking the invariant that PromQL does\\\\nnot look ahead of the evaluation time implies a breaking change, we\\\\nstill need to keep the feature flag around, but at least we can\\\\ncommunicate that the feature is considered stable, and that the\\\\nfeature flags will be ignored from v3 on.\\\\n\\\\nSigned-off-by: beorn7 <beorn@grafana.com>\",\"distinct\":true,\"url\":\"https://api.github.com/repos/prometheus/prometheus/commits/61509fc8400be7418869343d1338beae8db2e9a7\"},{\"sha\":\"b39f2739e5b01560ad8299d2579f1041a0e9ae5f\",\"author\":{\"email\":\"beorn@grafana.com\",\"name\":\"beorn7\"},\"message\":\"PromQL: Always enable negative offset and @ modifier\\\\n\\\\nThis follows the line of argument that the invariant of not looking\\\\nahead of the query time was merely emerging behavior and not a\\\\ndocumented stable feature. Any query that looks ahead of the query\\\\ntime was simply invalid before the introduction of the negative offset\\\\nand the @ modifier.\\\\n\\\\nSigned-off-by: beorn7 <beorn@grafana.com>\",\"distinct\":true,\"url\":\"https://api.github.com/repos/prometheus/prometheus/commits/b39f2739e5b01560ad8299d2579f1041a0e9ae5f\"},{\"sha\":\"c2b80d86437fc7766d65fd4f6b7503f0dd618be7\",\"author\":{\"email\":\"beorn@grafana.com\",\"name\":\"beorn7\"},\"message\":\"PromQL: Test negative offset in PromQL tests\\\\n\\\\nSigned-off-by: beorn7 <beorn@grafana.com>\",\"distinct\":true,\"url\":\"https://api.github.com/repos/prometheus/prometheus/commits/c2b80d86437fc7766d65fd4f6b7503f0dd618be7\"},{\"sha\":\"933f50bcda0f1a1ac9d75c5c0558a50c993bb614\",\"author\":{\"email\":\"beorn@grafana.com\",\"name\":\"Björn Rabenstein\"},\"message\":\"Merge pull request #10121 from prometheus/beorn7/promql\\\\n\\\\nPromQL: Promote negative offset and @ modifer to stable\",\"distinct\":true,\"url\":\"https://api.github.com/repos/prometheus/prometheus/commits/933f50bcda0f1a1ac9d75c5c0558a50c993bb614\"}]},\"public\":true,\"created_at\":\"2022-01-12T13:09:56Z\",\"org\":{\"id\":3380462,\"login\":\"prometheus\",\"gravatar_id\":\"\",\"url\":\"https://api.github.com/orgs/prometheus\",\"avatar_url\":\"https://avatars.githubusercontent.com/u/3380462?\"}},{\"id\":\"19696951098\",\"type\":\"PushEvent\",\"actor\":{\"id\":88250457,\"login\":\"thomasn8\",\"display_login\":\"thomasn8\",\"gravatar_id\":\"\",\"url\":\"https://api.github.com/users/thomasn8\",\"avatar_url\":\"https://avatars.githubusercontent.com/u/88250457?\"},\"repo\":{\"id\":433554721,\"name\":\"thomasn8/fdf_bonus\",\"url\":\"https://api.github.com/repos/thomasn8/fdf_bonus\"},\"payload\":{\"push_id\":8817178460,\"size\":1,\"distinct_size\":1,\"ref\":\"refs/heads/master\",\"head\":\"2c50b8f497dbb216efd0a5cdec2723bf10037a33\",\"before\":\"331d9663eeaf4195f031e9351a4bc0c5c33b3ab3\",\"commits\":[{\"sha\":\"2c50b8f497dbb216efd0a5cdec2723bf10037a33\",\"author\":{\"email\":\"88250457+thomasn8@users.noreply.github.com\",\"name\":\"thomasn8\"},\"message\":\"Delete pylone.png\",\"distinct\":true,\"url\":\"https://api.github.com/repos/thomasn8/fdf_bonus/commits/2c50b8f497dbb216efd0a5cdec2723bf10037a33\"}]},\"public\":true,\"created_at\":\"2022-01-12T13:09:56Z\"},{\"id\":\"19696951116\",\"type\":\"CreateEvent\",\"actor\":{\"id\":1730441,\"login\":\"aturner-epcc\",\"display_login\":\"aturner-epcc\",\"gravatar_id\":\"\",\"url\":\"https://api.github.com/users/aturner-epcc\",\"avatar_url\":\"https://avatars.githubusercontent.com/u/1730441?\"},\"repo\":{\"id\":447222350,\"name\":\"EPCCed/2022-01-20_containers_online\",\"url\":\"https://api.github.com/repos/EPCCed/2022-01-20_containers_online\"},\"payload\":{\"ref\":\"fix/yaml_error\",\"ref_type\":\"branch\",\"master_branch\":\"master\",\"description\":null,\"pusher_type\":\"user\"},\"public\":true,\"created_at\":\"2022-01-12T13:09:56Z\",\"org\":{\"id\":14055861,\"login\":\"EPCCed\",\"gravatar_id\":\"\",\"url\":\"https://api.github.com/orgs/EPCCed\",\"avatar_url\":\"https://avatars.githubusercontent.com/u/14055861?\"}},{\"id\":\"19696951093\",\"type\":\"WatchEvent\",\"actor\":{\"id\":48597961,\"login\":\"FractaIism\",\"display_login\":\"FractaIism\",\"gravatar_id\":\"\",\"url\":\"https://api.github.com/users/FractaIism\",\"avatar_url\":\"https://avatars.githubusercontent.com/u/48597961?\"},\"repo\":{\"id\":31406241,\"name\":\"SilasX/git-upstage\",\"url\":\"https://api.github.com/repos/SilasX/git-upstage\"},\"payload\":{\"action\":\"started\"},\"public\":true,\"created_at\":\"2022-01-12T13:09:56Z\"},{\"id\":\"19696951078\",\"type\":\"PullRequestEvent\",\"actor\":{\"id\":4199709,\"login\":\"alalazo\",\"display_login\":\"alalazo\",\"gravatar_id\":\"\",\"url\":\"https://api.github.com/users/alalazo\",\"avatar_url\":\"https://avatars.githubusercontent.com/u/4199709?\"},\"repo\":{\"id\":15730865,\"name\":\"spack/spack\",\"url\":\"https://api.github.com/repos/spack/spack\"},\"payload\":{\"action\":\"closed\",\"number\":28262,\"pull_request\":{\"url\":\"https://api.github.com/repos/spack/spack/pulls/28262\",\"id\":814980056,\"node_id\":\"PR_kwDOAPAIsc4wk5vY\",\"html_url\":\"https://github.com/spack/spack/pull/28262\",\"diff_url\":\"https://github.com/spack/spack/pull/28262.diff\",\"patch_url\":\"https://github.com/spack/spack/pull/28262.patch\",\"issue_url\":\"https://api.github.com/repos/spack/spack/issues/28262\",\"number\":28262,\"state\":\"closed\",\"locked\":false,\"title\":\"poamsa: fix build errors for gcc10+\",\"user\":{\"login\":\"snehring\",\"id\":7978778,\"node_id\":\"MDQ6VXNlcjc5Nzg3Nzg=\",\"avatar_url\":\"https://avatars.githubusercontent.com/u/7978778?v=4\",\"gravatar_id\":\"\",\"url\":\"https://api.github.com/users/snehring\",\"html_url\":\"https://github.com/snehring\",\"followers_url\":\"https://api.github.com/users/snehring/followers\",\"following_url\":\"https://api.github.com/users/snehring/following{/other_user}\",\"gists_url\":\"https://api.github.com/users/snehring/gists{/gist_id}\",\"starred_url\":\"https://api.github.com/users/snehring/starred{/owner}{/repo}\",\"subscriptions_url\":\"https://api.github.com/users/snehring/subscriptions\",\"organizations_url\":\"https://api.github.com/users/snehring/orgs\",\"repos_url\":\"https://api.github.com/users/snehring/repos\",\"events_url\":\"https://api.github.com/users/snehring/events{/privacy}\",\"received_events_url\":\"https://api.github.com/users/snehring/received_events\",\"type\":\"User\",\"site_admin\":false},\"body\":\"Only two externs\\\\r\\\\nTo calm the screaming \\'piler\\\\r\\\\nI love build errors\",\"created_at\":\"2022-01-05T19:21:22Z\",\"updated_at\":\"2022-01-12T13:09:55Z\",\"closed_at\":\"2022-01-12T13:09:55Z\",\"merged_at\":\"2022-01-12T13:09:55Z\",\"merge_commit_sha\":\"640a4f7dcd236fb2658476989ba997922a3d4472\",\"assignee\":null,\"assignees\":[],\"requested_reviewers\":[],\"requested_teams\":[],\"labels\":[{\"id\":729584669,\"node_id\":\"MDU6TGFiZWw3Mjk1ODQ2Njk=\",\"url\":\"https://api.github.com/repos/spack/spack/labels/update-package\",\"name\":\"update-package\",\"color\":\"c68137\",\"default\":false,\"description\":null}],\"milestone\":null,\"draft\":false,\"commits_url\":\"https://api.github.com/repos/spack/spack/pulls/28262/commits\",\"review_comments_url\":\"https://api.github.com/repos/spack/spack/pulls/28262/comments\",\"review_comment_url\":\"https://api.github.com/repos/spack/spack/pulls/comments{/number}\",\"comments_url\":\"https://api.github.com/repos/spack/spack/issues/28262/comments\",\"statuses_url\":\"https://api.github.com/repos/spack/spack/statuses/5286a4e16a486fe575acdfdaa43410c6a6b59911\",\"head\":{\"label\":\"ResearchIT:bugfix/poamsa-gcc10-fix\",\"ref\":\"bugfix/poamsa-gcc10-fix\",\"sha\":\"5286a4e16a486fe575acdfdaa43410c6a6b59911\",\"user\":{\"login\":\"ResearchIT\",\"id\":9473694,\"node_id\":\"MDEyOk9yZ2FuaXphdGlvbjk0NzM2OTQ=\",\"avatar_url\":\"https://avatars.githubusercontent.com/u/9473694?v=4\",\"gravatar_id\":\"\",\"url\":\"https://api.github.com/users/ResearchIT\",\"html_url\":\"https://github.com/ResearchIT\",\"followers_url\":\"https://api.github.com/users/ResearchIT/followers\",\"following_url\":\"https://api.github.com/users/ResearchIT/following{/other_user}\",\"gists_url\":\"https://api.github.com/users/ResearchIT/gists{/gist_id}\",\"starred_url\":\"https://api.github.com/users/ResearchIT/starred{/owner}{/repo}\",\"subscriptions_url\":\"https://api.github.com/users/ResearchIT/subscriptions\",\"organizations_url\":\"https://api.github.com/users/ResearchIT/orgs\",\"repos_url\":\"https://api.github.com/users/ResearchIT/repos\",\"events_url\":\"https://api.github.com/users/ResearchIT/events{/privacy}\",\"received_events_url\":\"https://api.github.com/users/ResearchIT/received_events\",\"type\":\"Organization\",\"site_admin\":false},\"repo\":{\"id\":89616707,\"node_id\":\"MDEwOlJlcG9zaXRvcnk4OTYxNjcwNw==\",\"name\":\"spack\",\"full_name\":\"ResearchIT/spack\",\"private\":false,\"owner\":{\"login\":\"ResearchIT\",\"id\":9473694,\"node_id\":\"MDEyOk9yZ2FuaXphdGlvbjk0NzM2OTQ=\",\"avatar_url\":\"https://avatars.githubusercontent.com/u/9473694?v=4\",\"gravatar_id\":\"\",\"url\":\"https://api.github.com/users/ResearchIT\",\"html_url\":\"https://github.com/ResearchIT\",\"followers_url\":\"https://api.github.com/users/ResearchIT/followers\",\"following_url\":\"https://api.github.com/users/ResearchIT/following{/other_user}\",\"gists_url\":\"https://api.github.com/users/ResearchIT/gists{/gist_id}\",\"starred_url\":\"https://api.github.com/users/ResearchIT/starred{/owner}{/repo}\",\"subscriptions_url\":\"https://api.github.com/users/ResearchIT/subscriptions\",\"organizations_url\":\"https://api.github.com/users/ResearchIT/orgs\",\"repos_url\":\"https://api.github.com/users/ResearchIT/repos\",\"events_url\":\"https://api.github.com/users/ResearchIT/events{/privacy}\",\"received_events_url\":\"https://api.github.com/users/ResearchIT/received_events\",\"type\":\"Organization\",\"site_admin\":false},\"html_url\":\"https://github.com/ResearchIT/spack\",\"description\":\"A flexible package manager that supports multiple versions, configurations, platforms, and compilers.\",\"fork\":true,\"url\":\"https://api.github.com/repos/ResearchIT/spack\",\"forks_url\":\"https://api.github.com/repos/ResearchIT/spack/forks\",\"keys_url\":\"https://api.github.com/repos/ResearchIT/spack/keys{/key_id}\",\"collaborators_url\":\"https://api.github.com/repos/ResearchIT/spack/collaborators{/collaborator}\",\"teams_url\":\"https://api.github.com/repos/ResearchIT/spack/teams\",\"hooks_url\":\"https://api.github.com/repos/ResearchIT/spack/hooks\",\"issue_events_url\":\"https://api.github.com/repos/ResearchIT/spack/issues/events{/number}\",\"events_url\":\"https://api.github.com/repos/ResearchIT/spack/events\",\"assignees_url\":\"https://api.github.com/repos/ResearchIT/spack/assignees{/user}\",\"branches_url\":\"https://api.github.com/repos/ResearchIT/spack/branches{/branch}\",\"tags_url\":\"https://api.github.com/repos/ResearchIT/spack/tags\",\"blobs_url\":\"https://api.github.com/repos/ResearchIT/spack/git/blobs{/sha}\",\"git_tags_url\":\"https://api.github.com/repos/ResearchIT/spack/git/tags{/sha}\",\"git_refs_url\":\"https://api.github.com/repos/ResearchIT/spack/git/refs{/sha}\",\"trees_url\":\"https://api.github.com/repos/ResearchIT/spack/git/trees{/sha}\",\"statuses_url\":\"https://api.github.com/repos/ResearchIT/spack/statuses/{sha}\",\"languages_url\":\"https://api.github.com/repos/ResearchIT/spack/languages\",\"stargazers_url\":\"https://api.github.com/repos/ResearchIT/spack/stargazers\",\"contributors_url\":\"https://api.github.com/repos/ResearchIT/spack/contributors\",\"subscribers_url\":\"https://api.github.com/repos/ResearchIT/spack/subscribers\",\"subscription_url\":\"https://api.github.com/repos/ResearchIT/spack/subscription\",\"commits_url\":\"https://api.github.com/repos/ResearchIT/spack/commits{/sha}\",\"git_commits_url\":\"https://api.github.com/repos/ResearchIT/spack/git/commits{/sha}\",\"comments_url\":\"https://api.github.com/repos/ResearchIT/spack/comments{/number}\",\"issue_comment_url\":\"https://api.github.com/repos/ResearchIT/spack/issues/comments{/number}\",\"contents_url\":\"https://api.github.com/repos/ResearchIT/spack/contents/{+path}\",\"compare_url\":\"https://api.github.com/repos/ResearchIT/spack/compare/{base}...{head}\",\"merges_url\":\"https://api.github.com/repos/ResearchIT/spack/merges\",\"archive_url\":\"https://api.github.com/repos/ResearchIT/spack/{archive_format}{/ref}\",\"downloads_url\":\"https://api.github.com/repos/ResearchIT/spack/downloads\",\"issues_url\":\"https://api.github.com/repos/ResearchIT/spack/issues{/number}\",\"pulls_url\":\"https://api.github.com/repos/ResearchIT/spack/pulls{/number}\",\"milestones_url\":\"https://api.github.com/repos/ResearchIT/spack/milestones{/number}\",\"notifications_url\":\"https://api.github.com/repos/ResearchIT/spack/notifications{?since,all,participating}\",\"labels_url\":\"https://api.github.com/repos/ResearchIT/spack/labels{/name}\",\"releases_url\":\"https://api.github.com/repos/ResearchIT/spack/releases{/id}\",\"deployments_url\":\"https://api.github.com/repos/ResearchIT/spack/deployments\",\"created_at\":\"2017-04-27T16:12:20Z\",\"updated_at\":\"2022-01-06T21:33:43Z\",\"pushed_at\":\"2022-01-07T22:25:43Z\",\"git_url\":\"git://github.com/ResearchIT/spack.git\",\"ssh_url\":\"git@github.com:ResearchIT/spack.git\",\"clone_url\":\"https://github.com/ResearchIT/spack.git\",\"svn_url\":\"https://github.com/ResearchIT/spack\",\"homepage\":\"https://spack.io\",\"size\":151011,\"stargazers_count\":3,\"watchers_count\":3,\"language\":\"Python\",\"has_issues\":false,\"has_projects\":true,\"has_downloads\":true,\"has_wiki\":true,\"has_pages\":false,\"forks_count\":1,\"mirror_url\":null,\"archived\":false,\"disabled\":false,\"open_issues_count\":2,\"license\":{\"key\":\"other\",\"name\":\"Other\",\"spdx_id\":\"NOASSERTION\",\"url\":null,\"node_id\":\"MDc6TGljZW5zZTA=\"},\"allow_forking\":true,\"is_template\":false,\"topics\":[],\"visibility\":\"public\",\"forks\":1,\"open_issues\":2,\"watchers\":3,\"default_branch\":\"develop\"}},\"base\":{\"label\":\"spack:develop\",\"ref\":\"develop\",\"sha\":\"a4f0fbafbb7e60fb056e1bea8de924c9c2286e61\",\"user\":{\"login\":\"spack\",\"id\":25539161,\"node_id\":\"MDEyOk9yZ2FuaXphdGlvbjI1NTM5MTYx\",\"avatar_url\":\"https://avatars.githubusercontent.com/u/25539161?v=4\",\"gravatar_id\":\"\",\"url\":\"https://api.github.com/users/spack\",\"html_url\":\"https://github.com/spack\",\"followers_url\":\"https://api.github.com/users/spack/followers\",\"following_url\":\"https://api.github.com/users/spack/following{/other_user}\",\"gists_url\":\"https://api.github.com/users/spack/gists{/gist_id}\",\"starred_url\":\"https://api.github.com/users/spack/starred{/owner}{/repo}\",\"subscriptions_url\":\"https://api.github.com/users/spack/subscriptions\",\"organizations_url\":\"https://api.github.com/users/spack/orgs\",\"repos_url\":\"https://api.github.com/users/spack/repos\",\"events_url\":\"https://api.github.com/users/spack/events{/privacy}\",\"received_events_url\":\"https://api.github.com/users/spack/received_events\",\"type\":\"Organization\",\"site_admin\":false},\"repo\":{\"id\":15730865,\"node_id\":\"MDEwOlJlcG9zaXRvcnkxNTczMDg2NQ==\",\"name\":\"spack\",\"full_name\":\"spack/spack\",\"private\":false,\"owner\":{\"login\":\"spack\",\"id\":25539161,\"node_id\":\"MDEyOk9yZ2FuaXphdGlvbjI1NTM5MTYx\",\"avatar_url\":\"https://avatars.githubusercontent.com/u/25539161?v=4\",\"gravatar_id\":\"\",\"url\":\"https://api.github.com/users/spack\",\"html_url\":\"https://github.com/spack\",\"followers_url\":\"https://api.github.com/users/spack/followers\",\"following_url\":\"https://api.github.com/users/spack/following{/other_user}\",\"gists_url\":\"https://api.github.com/users/spack/gists{/gist_id}\",\"starred_url\":\"https://api.github.com/users/spack/starred{/owner}{/repo}\",\"subscriptions_url\":\"https://api.github.com/users/spack/subscriptions\",\"organizations_url\":\"https://api.github.com/users/spack/orgs\",\"repos_url\":\"https://api.github.com/users/spack/repos\",\"events_url\":\"https://api.github.com/users/spack/events{/privacy}\",\"received_events_url\":\"https://api.github.com/users/spack/received_events\",\"type\":\"Organization\",\"site_admin\":false},\"html_url\":\"https://github.com/spack/spack\",\"description\":\"A flexible package manager that supports multiple versions, configurations, platforms, and compilers.\",\"fork\":false,\"url\":\"https://api.github.com/repos/spack/spack\",\"forks_url\":\"https://api.github.com/repos/spack/spack/forks\",\"keys_url\":\"https://api.github.com/repos/spack/spack/keys{/key_id}\",\"collaborators_url\":\"https://api.github.com/repos/spack/spack/collaborators{/collaborator}\",\"teams_url\":\"https://api.github.com/repos/spack/spack/teams\",\"hooks_url\":\"https://api.github.com/repos/spack/spack/hooks\",\"issue_events_url\":\"https://api.github.com/repos/spack/spack/issues/events{/number}\",\"events_url\":\"https://api.github.com/repos/spack/spack/events\",\"assignees_url\":\"https://api.github.com/repos/spack/spack/assignees{/user}\",\"branches_url\":\"https://api.github.com/repos/spack/spack/branches{/branch}\",\"tags_url\":\"https://api.github.com/repos/spack/spack/tags\",\"blobs_url\":\"https://api.github.com/repos/spack/spack/git/blobs{/sha}\",\"git_tags_url\":\"https://api.github.com/repos/spack/spack/git/tags{/sha}\",\"git_refs_url\":\"https://api.github.com/repos/spack/spack/git/refs{/sha}\",\"trees_url\":\"https://api.github.com/repos/spack/spack/git/trees{/sha}\",\"statuses_url\":\"https://api.github.com/repos/spack/spack/statuses/{sha}\",\"languages_url\":\"https://api.github.com/repos/spack/spack/languages\",\"stargazers_url\":\"https://api.github.com/repos/spack/spack/stargazers\",\"contributors_url\":\"https://api.github.com/repos/spack/spack/contributors\",\"subscribers_url\":\"https://api.github.com/repos/spack/spack/subscribers\",\"subscription_url\":\"https://api.github.com/repos/spack/spack/subscription\",\"commits_url\":\"https://api.github.com/repos/spack/spack/commits{/sha}\",\"git_commits_url\":\"https://api.github.com/repos/spack/spack/git/commits{/sha}\",\"comments_url\":\"https://api.github.com/repos/spack/spack/comments{/number}\",\"issue_comment_url\":\"https://api.github.com/repos/spack/spack/issues/comments{/number}\",\"contents_url\":\"https://api.github.com/repos/spack/spack/contents/{+path}\",\"compare_url\":\"https://api.github.com/repos/spack/spack/compare/{base}...{head}\",\"merges_url\":\"https://api.github.com/repos/spack/spack/merges\",\"archive_url\":\"https://api.github.com/repos/spack/spack/{archive_format}{/ref}\",\"downloads_url\":\"https://api.github.com/repos/spack/spack/downloads\",\"issues_url\":\"https://api.github.com/repos/spack/spack/issues{/number}\",\"pulls_url\":\"https://api.github.com/repos/spack/spack/pulls{/number}\",\"milestones_url\":\"https://api.github.com/repos/spack/spack/milestones{/number}\",\"notifications_url\":\"https://api.github.com/repos/spack/spack/notifications{?since,all,participating}\",\"labels_url\":\"https://api.github.com/repos/spack/spack/labels{/name}\",\"releases_url\":\"https://api.github.com/repos/spack/spack/releases{/id}\",\"deployments_url\":\"https://api.github.com/repos/spack/spack/deployments\",\"created_at\":\"2014-01-08T09:22:12Z\",\"updated_at\":\"2022-01-12T02:21:24Z\",\"pushed_at\":\"2022-01-12T13:09:55Z\",\"git_url\":\"git://github.com/spack/spack.git\",\"ssh_url\":\"git@github.com:spack/spack.git\",\"clone_url\":\"https://github.com/spack/spack.git\",\"svn_url\":\"https://github.com/spack/spack\",\"homepage\":\"https://spack.io\",\"size\":155910,\"stargazers_count\":2462,\"watchers_count\":2462,\"language\":\"Python\",\"has_issues\":true,\"has_projects\":true,\"has_downloads\":true,\"has_wiki\":true,\"has_pages\":true,\"forks_count\":1516,\"mirror_url\":null,\"archived\":false,\"disabled\":false,\"open_issues_count\":2284,\"license\":{\"key\":\"other\",\"name\":\"Other\",\"spdx_id\":\"NOASSERTION\",\"url\":null,\"node_id\":\"MDc6TGljZW5zZTA=\"},\"allow_forking\":true,\"is_template\":false,\"topics\":[\"build-tools\",\"hpc\",\"linux\",\"macos\",\"package-manager\",\"python\",\"radiuss\",\"scientific-computing\",\"spack\"],\"visibility\":\"public\",\"forks\":1516,\"open_issues\":2284,\"watchers\":2462,\"default_branch\":\"develop\"}},\"_links\":{\"self\":{\"href\":\"https://api.github.com/repos/spack/spack/pulls/28262\"},\"html\":{\"href\":\"https://github.com/spack/spack/pull/28262\"},\"issue\":{\"href\":\"https://api.github.com/repos/spack/spack/issues/28262\"},\"comments\":{\"href\":\"https://api.github.com/repos/spack/spack/issues/28262/comments\"},\"review_comments\":{\"href\":\"https://api.github.com/repos/spack/spack/pulls/28262/comments\"},\"review_comment\":{\"href\":\"https://api.github.com/repos/spack/spack/pulls/comments{/number}\"},\"commits\":{\"href\":\"https://api.github.com/repos/spack/spack/pulls/28262/commits\"},\"statuses\":{\"href\":\"https://api.github.com/repos/spack/spack/statuses/5286a4e16a486fe575acdfdaa43410c6a6b59911\"}},\"author_association\":\"CONTRIBUTOR\",\"auto_merge\":null,\"active_lock_reason\":null,\"merged\":true,\"mergeable\":null,\"rebaseable\":null,\"mergeable_state\":\"unknown\",\"merged_by\":{\"login\":\"alalazo\",\"id\":4199709,\"node_id\":\"MDQ6VXNlcjQxOTk3MDk=\",\"avatar_url\":\"https://avatars.githubusercontent.com/u/4199709?v=4\",\"gravatar_id\":\"\",\"url\":\"https://api.github.com/users/alalazo\",\"html_url\":\"https://github.com/alalazo\",\"followers_url\":\"https://api.github.com/users/alalazo/followers\",\"following_url\":\"https://api.github.com/users/alalazo/following{/other_user}\",\"gists_url\":\"https://api.github.com/users/alalazo/gists{/gist_id}\",\"starred_url\":\"https://api.github.com/users/alalazo/starred{/owner}{/repo}\",\"subscriptions_url\":\"https://api.github.com/users/alalazo/subscriptions\",\"organizations_url\":\"https://api.github.com/users/alalazo/orgs\",\"repos_url\":\"https://api.github.com/users/alalazo/repos\",\"events_url\":\"https://api.github.com/users/alalazo/events{/privacy}\",\"received_events_url\":\"https://api.github.com/users/alalazo/received_events\",\"type\":\"User\",\"site_admin\":false},\"comments\":1,\"review_comments\":0,\"maintainer_can_modify\":false,\"commits\":1,\"additions\":4,\"deletions\":0,\"changed_files\":1}},\"public\":true,\"created_at\":\"2022-01-12T13:09:56Z\",\"org\":{\"id\":25539161,\"login\":\"spack\",\"gravatar_id\":\"\",\"url\":\"https://api.github.com/orgs/spack\",\"avatar_url\":\"https://avatars.githubusercontent.com/u/25539161?\"}},{\"id\":\"19696951056\",\"type\":\"PullRequestReviewEvent\",\"actor\":{\"id\":85810001,\"login\":\"dev-liro\",\"display_login\":\"dev-liro\",\"gravatar_id\":\"\",\"url\":\"https://api.github.com/users/dev-liro\",\"avatar_url\":\"https://avatars.githubusercontent.com/u/85810001?\"},\"repo\":{\"id\":334151939,\"name\":\"osscameroon/osscameroon-blog\",\"url\":\"https://api.github.com/repos/osscameroon/osscameroon-blog\"},\"payload\":{\"action\":\"created\",\"review\":{\"id\":850459499,\"node_id\":\"PRR_kwDOE-rBA84ysPtr\",\"user\":{\"login\":\"dev-liro\",\"id\":85810001,\"node_id\":\"MDQ6VXNlcjg1ODEwMDAx\",\"avatar_url\":\"https://avatars.githubusercontent.com/u/85810001?v=4\",\"gravatar_id\":\"\",\"url\":\"https://api.github.com/users/dev-liro\",\"html_url\":\"https://github.com/dev-liro\",\"followers_url\":\"https://api.github.com/users/dev-liro/followers\",\"following_url\":\"https://api.github.com/users/dev-liro/following{/other_user}\",\"gists_url\":\"https://api.github.com/users/dev-liro/gists{/gist_id}\",\"starred_url\":\"https://api.github.com/users/dev-liro/starred{/owner}{/repo}\",\"subscriptions_url\":\"https://api.github.com/users/dev-liro/subscriptions\",\"organizations_url\":\"https://api.github.com/users/dev-liro/orgs\",\"repos_url\":\"https://api.github.com/users/dev-liro/repos\",\"events_url\":\"https://api.github.com/users/dev-liro/events{/privacy}\",\"received_events_url\":\"https://api.github.com/users/dev-liro/received_events\",\"type\":\"User\",\"site_admin\":false},\"body\":null,\"commit_id\":\"7467a5174e10e7ba67eba15b18f2a936417b94a1\",\"submitted_at\":\"2022-01-12T13:09:55Z\",\"state\":\"commented\",\"html_url\":\"https://github.com/osscameroon/osscameroon-blog/pull/54#pullrequestreview-850459499\",\"pull_request_url\":\"https://api.github.com/repos/osscameroon/osscameroon-blog/pulls/54\",\"author_association\":\"CONTRIBUTOR\",\"_links\":{\"html\":{\"href\":\"https://github.com/osscameroon/osscameroon-blog/pull/54#pullrequestreview-850459499\"},\"pull_request\":{\"href\":\"https://api.github.com/repos/osscameroon/osscameroon-blog/pulls/54\"}}},\"pull_request\":{\"url\":\"https://api.github.com/repos/osscameroon/osscameroon-blog/pulls/54\",\"id\":818818079,\"node_id\":\"PR_kwDOE-rBA84wziwf\",\"html_url\":\"https://github.com/osscameroon/osscameroon-blog/pull/54\",\"diff_url\":\"https://github.com/osscameroon/osscameroon-blog/pull/54.diff\",\"patch_url\":\"https://github.com/osscameroon/osscameroon-blog/pull/54.patch\",\"issue_url\":\"https://api.github.com/repos/osscameroon/osscameroon-blog/issues/54\",\"number\":54,\"state\":\"open\",\"locked\":false,\"title\":\"feat: add Twitter post notification on new blog article\",\"user\":{\"login\":\"dev-liro\",\"id\":85810001,\"node_id\":\"MDQ6VXNlcjg1ODEwMDAx\",\"avatar_url\":\"https://avatars.githubusercontent.com/u/85810001?v=4\",\"gravatar_id\":\"\",\"url\":\"https://api.github.com/users/dev-liro\",\"html_url\":\"https://github.com/dev-liro\",\"followers_url\":\"https://api.github.com/users/dev-liro/followers\",\"following_url\":\"https://api.github.com/users/dev-liro/following{/other_user}\",\"gists_url\":\"https://api.github.com/users/dev-liro/gists{/gist_id}\",\"starred_url\":\"https://api.github.com/users/dev-liro/starred{/owner}{/repo}\",\"subscriptions_url\":\"https://api.github.com/users/dev-liro/subscriptions\",\"organizations_url\":\"https://api.github.com/users/dev-liro/orgs\",\"repos_url\":\"https://api.github.com/users/dev-liro/repos\",\"events_url\":\"https://api.github.com/users/dev-liro/events{/privacy}\",\"received_events_url\":\"https://api.github.com/users/dev-liro/received_events\",\"type\":\"User\",\"site_admin\":false},\"body\":\"I\\'m not exactly too sure about this commit, but could the maintainers test it please ? \",\"created_at\":\"2022-01-11T15:23:31Z\",\"updated_at\":\"2022-01-12T13:09:55Z\",\"closed_at\":null,\"merged_at\":null,\"merge_commit_sha\":\"c936990aad59c0773f961594766baf01aa7b3bb6\",\"assignee\":null,\"assignees\":[],\"requested_reviewers\":[{\"login\":\"elhmn\",\"id\":5704817,\"node_id\":\"MDQ6VXNlcjU3MDQ4MTc=\",\"avatar_url\":\"https://avatars.githubusercontent.com/u/5704817?v=4\",\"gravatar_id\":\"\",\"url\":\"https://api.github.com/users/elhmn\",\"html_url\":\"https://github.com/elhmn\",\"followers_url\":\"https://api.github.com/users/elhmn/followers\",\"following_url\":\"https://api.github.com/users/elhmn/following{/other_user}\",\"gists_url\":\"https://api.github.com/users/elhmn/gists{/gist_id}\",\"starred_url\":\"https://api.github.com/users/elhmn/starred{/owner}{/repo}\",\"subscriptions_url\":\"https://api.github.com/users/elhmn/subscriptions\",\"organizations_url\":\"https://api.github.com/users/elhmn/orgs\",\"repos_url\":\"https://api.github.com/users/elhmn/repos\",\"events_url\":\"https://api.github.com/users/elhmn/events{/privacy}\",\"received_events_url\":\"https://api.github.com/users/elhmn/received_events\",\"type\":\"User\",\"site_admin\":false},{\"login\":\"RMPR\",\"id\":23162145,\"node_id\":\"MDQ6VXNlcjIzMTYyMTQ1\",\"avatar_url\":\"https://avatars.githubusercontent.com/u/23162145?v=4\",\"gravatar_id\":\"\",\"url\":\"https://api.github.com/users/RMPR\",\"html_url\":\"https://github.com/RMPR\",\"followers_url\":\"https://api.github.com/users/RMPR/followers\",\"following_url\":\"https://api.github.com/users/RMPR/following{/other_user}\",\"gists_url\":\"https://api.github.com/users/RMPR/gists{/gist_id}\",\"starred_url\":\"https://api.github.com/users/RMPR/starred{/owner}{/repo}\",\"subscriptions_url\":\"https://api.github.com/users/RMPR/subscriptions\",\"organizations_url\":\"https://api.github.com/users/RMPR/orgs\",\"repos_url\":\"https://api.github.com/users/RMPR/repos\",\"events_url\":\"https://api.github.com/users/RMPR/events{/privacy}\",\"received_events_url\":\"https://api.github.com/users/RMPR/received_events\",\"type\":\"User\",\"site_admin\":false}],\"requested_teams\":[],\"labels\":[],\"milestone\":null,\"draft\":false,\"commits_url\":\"https://api.github.com/repos/osscameroon/osscameroon-blog/pulls/54/commits\",\"review_comments_url\":\"https://api.github.com/repos/osscameroon/osscameroon-blog/pulls/54/comments\",\"review_comment_url\":\"https://api.github.com/repos/osscameroon/osscameroon-blog/pulls/comments{/number}\",\"comments_url\":\"https://api.github.com/repos/osscameroon/osscameroon-blog/issues/54/comments\",\"statuses_url\":\"https://api.github.com/repos/osscameroon/osscameroon-blog/statuses/7467a5174e10e7ba67eba15b18f2a936417b94a1\",\"head\":{\"label\":\"dev-liro:liro\",\"ref\":\"liro\",\"sha\":\"7467a5174e10e7ba67eba15b18f2a936417b94a1\",\"user\":{\"login\":\"dev-liro\",\"id\":85810001,\"node_id\":\"MDQ6VXNlcjg1ODEwMDAx\",\"avatar_url\":\"https://avatars.githubusercontent.com/u/85810001?v=4\",\"gravatar_id\":\"\",\"url\":\"https://api.github.com/users/dev-liro\",\"html_url\":\"https://github.com/dev-liro\",\"followers_url\":\"https://api.github.com/users/dev-liro/followers\",\"following_url\":\"https://api.github.com/users/dev-liro/following{/other_user}\",\"gists_url\":\"https://api.github.com/users/dev-liro/gists{/gist_id}\",\"starred_url\":\"https://api.github.com/users/dev-liro/starred{/owner}{/repo}\",\"subscriptions_url\":\"https://api.github.com/users/dev-liro/subscriptions\",\"organizations_url\":\"https://api.github.com/users/dev-liro/orgs\",\"repos_url\":\"https://api.github.com/users/dev-liro/repos\",\"events_url\":\"https://api.github.com/users/dev-liro/events{/privacy}\",\"received_events_url\":\"https://api.github.com/users/dev-liro/received_events\",\"type\":\"User\",\"site_admin\":false},\"repo\":{\"id\":446447003,\"node_id\":\"R_kgDOGpw9mw\",\"name\":\"osscameroon-blog\",\"full_name\":\"dev-liro/osscameroon-blog\",\"private\":false,\"owner\":{\"login\":\"dev-liro\",\"id\":85810001,\"node_id\":\"MDQ6VXNlcjg1ODEwMDAx\",\"avatar_url\":\"https://avatars.githubusercontent.com/u/85810001?v=4\",\"gravatar_id\":\"\",\"url\":\"https://api.github.com/users/dev-liro\",\"html_url\":\"https://github.com/dev-liro\",\"followers_url\":\"https://api.github.com/users/dev-liro/followers\",\"following_url\":\"https://api.github.com/users/dev-liro/following{/other_user}\",\"gists_url\":\"https://api.github.com/users/dev-liro/gists{/gist_id}\",\"starred_url\":\"https://api.github.com/users/dev-liro/starred{/owner}{/repo}\",\"subscriptions_url\":\"https://api.github.com/users/dev-liro/subscriptions\",\"organizations_url\":\"https://api.github.com/users/dev-liro/orgs\",\"repos_url\":\"https://api.github.com/users/dev-liro/repos\",\"events_url\":\"https://api.github.com/users/dev-liro/events{/privacy}\",\"received_events_url\":\"https://api.github.com/users/dev-liro/received_events\",\"type\":\"User\",\"site_admin\":false},\"html_url\":\"https://github.com/dev-liro/osscameroon-blog\",\"description\":\"blog for osscameroon\",\"fork\":true,\"url\":\"https://api.github.com/repos/dev-liro/osscameroon-blog\",\"forks_url\":\"https://api.github.com/repos/dev-liro/osscameroon-blog/forks\",\"keys_url\":\"https://api.github.com/repos/dev-liro/osscameroon-blog/keys{/key_id}\",\"collaborators_url\":\"https://api.github.com/repos/dev-liro/osscameroon-blog/collaborators{/collaborator}\",\"teams_url\":\"https://api.github.com/repos/dev-liro/osscameroon-blog/teams\",\"hooks_url\":\"https://api.github.com/repos/dev-liro/osscameroon-blog/hooks\",\"issue_events_url\":\"https://api.github.com/repos/dev-liro/osscameroon-blog/issues/events{/number}\",\"events_url\":\"https://api.github.com/repos/dev-liro/osscameroon-blog/events\",\"assignees_url\":\"https://api.github.com/repos/dev-liro/osscameroon-blog/assignees{/user}\",\"branches_url\":\"https://api.github.com/repos/dev-liro/osscameroon-blog/branches{/branch}\",\"tags_url\":\"https://api.github.com/repos/dev-liro/osscameroon-blog/tags\",\"blobs_url\":\"https://api.github.com/repos/dev-liro/osscameroon-blog/git/blobs{/sha}\",\"git_tags_url\":\"https://api.github.com/repos/dev-liro/osscameroon-blog/git/tags{/sha}\",\"git_refs_url\":\"https://api.github.com/repos/dev-liro/osscameroon-blog/git/refs{/sha}\",\"trees_url\":\"https://api.github.com/repos/dev-liro/osscameroon-blog/git/trees{/sha}\",\"statuses_url\":\"https://api.github.com/repos/dev-liro/osscameroon-blog/statuses/{sha}\",\"languages_url\":\"https://api.github.com/repos/dev-liro/osscameroon-blog/languages\",\"stargazers_url\":\"https://api.github.com/repos/dev-liro/osscameroon-blog/stargazers\",\"contributors_url\":\"https://api.github.com/repos/dev-liro/osscameroon-blog/contributors\",\"subscribers_url\":\"https://api.github.com/repos/dev-liro/osscameroon-blog/subscribers\",\"subscription_url\":\"https://api.github.com/repos/dev-liro/osscameroon-blog/subscription\",\"commits_url\":\"https://api.github.com/repos/dev-liro/osscameroon-blog/commits{/sha}\",\"git_commits_url\":\"https://api.github.com/repos/dev-liro/osscameroon-blog/git/commits{/sha}\",\"comments_url\":\"https://api.github.com/repos/dev-liro/osscameroon-blog/comments{/number}\",\"issue_comment_url\":\"https://api.github.com/repos/dev-liro/osscameroon-blog/issues/comments{/number}\",\"contents_url\":\"https://api.github.com/repos/dev-liro/osscameroon-blog/contents/{+path}\",\"compare_url\":\"https://api.github.com/repos/dev-liro/osscameroon-blog/compare/{base}...{head}\",\"merges_url\":\"https://api.github.com/repos/dev-liro/osscameroon-blog/merges\",\"archive_url\":\"https://api.github.com/repos/dev-liro/osscameroon-blog/{archive_format}{/ref}\",\"downloads_url\":\"https://api.github.com/repos/dev-liro/osscameroon-blog/downloads\",\"issues_url\":\"https://api.github.com/repos/dev-liro/osscameroon-blog/issues{/number}\",\"pulls_url\":\"https://api.github.com/repos/dev-liro/osscameroon-blog/pulls{/number}\",\"milestones_url\":\"https://api.github.com/repos/dev-liro/osscameroon-blog/milestones{/number}\",\"notifications_url\":\"https://api.github.com/repos/dev-liro/osscameroon-blog/notifications{?since,all,participating}\",\"labels_url\":\"https://api.github.com/repos/dev-liro/osscameroon-blog/labels{/name}\",\"releases_url\":\"https://api.github.com/repos/dev-liro/osscameroon-blog/releases{/id}\",\"deployments_url\":\"https://api.github.com/repos/dev-liro/osscameroon-blog/deployments\",\"created_at\":\"2022-01-10T14:04:15Z\",\"updated_at\":\"2022-01-11T15:10:31Z\",\"pushed_at\":\"2022-01-11T15:21:29Z\",\"git_url\":\"git://github.com/dev-liro/osscameroon-blog.git\",\"ssh_url\":\"git@github.com:dev-liro/osscameroon-blog.git\",\"clone_url\":\"https://github.com/dev-liro/osscameroon-blog.git\",\"svn_url\":\"https://github.com/dev-liro/osscameroon-blog\",\"homepage\":\"https://blog.osscameroon.com\",\"size\":4112,\"stargazers_count\":0,\"watchers_count\":0,\"language\":\"HTML\",\"has_issues\":false,\"has_projects\":true,\"has_downloads\":true,\"has_wiki\":true,\"has_pages\":false,\"forks_count\":0,\"mirror_url\":null,\"archived\":false,\"disabled\":false,\"open_issues_count\":0,\"license\":{\"key\":\"gpl-3.0\",\"name\":\"GNU General Public License v3.0\",\"spdx_id\":\"GPL-3.0\",\"url\":\"https://api.github.com/licenses/gpl-3.0\",\"node_id\":\"MDc6TGljZW5zZTk=\"},\"allow_forking\":true,\"is_template\":false,\"topics\":[],\"visibility\":\"public\",\"forks\":0,\"open_issues\":0,\"watchers\":0,\"default_branch\":\"main\"}},\"base\":{\"label\":\"osscameroon:main\",\"ref\":\"main\",\"sha\":\"aec0a2938978e9fc060f98ba86c9eb3a835b41cb\",\"user\":{\"login\":\"osscameroon\",\"id\":73784866,\"node_id\":\"MDEyOk9yZ2FuaXphdGlvbjczNzg0ODY2\",\"avatar_url\":\"https://avatars.githubusercontent.com/u/73784866?v=4\",\"gravatar_id\":\"\",\"url\":\"https://api.github.com/users/osscameroon\",\"html_url\":\"https://github.com/osscameroon\",\"followers_url\":\"https://api.github.com/users/osscameroon/followers\",\"following_url\":\"https://api.github.com/users/osscameroon/following{/other_user}\",\"gists_url\":\"https://api.github.com/users/osscameroon/gists{/gist_id}\",\"starred_url\":\"https://api.github.com/users/osscameroon/starred{/owner}{/repo}\",\"subscriptions_url\":\"https://api.github.com/users/osscameroon/subscriptions\",\"organizations_url\":\"https://api.github.com/users/osscameroon/orgs\",\"repos_url\":\"https://api.github.com/users/osscameroon/repos\",\"events_url\":\"https://api.github.com/users/osscameroon/events{/privacy}\",\"received_events_url\":\"https://api.github.com/users/osscameroon/received_events\",\"type\":\"Organization\",\"site_admin\":false},\"repo\":{\"id\":334151939,\"node_id\":\"MDEwOlJlcG9zaXRvcnkzMzQxNTE5Mzk=\",\"name\":\"osscameroon-blog\",\"full_name\":\"osscameroon/osscameroon-blog\",\"private\":false,\"owner\":{\"login\":\"osscameroon\",\"id\":73784866,\"node_id\":\"MDEyOk9yZ2FuaXphdGlvbjczNzg0ODY2\",\"avatar_url\":\"https://avatars.githubusercontent.com/u/73784866?v=4\",\"gravatar_id\":\"\",\"url\":\"https://api.github.com/users/osscameroon\",\"html_url\":\"https://github.com/osscameroon\",\"followers_url\":\"https://api.github.com/users/osscameroon/followers\",\"following_url\":\"https://api.github.com/users/osscameroon/following{/other_user}\",\"gists_url\":\"https://api.github.com/users/osscameroon/gists{/gist_id}\",\"starred_url\":\"https://api.github.com/users/osscameroon/starred{/owner}{/repo}\",\"subscriptions_url\":\"https://api.github.com/users/osscameroon/subscriptions\",\"organizations_url\":\"https://api.github.com/users/osscameroon/orgs\",\"repos_url\":\"https://api.github.com/users/osscameroon/repos\",\"events_url\":\"https://api.github.com/users/osscameroon/events{/privacy}\",\"received_events_url\":\"https://api.github.com/users/osscameroon/received_events\",\"type\":\"Organization\",\"site_admin\":false},\"html_url\":\"https://github.com/osscameroon/osscameroon-blog\",\"description\":\"blog for osscameroon\",\"fork\":false,\"url\":\"https://api.github.com/repos/osscameroon/osscameroon-blog\",\"forks_url\":\"https://api.github.com/repos/osscameroon/osscameroon-blog/forks\",\"keys_url\":\"https://api.github.com/repos/osscameroon/osscameroon-blog/keys{/key_id}\",\"collaborators_url\":\"https://api.github.com/repos/osscameroon/osscameroon-blog/collaborators{/collaborator}\",\"teams_url\":\"https://api.github.com/repos/osscameroon/osscameroon-blog/teams\",\"hooks_url\":\"https://api.github.com/repos/osscameroon/osscameroon-blog/hooks\",\"issue_events_url\":\"https://api.github.com/repos/osscameroon/osscameroon-blog/issues/events{/number}\",\"events_url\":\"https://api.github.com/repos/osscameroon/osscameroon-blog/events\",\"assignees_url\":\"https://api.github.com/repos/osscameroon/osscameroon-blog/assignees{/user}\",\"branches_url\":\"https://api.github.com/repos/osscameroon/osscameroon-blog/branches{/branch}\",\"tags_url\":\"https://api.github.com/repos/osscameroon/osscameroon-blog/tags\",\"blobs_url\":\"https://api.github.com/repos/osscameroon/osscameroon-blog/git/blobs{/sha}\",\"git_tags_url\":\"https://api.github.com/repos/osscameroon/osscameroon-blog/git/tags{/sha}\",\"git_refs_url\":\"https://api.github.com/repos/osscameroon/osscameroon-blog/git/refs{/sha}\",\"trees_url\":\"https://api.github.com/repos/osscameroon/osscameroon-blog/git/trees{/sha}\",\"statuses_url\":\"https://api.github.com/repos/osscameroon/osscameroon-blog/statuses/{sha}\",\"languages_url\":\"https://api.github.com/repos/osscameroon/osscameroon-blog/languages\",\"stargazers_url\":\"https://api.github.com/repos/osscameroon/osscameroon-blog/stargazers\",\"contributors_url\":\"https://api.github.com/repos/osscameroon/osscameroon-blog/contributors\",\"subscribers_url\":\"https://api.github.com/repos/osscameroon/osscameroon-blog/subscribers\",\"subscription_url\":\"https://api.github.com/repos/osscameroon/osscameroon-blog/subscription\",\"commits_url\":\"https://api.github.com/repos/osscameroon/osscameroon-blog/commits{/sha}\",\"git_commits_url\":\"https://api.github.com/repos/osscameroon/osscameroon-blog/git/commits{/sha}\",\"comments_url\":\"https://api.github.com/repos/osscameroon/osscameroon-blog/comments{/number}\",\"issue_comment_url\":\"https://api.github.com/repos/osscameroon/osscameroon-blog/issues/comments{/number}\",\"contents_url\":\"https://api.github.com/repos/osscameroon/osscameroon-blog/contents/{+path}\",\"compare_url\":\"https://api.github.com/repos/osscameroon/osscameroon-blog/compare/{base}...{head}\",\"merges_url\":\"https://api.github.com/repos/osscameroon/osscameroon-blog/merges\",\"archive_url\":\"https://api.github.com/repos/osscameroon/osscameroon-blog/{archive_format}{/ref}\",\"downloads_url\":\"https://api.github.com/repos/osscameroon/osscameroon-blog/downloads\",\"issues_url\":\"https://api.github.com/repos/osscameroon/osscameroon-blog/issues{/number}\",\"pulls_url\":\"https://api.github.com/repos/osscameroon/osscameroon-blog/pulls{/number}\",\"milestones_url\":\"https://api.github.com/repos/osscameroon/osscameroon-blog/milestones{/number}\",\"notifications_url\":\"https://api.github.com/repos/osscameroon/osscameroon-blog/notifications{?since,all,participating}\",\"labels_url\":\"https://api.github.com/repos/osscameroon/osscameroon-blog/labels{/name}\",\"releases_url\":\"https://api.github.com/repos/osscameroon/osscameroon-blog/releases{/id}\",\"deployments_url\":\"https://api.github.com/repos/osscameroon/osscameroon-blog/deployments\",\"created_at\":\"2021-01-29T13:21:30Z\",\"updated_at\":\"2022-01-10T15:24:09Z\",\"pushed_at\":\"2022-01-11T15:23:31Z\",\"git_url\":\"git://github.com/osscameroon/osscameroon-blog.git\",\"ssh_url\":\"git@github.com:osscameroon/osscameroon-blog.git\",\"clone_url\":\"https://github.com/osscameroon/osscameroon-blog.git\",\"svn_url\":\"https://github.com/osscameroon/osscameroon-blog\",\"homepage\":\"https://blog.osscameroon.com\",\"size\":4106,\"stargazers_count\":12,\"watchers_count\":12,\"language\":\"HTML\",\"has_issues\":true,\"has_projects\":true,\"has_downloads\":true,\"has_wiki\":true,\"has_pages\":false,\"forks_count\":26,\"mirror_url\":null,\"archived\":false,\"disabled\":false,\"open_issues_count\":7,\"license\":{\"key\":\"gpl-3.0\",\"name\":\"GNU General Public License v3.0\",\"spdx_id\":\"GPL-3.0\",\"url\":\"https://api.github.com/licenses/gpl-3.0\",\"node_id\":\"MDc6TGljZW5zZTk=\"},\"allow_forking\":true,\"is_template\":false,\"topics\":[\"blog\",\"hugo\"],\"visibility\":\"public\",\"forks\":26,\"open_issues\":7,\"watchers\":12,\"default_branch\":\"main\"}},\"_links\":{\"self\":{\"href\":\"https://api.github.com/repos/osscameroon/osscameroon-blog/pulls/54\"},\"html\":{\"href\":\"https://github.com/osscameroon/osscameroon-blog/pull/54\"},\"issue\":{\"href\":\"https://api.github.com/repos/osscameroon/osscameroon-blog/issues/54\"},\"comments\":{\"href\":\"https://api.github.com/repos/osscameroon/osscameroon-blog/issues/54/comments\"},\"review_comments\":{\"href\":\"https://api.github.com/repos/osscameroon/osscameroon-blog/pulls/54/comments\"},\"review_comment\":{\"href\":\"https://api.github.com/repos/osscameroon/osscameroon-blog/pulls/comments{/number}\"},\"commits\":{\"href\":\"https://api.github.com/repos/osscameroon/osscameroon-blog/pulls/54/commits\"},\"statuses\":{\"href\":\"https://api.github.com/repos/osscameroon/osscameroon-blog/statuses/7467a5174e10e7ba67eba15b18f2a936417b94a1\"}},\"author_association\":\"CONTRIBUTOR\",\"auto_merge\":null,\"active_lock_reason\":null}},\"public\":true,\"created_at\":\"2022-01-12T13:09:56Z\",\"org\":{\"id\":73784866,\"login\":\"osscameroon\",\"gravatar_id\":\"\",\"url\":\"https://api.github.com/orgs/osscameroon\",\"avatar_url\":\"https://avatars.githubusercontent.com/u/73784866?\"}}]'"
      ]
     },
     "execution_count": 58,
     "metadata": {},
     "output_type": "execute_result"
    }
   ],
   "source": [
    "data.text"
   ]
  },
  {
   "cell_type": "code",
   "execution_count": 73,
   "id": "73a78cd7",
   "metadata": {},
   "outputs": [],
   "source": [
    "data = requests.get('http://api.open-notify.org/astros.json')\n",
    "response = data.json()"
   ]
  },
  {
   "cell_type": "code",
   "execution_count": 74,
   "id": "b49d81d1",
   "metadata": {},
   "outputs": [
    {
     "data": {
      "text/plain": [
       "{'people': [{'craft': 'ISS', 'name': 'Mark Vande Hei'},\n",
       "  {'craft': 'ISS', 'name': 'Pyotr Dubrov'},\n",
       "  {'craft': 'ISS', 'name': 'Anton Shkaplerov'},\n",
       "  {'craft': 'Shenzhou 13', 'name': 'Zhai Zhigang'},\n",
       "  {'craft': 'Shenzhou 13', 'name': 'Wang Yaping'},\n",
       "  {'craft': 'Shenzhou 13', 'name': 'Ye Guangfu'},\n",
       "  {'craft': 'ISS', 'name': 'Raja Chari'},\n",
       "  {'craft': 'ISS', 'name': 'Tom Marshburn'},\n",
       "  {'craft': 'ISS', 'name': 'Kayla Barron'},\n",
       "  {'craft': 'ISS', 'name': 'Matthias Maurer'}],\n",
       " 'message': 'success',\n",
       " 'number': 10}"
      ]
     },
     "execution_count": 74,
     "metadata": {},
     "output_type": "execute_result"
    }
   ],
   "source": [
    "response"
   ]
  },
  {
   "cell_type": "code",
   "execution_count": 77,
   "id": "69ea0cb7",
   "metadata": {},
   "outputs": [
    {
     "data": {
      "text/plain": [
       "[{'craft': 'ISS', 'name': 'Mark Vande Hei'},\n",
       " {'craft': 'ISS', 'name': 'Pyotr Dubrov'},\n",
       " {'craft': 'ISS', 'name': 'Anton Shkaplerov'},\n",
       " {'craft': 'Shenzhou 13', 'name': 'Zhai Zhigang'},\n",
       " {'craft': 'Shenzhou 13', 'name': 'Wang Yaping'},\n",
       " {'craft': 'Shenzhou 13', 'name': 'Ye Guangfu'},\n",
       " {'craft': 'ISS', 'name': 'Raja Chari'},\n",
       " {'craft': 'ISS', 'name': 'Tom Marshburn'},\n",
       " {'craft': 'ISS', 'name': 'Kayla Barron'},\n",
       " {'craft': 'ISS', 'name': 'Matthias Maurer'}]"
      ]
     },
     "execution_count": 77,
     "metadata": {},
     "output_type": "execute_result"
    }
   ],
   "source": [
    "response['people']"
   ]
  },
  {
   "cell_type": "code",
   "execution_count": 78,
   "id": "4b2a191b",
   "metadata": {},
   "outputs": [],
   "source": [
    "df = pd.DataFrame(response['people'], columns=['craft','name'])"
   ]
  },
  {
   "cell_type": "code",
   "execution_count": 79,
   "id": "8355e9b9",
   "metadata": {},
   "outputs": [
    {
     "data": {
      "text/html": [
       "<div>\n",
       "<style scoped>\n",
       "    .dataframe tbody tr th:only-of-type {\n",
       "        vertical-align: middle;\n",
       "    }\n",
       "\n",
       "    .dataframe tbody tr th {\n",
       "        vertical-align: top;\n",
       "    }\n",
       "\n",
       "    .dataframe thead th {\n",
       "        text-align: right;\n",
       "    }\n",
       "</style>\n",
       "<table border=\"1\" class=\"dataframe\">\n",
       "  <thead>\n",
       "    <tr style=\"text-align: right;\">\n",
       "      <th></th>\n",
       "      <th>craft</th>\n",
       "      <th>name</th>\n",
       "    </tr>\n",
       "  </thead>\n",
       "  <tbody>\n",
       "    <tr>\n",
       "      <th>0</th>\n",
       "      <td>ISS</td>\n",
       "      <td>Mark Vande Hei</td>\n",
       "    </tr>\n",
       "    <tr>\n",
       "      <th>1</th>\n",
       "      <td>ISS</td>\n",
       "      <td>Pyotr Dubrov</td>\n",
       "    </tr>\n",
       "    <tr>\n",
       "      <th>2</th>\n",
       "      <td>ISS</td>\n",
       "      <td>Anton Shkaplerov</td>\n",
       "    </tr>\n",
       "    <tr>\n",
       "      <th>3</th>\n",
       "      <td>Shenzhou 13</td>\n",
       "      <td>Zhai Zhigang</td>\n",
       "    </tr>\n",
       "    <tr>\n",
       "      <th>4</th>\n",
       "      <td>Shenzhou 13</td>\n",
       "      <td>Wang Yaping</td>\n",
       "    </tr>\n",
       "    <tr>\n",
       "      <th>5</th>\n",
       "      <td>Shenzhou 13</td>\n",
       "      <td>Ye Guangfu</td>\n",
       "    </tr>\n",
       "    <tr>\n",
       "      <th>6</th>\n",
       "      <td>ISS</td>\n",
       "      <td>Raja Chari</td>\n",
       "    </tr>\n",
       "    <tr>\n",
       "      <th>7</th>\n",
       "      <td>ISS</td>\n",
       "      <td>Tom Marshburn</td>\n",
       "    </tr>\n",
       "    <tr>\n",
       "      <th>8</th>\n",
       "      <td>ISS</td>\n",
       "      <td>Kayla Barron</td>\n",
       "    </tr>\n",
       "    <tr>\n",
       "      <th>9</th>\n",
       "      <td>ISS</td>\n",
       "      <td>Matthias Maurer</td>\n",
       "    </tr>\n",
       "  </tbody>\n",
       "</table>\n",
       "</div>"
      ],
      "text/plain": [
       "         craft              name\n",
       "0          ISS    Mark Vande Hei\n",
       "1          ISS      Pyotr Dubrov\n",
       "2          ISS  Anton Shkaplerov\n",
       "3  Shenzhou 13      Zhai Zhigang\n",
       "4  Shenzhou 13       Wang Yaping\n",
       "5  Shenzhou 13        Ye Guangfu\n",
       "6          ISS        Raja Chari\n",
       "7          ISS     Tom Marshburn\n",
       "8          ISS      Kayla Barron\n",
       "9          ISS   Matthias Maurer"
      ]
     },
     "execution_count": 79,
     "metadata": {},
     "output_type": "execute_result"
    }
   ],
   "source": [
    "df"
   ]
  },
  {
   "cell_type": "code",
   "execution_count": 80,
   "id": "843972f3",
   "metadata": {},
   "outputs": [],
   "source": [
    "df.to_excel('astronauts.xlsx')"
   ]
  },
  {
   "cell_type": "markdown",
   "id": "ff1e536d",
   "metadata": {},
   "source": [
    "# EMAILS"
   ]
  },
  {
   "cell_type": "code",
   "execution_count": 81,
   "id": "dcff5740",
   "metadata": {},
   "outputs": [],
   "source": [
    "import smtplib #pip install smtplib"
   ]
  },
  {
   "cell_type": "code",
   "execution_count": 99,
   "id": "420e7ea6",
   "metadata": {},
   "outputs": [],
   "source": [
    "server = smtplib.SMTP_SSL('mail-host-address:port')"
   ]
  },
  {
   "cell_type": "code",
   "execution_count": 105,
   "id": "5d875863",
   "metadata": {},
   "outputs": [
    {
     "data": {
      "text/plain": [
       "(220,\n",
       " b'world-371.fr.planethoster.net ESMTP Exim 4.94.2 #2 Wed, 12 Jan 2022 14:49:12 +0100\\nWe do not authorize the use of this system to transport unsolicited,\\nand/or bulk e-mail.')"
      ]
     },
     "execution_count": 105,
     "metadata": {},
     "output_type": "execute_result"
    }
   ],
   "source": [
    "server.connect('mail-host-address:port')"
   ]
  },
  {
   "cell_type": "code",
   "execution_count": 106,
   "id": "235275cd",
   "metadata": {},
   "outputs": [
    {
     "data": {
      "text/plain": [
       "(235, b'Authentication succeeded')"
      ]
     },
     "execution_count": 106,
     "metadata": {},
     "output_type": "execute_result"
    }
   ],
   "source": [
    "server.login('email-username','password')"
   ]
  },
  {
   "cell_type": "code",
   "execution_count": 107,
   "id": "7bb3988f",
   "metadata": {},
   "outputs": [],
   "source": [
    "msg = \"The weather today is\"\n",
    "\n",
    "# You can insert here HTML code as well to structure content, add images, logos, buttons\n",
    "# exactly like things you see when you receive an order confirmation email or ad. "
   ]
  },
  {
   "cell_type": "code",
   "execution_count": null,
   "id": "7659509c",
   "metadata": {},
   "outputs": [],
   "source": [
    "#ANOTHER WAY\n",
    "\n",
    "\n",
    "#from email.message import EmailMessage\n",
    "\n",
    "#msg = EmailMessage()\n",
    "#msg.set_content('This is my message')\n",
    "\n",
    "#msg['Subject'] = 'Subject'\n",
    "#msg['From'] = \"\"\n",
    "#msg['To'] = \"\""
   ]
  },
  {
   "cell_type": "code",
   "execution_count": null,
   "id": "8e95467c",
   "metadata": {},
   "outputs": [],
   "source": [
    "#ANOTHER WAY\n",
    "\n",
    "#import smtplib\n",
    "#from email.mime.multipart import MIMEMultipart\n",
    "#msg = MIMEMultipart()\n",
    "#msg['From'] = 'sender_address'\n",
    "#msg['To'] = 'reciver_address'\n",
    "#msg['Subject'] = 'your_subject'\n",
    "#server = smtplib.SMTP('localhost')\n",
    "#server.sendmail('from_addr','to_addr',msg.as_string())"
   ]
  },
  {
   "cell_type": "code",
   "execution_count": 108,
   "id": "a699f393",
   "metadata": {},
   "outputs": [
    {
     "data": {
      "text/plain": [
       "{}"
      ]
     },
     "execution_count": 108,
     "metadata": {},
     "output_type": "execute_result"
    }
   ],
   "source": [
    "server.sendmail('sender', ['receiver'], msg)"
   ]
  },
  {
   "cell_type": "code",
   "execution_count": 109,
   "id": "fc782045",
   "metadata": {},
   "outputs": [
    {
     "data": {
      "text/plain": [
       "(221, b'world-371.fr.planethoster.net closing connection')"
      ]
     },
     "execution_count": 109,
     "metadata": {},
     "output_type": "execute_result"
    }
   ],
   "source": [
    "server.quit()"
   ]
  },
  {
   "cell_type": "markdown",
   "id": "4ce294d6",
   "metadata": {},
   "source": [
    "# TEXT MESSAGES"
   ]
  },
  {
   "cell_type": "code",
   "execution_count": 111,
   "id": "74332378",
   "metadata": {},
   "outputs": [
    {
     "name": "stdout",
     "output_type": "stream",
     "text": [
      "Collecting twilio\n",
      "  Downloading twilio-7.4.0-py2.py3-none-any.whl (1.3 MB)\n",
      "Requirement already satisfied: requests>=2.0.0 in c:\\users\\rbaud\\anaconda3\\lib\\site-packages (from twilio) (2.25.1)\n",
      "Requirement already satisfied: pytz in c:\\users\\rbaud\\anaconda3\\lib\\site-packages (from twilio) (2021.1)\n",
      "Collecting PyJWT<3.0.0,>=2.0.0\n",
      "  Downloading PyJWT-2.3.0-py3-none-any.whl (16 kB)\n",
      "Requirement already satisfied: idna<3,>=2.5 in c:\\users\\rbaud\\anaconda3\\lib\\site-packages (from requests>=2.0.0->twilio) (2.10)\n",
      "Requirement already satisfied: certifi>=2017.4.17 in c:\\users\\rbaud\\anaconda3\\lib\\site-packages (from requests>=2.0.0->twilio) (2020.12.5)\n",
      "Requirement already satisfied: chardet<5,>=3.0.2 in c:\\users\\rbaud\\anaconda3\\lib\\site-packages (from requests>=2.0.0->twilio) (4.0.0)\n",
      "Requirement already satisfied: urllib3<1.27,>=1.21.1 in c:\\users\\rbaud\\anaconda3\\lib\\site-packages (from requests>=2.0.0->twilio) (1.26.4)\n",
      "Installing collected packages: PyJWT, twilio\n",
      "Successfully installed PyJWT-2.3.0 twilio-7.4.0\n",
      "Note: you may need to restart the kernel to use updated packages.\n"
     ]
    }
   ],
   "source": [
    "pip install twilio"
   ]
  },
  {
   "cell_type": "code",
   "execution_count": 112,
   "id": "f0459f83",
   "metadata": {},
   "outputs": [],
   "source": [
    "from twilio.rest import Client"
   ]
  },
  {
   "cell_type": "code",
   "execution_count": 113,
   "id": "a39881b7",
   "metadata": {},
   "outputs": [],
   "source": [
    "client = Client('account id', 'auth token')"
   ]
  },
  {
   "cell_type": "code",
   "execution_count": 114,
   "id": "ee18593c",
   "metadata": {},
   "outputs": [],
   "source": [
    "message = client.messages.create(\n",
    "            body = 'test' ,\n",
    "            from_= 'twilio phone number provided', \n",
    "            to='person that receives the sms'\n",
    "\n",
    ")"
   ]
  },
  {
   "cell_type": "markdown",
   "id": "58816274",
   "metadata": {},
   "source": [
    "# POSTGRESQL"
   ]
  },
  {
   "cell_type": "code",
   "execution_count": 1,
   "id": "72cc0316",
   "metadata": {},
   "outputs": [
    {
     "name": "stdout",
     "output_type": "stream",
     "text": [
      "Collecting psycopg2\n",
      "  Downloading psycopg2-2.9.3-cp38-cp38-win_amd64.whl (1.1 MB)\n",
      "Installing collected packages: psycopg2\n",
      "Successfully installed psycopg2-2.9.3\n",
      "Note: you may need to restart the kernel to use updated packages.\n"
     ]
    }
   ],
   "source": [
    "pip install psycopg2-binary"
   ]
  },
  {
   "cell_type": "code",
   "execution_count": 16,
   "id": "b4b71110",
   "metadata": {},
   "outputs": [],
   "source": [
    "import psycopg2 \n",
    "\n",
    "profile_id = 1 \n",
    "name = 'Romain'\n",
    "position = 'udemy instructor'\n",
    "link = 'https;///C.com'\n",
    "\n",
    "connection = psycopg2.connect(\n",
    "        user =\"\",\n",
    "        password =\"\", \n",
    "        host=\"localhost\",\n",
    "        port=5432, \n",
    "        database= \"profiles\" \n",
    ")\n",
    "cursor = connection.cursor()\n",
    "cursor.execute(\"\"\"\n",
    "INSERT INTO profiles (id, name, position, link) VALUES (%s, '%s', '%s', '%s'); \"\"\" % (int(profile_id), name, position, link))\n",
    "connection.commit()\n",
    "cursor.close()\n",
    "\n",
    "\n",
    "connection.close()"
   ]
  },
  {
   "cell_type": "code",
   "execution_count": 5,
   "id": "61aa0bb7",
   "metadata": {},
   "outputs": [
    {
     "name": "stdout",
     "output_type": "stream",
     "text": [
      "[(1, 'Romain', 'udemy instructor', 'https;///C.com'), (8239600, 'Delphine ABDOULVAID', 'Current: DRH at GROUPE METALPE', 'https://www.linkedin.com/in/delphine-abdoulvaid-00449a141'), (2632229, 'Franck GOUBET', 'Current: DRH at ELSAN', 'https://www.linkedin.com/in/franck-goubet'), (7980715, 'Elsa Thabart', 'Current: DRH at Synergie', 'https://www.linkedin.com/in/elsa-thabart-0014671a'), (9029164, 'Angélique TERREAUX', 'Current: DRH Groupe at Laboratoire Aguettant', 'https://www.linkedin.com/in/ang%C3%A9lique-terreaux-5b1045173'), (7013303, 'Penelope Cadoret', 'Current: DRH at ilek', 'https://www.linkedin.com/in/penelopecadoret'), (3422888, 'Sonja PADAY-STILLER', 'Current: DRH at TechnoAlpin', 'https://www.linkedin.com/in/sonja-paday-stiller-29572022'), (117937, 'Clémence MOUREAUX', 'Current: DRH at SEMCODA', 'https://www.linkedin.com/in/clemence-mussio-moureaux'), (75006, 'Lucie Lhomme', 'Current: DRH at BLOOM', 'https://www.linkedin.com/in/lucie-lhommerecrutement'), (9239081, 'Lafon Coline', 'Current: DRH at Citeo', 'https://www.linkedin.com/in/lafon-coline-b1836480'), (6956064, 'Karine COURANT', 'Current: DRH at Cabinet Beau de Loménie', 'https://www.linkedin.com/in/karine-courant-18283349')]\n"
     ]
    }
   ],
   "source": [
    "import psycopg2 \n",
    "\n",
    "profile_id = 1 \n",
    "name = 'Romain'\n",
    "position = 'udemy instructor'\n",
    "link = 'https;///C.com'\n",
    "\n",
    "connection = psycopg2.connect(\n",
    "        user =\"\",\n",
    "        password =\"\", \n",
    "        host=\"localhost\",\n",
    "        port=5432, \n",
    "        database= \"profiles\" \n",
    ")\n",
    "cursor = connection.cursor()\n",
    "cursor.execute(\"\"\"SELECT * FROM profiles; \"\"\")\n",
    "data = cursor.fetchall()\n",
    "cursor.close()\n",
    "\n",
    "\n",
    "connection.close()\n",
    "\n",
    "\n",
    "print(data)"
   ]
  },
  {
   "cell_type": "code",
   "execution_count": 8,
   "id": "d8c66d8d",
   "metadata": {},
   "outputs": [],
   "source": [
    "df = pd.DataFrame(data, columns=['id','name','position','link'])"
   ]
  },
  {
   "cell_type": "code",
   "execution_count": 7,
   "id": "b0872aa1",
   "metadata": {},
   "outputs": [],
   "source": [
    "import pandas as pd"
   ]
  },
  {
   "cell_type": "code",
   "execution_count": 9,
   "id": "f8ee946f",
   "metadata": {},
   "outputs": [
    {
     "data": {
      "text/html": [
       "<div>\n",
       "<style scoped>\n",
       "    .dataframe tbody tr th:only-of-type {\n",
       "        vertical-align: middle;\n",
       "    }\n",
       "\n",
       "    .dataframe tbody tr th {\n",
       "        vertical-align: top;\n",
       "    }\n",
       "\n",
       "    .dataframe thead th {\n",
       "        text-align: right;\n",
       "    }\n",
       "</style>\n",
       "<table border=\"1\" class=\"dataframe\">\n",
       "  <thead>\n",
       "    <tr style=\"text-align: right;\">\n",
       "      <th></th>\n",
       "      <th>id</th>\n",
       "      <th>name</th>\n",
       "      <th>position</th>\n",
       "      <th>link</th>\n",
       "    </tr>\n",
       "  </thead>\n",
       "  <tbody>\n",
       "    <tr>\n",
       "      <th>0</th>\n",
       "      <td>1</td>\n",
       "      <td>Romain</td>\n",
       "      <td>udemy instructor</td>\n",
       "      <td>https;///C.com</td>\n",
       "    </tr>\n",
       "    <tr>\n",
       "      <th>1</th>\n",
       "      <td>8239600</td>\n",
       "      <td>Delphine ABDOULVAID</td>\n",
       "      <td>Current: DRH at GROUPE METALPE</td>\n",
       "      <td>https://www.linkedin.com/in/delphine-abdoulvai...</td>\n",
       "    </tr>\n",
       "    <tr>\n",
       "      <th>2</th>\n",
       "      <td>2632229</td>\n",
       "      <td>Franck GOUBET</td>\n",
       "      <td>Current: DRH at ELSAN</td>\n",
       "      <td>https://www.linkedin.com/in/franck-goubet</td>\n",
       "    </tr>\n",
       "    <tr>\n",
       "      <th>3</th>\n",
       "      <td>7980715</td>\n",
       "      <td>Elsa Thabart</td>\n",
       "      <td>Current: DRH at Synergie</td>\n",
       "      <td>https://www.linkedin.com/in/elsa-thabart-0014671a</td>\n",
       "    </tr>\n",
       "    <tr>\n",
       "      <th>4</th>\n",
       "      <td>9029164</td>\n",
       "      <td>Angélique TERREAUX</td>\n",
       "      <td>Current: DRH Groupe at Laboratoire Aguettant</td>\n",
       "      <td>https://www.linkedin.com/in/ang%C3%A9lique-ter...</td>\n",
       "    </tr>\n",
       "    <tr>\n",
       "      <th>5</th>\n",
       "      <td>7013303</td>\n",
       "      <td>Penelope Cadoret</td>\n",
       "      <td>Current: DRH at ilek</td>\n",
       "      <td>https://www.linkedin.com/in/penelopecadoret</td>\n",
       "    </tr>\n",
       "    <tr>\n",
       "      <th>6</th>\n",
       "      <td>3422888</td>\n",
       "      <td>Sonja PADAY-STILLER</td>\n",
       "      <td>Current: DRH at TechnoAlpin</td>\n",
       "      <td>https://www.linkedin.com/in/sonja-paday-stille...</td>\n",
       "    </tr>\n",
       "    <tr>\n",
       "      <th>7</th>\n",
       "      <td>117937</td>\n",
       "      <td>Clémence MOUREAUX</td>\n",
       "      <td>Current: DRH at SEMCODA</td>\n",
       "      <td>https://www.linkedin.com/in/clemence-mussio-mo...</td>\n",
       "    </tr>\n",
       "    <tr>\n",
       "      <th>8</th>\n",
       "      <td>75006</td>\n",
       "      <td>Lucie Lhomme</td>\n",
       "      <td>Current: DRH at BLOOM</td>\n",
       "      <td>https://www.linkedin.com/in/lucie-lhommerecrut...</td>\n",
       "    </tr>\n",
       "    <tr>\n",
       "      <th>9</th>\n",
       "      <td>9239081</td>\n",
       "      <td>Lafon Coline</td>\n",
       "      <td>Current: DRH at Citeo</td>\n",
       "      <td>https://www.linkedin.com/in/lafon-coline-b1836480</td>\n",
       "    </tr>\n",
       "    <tr>\n",
       "      <th>10</th>\n",
       "      <td>6956064</td>\n",
       "      <td>Karine COURANT</td>\n",
       "      <td>Current: DRH at Cabinet Beau de Loménie</td>\n",
       "      <td>https://www.linkedin.com/in/karine-courant-182...</td>\n",
       "    </tr>\n",
       "  </tbody>\n",
       "</table>\n",
       "</div>"
      ],
      "text/plain": [
       "         id                 name  \\\n",
       "0         1               Romain   \n",
       "1   8239600  Delphine ABDOULVAID   \n",
       "2   2632229        Franck GOUBET   \n",
       "3   7980715         Elsa Thabart   \n",
       "4   9029164   Angélique TERREAUX   \n",
       "5   7013303     Penelope Cadoret   \n",
       "6   3422888  Sonja PADAY-STILLER   \n",
       "7    117937    Clémence MOUREAUX   \n",
       "8     75006         Lucie Lhomme   \n",
       "9   9239081         Lafon Coline   \n",
       "10  6956064       Karine COURANT   \n",
       "\n",
       "                                        position  \\\n",
       "0                               udemy instructor   \n",
       "1                 Current: DRH at GROUPE METALPE   \n",
       "2                          Current: DRH at ELSAN   \n",
       "3                       Current: DRH at Synergie   \n",
       "4   Current: DRH Groupe at Laboratoire Aguettant   \n",
       "5                           Current: DRH at ilek   \n",
       "6                    Current: DRH at TechnoAlpin   \n",
       "7                        Current: DRH at SEMCODA   \n",
       "8                          Current: DRH at BLOOM   \n",
       "9                          Current: DRH at Citeo   \n",
       "10       Current: DRH at Cabinet Beau de Loménie   \n",
       "\n",
       "                                                 link  \n",
       "0                                      https;///C.com  \n",
       "1   https://www.linkedin.com/in/delphine-abdoulvai...  \n",
       "2           https://www.linkedin.com/in/franck-goubet  \n",
       "3   https://www.linkedin.com/in/elsa-thabart-0014671a  \n",
       "4   https://www.linkedin.com/in/ang%C3%A9lique-ter...  \n",
       "5         https://www.linkedin.com/in/penelopecadoret  \n",
       "6   https://www.linkedin.com/in/sonja-paday-stille...  \n",
       "7   https://www.linkedin.com/in/clemence-mussio-mo...  \n",
       "8   https://www.linkedin.com/in/lucie-lhommerecrut...  \n",
       "9   https://www.linkedin.com/in/lafon-coline-b1836480  \n",
       "10  https://www.linkedin.com/in/karine-courant-182...  "
      ]
     },
     "execution_count": 9,
     "metadata": {},
     "output_type": "execute_result"
    }
   ],
   "source": [
    "df"
   ]
  },
  {
   "cell_type": "code",
   "execution_count": null,
   "id": "c74edc4a",
   "metadata": {},
   "outputs": [],
   "source": []
  },
  {
   "cell_type": "code",
   "execution_count": null,
   "id": "103091ed",
   "metadata": {},
   "outputs": [],
   "source": []
  }
 ],
 "metadata": {
  "kernelspec": {
   "display_name": "Python 3",
   "language": "python",
   "name": "python3"
  },
  "language_info": {
   "codemirror_mode": {
    "name": "ipython",
    "version": 3
   },
   "file_extension": ".py",
   "mimetype": "text/x-python",
   "name": "python",
   "nbconvert_exporter": "python",
   "pygments_lexer": "ipython3",
   "version": "3.8.8"
  }
 },
 "nbformat": 4,
 "nbformat_minor": 5
}
